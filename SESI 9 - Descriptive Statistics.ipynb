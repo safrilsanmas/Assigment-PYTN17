{
 "cells": [
  {
   "cell_type": "markdown",
   "id": "7a0ccec4-1c13-4cea-a9f1-064f384101f2",
   "metadata": {},
   "source": [
    "## Calculating Descriptive Statistics"
   ]
  },
  {
   "cell_type": "code",
   "execution_count": 1,
   "id": "c79b0214-dd75-4170-9b34-66f443aea50f",
   "metadata": {
    "tags": []
   },
   "outputs": [],
   "source": [
    "import math\n",
    "import statistics\n",
    "import numpy as np\n",
    "import scipy.stats\n",
    "import pandas as pd"
   ]
  },
  {
   "cell_type": "code",
   "execution_count": 2,
   "id": "da83315b-b026-45a1-a23b-fdfab2375a25",
   "metadata": {
    "tags": []
   },
   "outputs": [
    {
     "name": "stdout",
     "output_type": "stream",
     "text": [
      "[8.0, 1, 2.5, 4, 28.0]\n",
      "[8.0, 1, 2.5, nan, 4, 28.0]\n"
     ]
    }
   ],
   "source": [
    "x = [8.0, 1, 2.5, 4, 28.0]\n",
    "x_with_nan = [8.0, 1, 2.5,math.nan, 4, 28.0]\n",
    "print(x)\n",
    "print(x_with_nan)"
   ]
  },
  {
   "cell_type": "code",
   "execution_count": 3,
   "id": "47e8c5b4-9936-4313-b8a0-70c7dcf227ed",
   "metadata": {
    "tags": []
   },
   "outputs": [
    {
     "name": "stdout",
     "output_type": "stream",
     "text": [
      "[ 8.   1.   2.5  4.  28. ]\n",
      "[ 8.   1.   2.5  nan  4.  28. ]\n",
      "0     8.0\n",
      "1     1.0\n",
      "2     2.5\n",
      "3     NaN\n",
      "4     4.0\n",
      "5    28.0\n",
      "dtype: float64\n"
     ]
    }
   ],
   "source": [
    "y, y_with_nan = np.array(x), np.array(x_with_nan)\n",
    "z, z_with_nan = pd.Series(x), pd.Series(x_with_nan)\n",
    "print(y)\n",
    "print(y_with_nan)\n",
    "print(z_with_nan)"
   ]
  },
  {
   "cell_type": "markdown",
   "id": "df215a03-7a7a-444a-8636-6845ca433cb9",
   "metadata": {},
   "source": [
    "## Measures of Central"
   ]
  },
  {
   "cell_type": "markdown",
   "id": "c0669e5f-6427-4319-92b3-5c4a3195fe0a",
   "metadata": {},
   "source": [
    "### Mean"
   ]
  },
  {
   "cell_type": "code",
   "execution_count": 4,
   "id": "c1340ddf-5b9d-44e5-95ab-42eb7ee06f48",
   "metadata": {
    "tags": []
   },
   "outputs": [
    {
     "data": {
      "text/plain": [
       "8.7"
      ]
     },
     "execution_count": 4,
     "metadata": {},
     "output_type": "execute_result"
    }
   ],
   "source": [
    "mean_ = sum(x)/len(x)\n",
    "mean_"
   ]
  },
  {
   "cell_type": "code",
   "execution_count": 5,
   "id": "736f9602-9829-490b-b4cf-ac7f2f762a3a",
   "metadata": {
    "tags": []
   },
   "outputs": [
    {
     "name": "stdout",
     "output_type": "stream",
     "text": [
      "8.7\n"
     ]
    }
   ],
   "source": [
    "mean_ = statistics.mean(x)\n",
    "print(mean_)"
   ]
  },
  {
   "cell_type": "code",
   "execution_count": 6,
   "id": "d8bde9a7-1102-4fed-a60e-45051d17019c",
   "metadata": {
    "tags": []
   },
   "outputs": [
    {
     "name": "stdout",
     "output_type": "stream",
     "text": [
      "nan\n"
     ]
    }
   ],
   "source": [
    "mean_ = statistics.mean(x_with_nan)\n",
    "print(mean_)"
   ]
  },
  {
   "cell_type": "code",
   "execution_count": 7,
   "id": "52ce221c-b704-4956-b291-4164691e32b9",
   "metadata": {
    "tags": []
   },
   "outputs": [
    {
     "data": {
      "text/plain": [
       "8.7"
      ]
     },
     "execution_count": 7,
     "metadata": {},
     "output_type": "execute_result"
    }
   ],
   "source": [
    "mean_ = np.mean(y)\n",
    "mean_"
   ]
  },
  {
   "cell_type": "code",
   "execution_count": 8,
   "id": "5ea66f6f-9acf-45c3-9f6b-5ce5c3046e14",
   "metadata": {
    "tags": []
   },
   "outputs": [
    {
     "data": {
      "text/plain": [
       "numpy.ndarray"
      ]
     },
     "execution_count": 8,
     "metadata": {},
     "output_type": "execute_result"
    }
   ],
   "source": [
    "type(y)"
   ]
  },
  {
   "cell_type": "code",
   "execution_count": 9,
   "id": "1d5892ae-af91-439e-a042-204bf31691a4",
   "metadata": {
    "tags": []
   },
   "outputs": [
    {
     "data": {
      "text/plain": [
       "8.7"
      ]
     },
     "execution_count": 9,
     "metadata": {},
     "output_type": "execute_result"
    }
   ],
   "source": [
    "mean_ = y.mean()\n",
    "mean_"
   ]
  },
  {
   "cell_type": "code",
   "execution_count": 10,
   "id": "b818b1ce-ef8b-48ec-b8f4-86f78ffa577e",
   "metadata": {
    "tags": []
   },
   "outputs": [
    {
     "name": "stdout",
     "output_type": "stream",
     "text": [
      "nan\n",
      "nan\n"
     ]
    }
   ],
   "source": [
    "print(np.mean(y_with_nan))\n",
    "print(y_with_nan.mean())"
   ]
  },
  {
   "cell_type": "markdown",
   "id": "067c70e0-92fd-4fcc-8280-9cf99c3897fd",
   "metadata": {},
   "source": [
    "mengabaikan nilai nan"
   ]
  },
  {
   "cell_type": "code",
   "execution_count": 11,
   "id": "7edd54e4-fba9-41dd-b39b-04c5357c9c20",
   "metadata": {
    "tags": []
   },
   "outputs": [
    {
     "data": {
      "text/plain": [
       "8.7"
      ]
     },
     "execution_count": 11,
     "metadata": {},
     "output_type": "execute_result"
    }
   ],
   "source": [
    "np.nanmean(y_with_nan)"
   ]
  },
  {
   "cell_type": "markdown",
   "id": "e664e101-3478-49da-bb19-e57816ae8c30",
   "metadata": {},
   "source": [
    "pd.Series objects juga mempunyai method .mean()"
   ]
  },
  {
   "cell_type": "code",
   "execution_count": 12,
   "id": "5cbb0fa6-ff8d-4978-a872-876498b7b0d1",
   "metadata": {
    "tags": []
   },
   "outputs": [
    {
     "data": {
      "text/plain": [
       "pandas.core.series.Series"
      ]
     },
     "execution_count": 12,
     "metadata": {},
     "output_type": "execute_result"
    }
   ],
   "source": [
    "type(z)"
   ]
  },
  {
   "cell_type": "code",
   "execution_count": 13,
   "id": "75992966-52e9-4ccf-ac37-ce722a0f250a",
   "metadata": {
    "tags": []
   },
   "outputs": [
    {
     "data": {
      "text/plain": [
       "8.7"
      ]
     },
     "execution_count": 13,
     "metadata": {},
     "output_type": "execute_result"
    }
   ],
   "source": [
    "mean_ = z.mean()\n",
    "mean_"
   ]
  },
  {
   "cell_type": "markdown",
   "id": "66534f4a-3297-433d-9b8a-084b9b218538",
   "metadata": {},
   "source": [
    "mean() dari pandas mengabaikan nilai nan secara default:"
   ]
  },
  {
   "cell_type": "code",
   "execution_count": 14,
   "id": "a0cd0597-6870-4bba-ab08-d548521522d9",
   "metadata": {
    "tags": []
   },
   "outputs": [
    {
     "data": {
      "text/plain": [
       "8.7"
      ]
     },
     "execution_count": 14,
     "metadata": {},
     "output_type": "execute_result"
    }
   ],
   "source": [
    "z_with_nan.mean()"
   ]
  },
  {
   "cell_type": "code",
   "execution_count": 15,
   "id": "f3ff6242-a267-4d9c-be06-5bdb91545b9b",
   "metadata": {
    "tags": []
   },
   "outputs": [
    {
     "data": {
      "text/plain": [
       "8.7"
      ]
     },
     "execution_count": 15,
     "metadata": {},
     "output_type": "execute_result"
    }
   ],
   "source": [
    "z_with_nan.mean(skipna=True)"
   ]
  },
  {
   "cell_type": "markdown",
   "id": "5efec219-5d32-4532-9acf-1506d3ddcd17",
   "metadata": {},
   "source": [
    "### Weighted Mean"
   ]
  },
  {
   "cell_type": "code",
   "execution_count": 16,
   "id": "f7029d0e-8a30-4fd1-a673-75c7d4a5bcd7",
   "metadata": {
    "tags": []
   },
   "outputs": [
    {
     "data": {
      "text/plain": [
       "4.8"
      ]
     },
     "execution_count": 16,
     "metadata": {},
     "output_type": "execute_result"
    }
   ],
   "source": [
    "0.2 * 2 + 0.5 * 4 + 0.3 * 8"
   ]
  },
  {
   "cell_type": "code",
   "execution_count": 18,
   "id": "a4b3c0e1-ff1a-45dd-97c1-4fb1f4a1eed0",
   "metadata": {
    "tags": []
   },
   "outputs": [
    {
     "name": "stdout",
     "output_type": "stream",
     "text": [
      "6.95\n",
      "6.95\n"
     ]
    }
   ],
   "source": [
    "x = [8.0, 1, 2.5, 4, 28.0]\n",
    "w = [0.1, 0.2, 0.3, 0.25, 0.15]\n",
    "\n",
    "wmean1 = sum(w[i] * x[i] for i in range(len(x))) / sum(w)\n",
    "print(wmean1)\n",
    "\n",
    "wmean2 = sum(x_ * w_ for (x_, w_) in zip (x, w)) / sum(w)\n",
    "print(wmean2)"
   ]
  },
  {
   "cell_type": "code",
   "execution_count": 19,
   "id": "920ba7fd-21bc-4f51-b1b9-22c911969158",
   "metadata": {
    "tags": []
   },
   "outputs": [
    {
     "name": "stdout",
     "output_type": "stream",
     "text": [
      "6.95\n",
      "6.95\n"
     ]
    }
   ],
   "source": [
    "y, z, w = np.array(x), pd.Series(x), np.array(w)\n",
    "\n",
    "wmean = np.average(y, weights=w)\n",
    "print(wmean)\n",
    "\n",
    "wmean = np.average(z, weights=w)\n",
    "print(wmean)"
   ]
  },
  {
   "cell_type": "markdown",
   "id": "602dff86-cb13-4a4c-9fe0-31e1b62382c5",
   "metadata": {},
   "source": [
    "hasilnya sama dengan kasus implementasi Python pure. metode ini juga dapat digunakan pada list dan tuples."
   ]
  },
  {
   "cell_type": "markdown",
   "id": "872c1fa4-b00c-4643-a2e9-54569e3196a3",
   "metadata": {
    "tags": []
   },
   "source": [
    "solusi lain adalah dengan menggunakan element-wise produc w * y dengan np.sum() atau sum()"
   ]
  },
  {
   "cell_type": "code",
   "execution_count": 20,
   "id": "e2b4f178-709c-45b1-873e-57f716749319",
   "metadata": {
    "tags": []
   },
   "outputs": [
    {
     "data": {
      "text/plain": [
       "6.95"
      ]
     },
     "execution_count": 20,
     "metadata": {},
     "output_type": "execute_result"
    }
   ],
   "source": [
    "(w * y).sum() / w.sum()"
   ]
  },
  {
   "cell_type": "markdown",
   "id": "00156f2d-58ff-4259-b07f-740a7918dd34",
   "metadata": {},
   "source": [
    "### Harmonic Mean"
   ]
  },
  {
   "cell_type": "markdown",
   "id": "bfe22b77-1f9f-471e-aa39-52e5940ab5f2",
   "metadata": {},
   "source": [
    "salah satu varian dari implementasi Python pure dari harmonic mena adalah di bawah ini:"
   ]
  },
  {
   "cell_type": "code",
   "execution_count": 21,
   "id": "da525921-f514-4150-837d-52045190eb3a",
   "metadata": {
    "tags": []
   },
   "outputs": [
    {
     "data": {
      "text/plain": [
       "2.7613412228796843"
      ]
     },
     "execution_count": 21,
     "metadata": {},
     "output_type": "execute_result"
    }
   ],
   "source": [
    "hmean = len(x) / sum(1 / item for item in x)\n",
    "hmean"
   ]
  },
  {
   "cell_type": "markdown",
   "id": "ff949564-736e-4771-98c1-c0577e1c93ea",
   "metadata": {},
   "source": [
    "library harmonic mean"
   ]
  },
  {
   "cell_type": "code",
   "execution_count": 22,
   "id": "1c7eddc7-cf86-45a8-84b3-430b99d11a9a",
   "metadata": {
    "tags": []
   },
   "outputs": [
    {
     "data": {
      "text/plain": [
       "2.7613412228796843"
      ]
     },
     "execution_count": 22,
     "metadata": {},
     "output_type": "execute_result"
    }
   ],
   "source": [
    "scipy.stats.hmean(y)"
   ]
  },
  {
   "cell_type": "code",
   "execution_count": 23,
   "id": "22e675bf-35f8-4b05-bdcd-fda1a0ec5d17",
   "metadata": {
    "tags": []
   },
   "outputs": [
    {
     "data": {
      "text/plain": [
       "2.7613412228796843"
      ]
     },
     "execution_count": 23,
     "metadata": {},
     "output_type": "execute_result"
    }
   ],
   "source": [
    "scipy.stats.hmean(z)"
   ]
  },
  {
   "cell_type": "markdown",
   "id": "95303b11-2b9d-4782-9a4b-ae5a856d7790",
   "metadata": {},
   "source": [
    "### Geometric Mean"
   ]
  },
  {
   "cell_type": "code",
   "execution_count": 24,
   "id": "1490ddbf-c8de-44cd-93d0-fd84bd778e6e",
   "metadata": {
    "tags": []
   },
   "outputs": [
    {
     "data": {
      "text/plain": [
       "4.677885674856041"
      ]
     },
     "execution_count": 24,
     "metadata": {},
     "output_type": "execute_result"
    }
   ],
   "source": [
    "gmean = 1\n",
    "\n",
    "for item in x:\n",
    "    gmean *= item\n",
    "    \n",
    "gmean **= 1/ len(x)\n",
    "gmean"
   ]
  },
  {
   "cell_type": "markdown",
   "id": "a5553988-e960-4884-96f9-45523fda1f70",
   "metadata": {},
   "source": [
    "kita juga bisa mendapatkan geometric mean dengan cipy.stats.gmean ():"
   ]
  },
  {
   "cell_type": "code",
   "execution_count": 25,
   "id": "37dcdebe-65bc-4a10-873c-e8da9fd9ff96",
   "metadata": {
    "tags": []
   },
   "outputs": [
    {
     "data": {
      "text/plain": [
       "4.67788567485604"
      ]
     },
     "execution_count": 25,
     "metadata": {},
     "output_type": "execute_result"
    }
   ],
   "source": [
    "scipy.stats.gmean(y)"
   ]
  },
  {
   "cell_type": "code",
   "execution_count": 26,
   "id": "985875cc-e22e-44a1-8d1e-b1fb5ee8dad4",
   "metadata": {
    "tags": []
   },
   "outputs": [
    {
     "data": {
      "text/plain": [
       "4.67788567485604"
      ]
     },
     "execution_count": 26,
     "metadata": {},
     "output_type": "execute_result"
    }
   ],
   "source": [
    "scipy.stats.gmean(z)"
   ]
  },
  {
   "cell_type": "markdown",
   "id": "6df1248f-9600-49d3-90bf-5fbcdfbc83a4",
   "metadata": {},
   "source": [
    "### Median"
   ]
  },
  {
   "cell_type": "code",
   "execution_count": 27,
   "id": "357aecde-466e-4e59-9b17-dd5e07923661",
   "metadata": {
    "tags": []
   },
   "outputs": [
    {
     "data": {
      "text/plain": [
       "4"
      ]
     },
     "execution_count": 27,
     "metadata": {},
     "output_type": "execute_result"
    }
   ],
   "source": [
    "n = len(x)\n",
    "if n % 2:\n",
    "    median_ = sorted(x)[round(0.5*(n-1))]\n",
    "else:\n",
    "    x_ord, index = sorted(x), round(0.5 * n)\n",
    "    median_ = 0.5 * (x_ord[index-1] + x_ord[index])\n",
    "    \n",
    "median_"
   ]
  },
  {
   "cell_type": "code",
   "execution_count": 28,
   "id": "328ee9a8-9b2f-4469-ad90-f3872689f66f",
   "metadata": {
    "tags": []
   },
   "outputs": [
    {
     "data": {
      "text/plain": [
       "[8.0, 1, 2.5, 4, 28.0]"
      ]
     },
     "execution_count": 28,
     "metadata": {},
     "output_type": "execute_result"
    }
   ],
   "source": [
    "x"
   ]
  },
  {
   "cell_type": "code",
   "execution_count": 29,
   "id": "195e4f78-5669-419a-a2ec-2db70e0881fb",
   "metadata": {
    "tags": []
   },
   "outputs": [
    {
     "data": {
      "text/plain": [
       "2.5"
      ]
     },
     "execution_count": 29,
     "metadata": {},
     "output_type": "execute_result"
    }
   ],
   "source": [
    "statistics.median_low(x[:-1])"
   ]
  },
  {
   "cell_type": "code",
   "execution_count": 30,
   "id": "f464a9f3-64f9-436c-8c2a-239a746beeae",
   "metadata": {
    "tags": []
   },
   "outputs": [
    {
     "data": {
      "text/plain": [
       "4"
      ]
     },
     "execution_count": 30,
     "metadata": {},
     "output_type": "execute_result"
    }
   ],
   "source": [
    "statistics.median_high(x[:-1])"
   ]
  },
  {
   "cell_type": "code",
   "execution_count": 31,
   "id": "762b06e7-479c-4b60-807b-c8f2abdc16ca",
   "metadata": {
    "tags": []
   },
   "outputs": [
    {
     "name": "stdout",
     "output_type": "stream",
     "text": [
      "6.0\n",
      "4\n",
      "8.0\n"
     ]
    }
   ],
   "source": [
    "print(statistics.median(x_with_nan))\n",
    "print(statistics.median_low(x_with_nan))\n",
    "print(statistics.median_high(x_with_nan))"
   ]
  },
  {
   "cell_type": "code",
   "execution_count": 32,
   "id": "5ba5d8ef-b723-4116-a5c1-7ef50243c914",
   "metadata": {
    "tags": []
   },
   "outputs": [
    {
     "name": "stdout",
     "output_type": "stream",
     "text": [
      "4.0\n"
     ]
    }
   ],
   "source": [
    "median_ = np.median(y)\n",
    "print(median_)"
   ]
  },
  {
   "cell_type": "code",
   "execution_count": 33,
   "id": "1c5af5f5-bf41-46c7-a4f1-2ddbd4da87e5",
   "metadata": {
    "tags": []
   },
   "outputs": [
    {
     "name": "stdout",
     "output_type": "stream",
     "text": [
      "3.25\n"
     ]
    }
   ],
   "source": [
    "median_ = np.median(y[:-1])\n",
    "print(median_)"
   ]
  },
  {
   "cell_type": "markdown",
   "id": "0f09c049-5318-4991-9042-ec8cd30950e0",
   "metadata": {},
   "source": [
    "### Mode"
   ]
  },
  {
   "cell_type": "code",
   "execution_count": 34,
   "id": "559d8485-b5d0-43c4-83cd-7cf6b79cdf62",
   "metadata": {
    "tags": []
   },
   "outputs": [
    {
     "data": {
      "text/plain": [
       "2"
      ]
     },
     "execution_count": 34,
     "metadata": {},
     "output_type": "execute_result"
    }
   ],
   "source": [
    "u = [2, 3, 2, 8, 12]\n",
    "v = [12, 15, 12, 15, 21, 15, 12]\n",
    "\n",
    "mode_ = max((u.count(item), item) for item in set(u))[1]\n",
    "mode_"
   ]
  },
  {
   "cell_type": "code",
   "execution_count": 35,
   "id": "3d7296a3-676e-4ba8-8d21-7e323241c957",
   "metadata": {
    "tags": []
   },
   "outputs": [
    {
     "data": {
      "text/plain": [
       "2"
      ]
     },
     "execution_count": 35,
     "metadata": {},
     "output_type": "execute_result"
    }
   ],
   "source": [
    "mode_ = statistics.mode(u)\n",
    "mode_"
   ]
  },
  {
   "cell_type": "code",
   "execution_count": 36,
   "id": "83f81f19-a5eb-4388-af26-85503cbdd7c8",
   "metadata": {
    "tags": []
   },
   "outputs": [
    {
     "name": "stderr",
     "output_type": "stream",
     "text": [
      "C:\\Users\\hp\\AppData\\Local\\Temp\\ipykernel_12856\\3259432411.py:3: FutureWarning: Unlike other reduction functions (e.g. `skew`, `kurtosis`), the default behavior of `mode` typically preserves the axis it acts along. In SciPy 1.11.0, this behavior will change: the default value of `keepdims` will become False, the `axis` over which the statistic is taken will be eliminated, and the value None will no longer be accepted. Set `keepdims` to True or False to avoid this warning.\n",
      "  mode_ = scipy.stats.mode(u)\n"
     ]
    },
    {
     "data": {
      "text/plain": [
       "ModeResult(mode=array([2]), count=array([2]))"
      ]
     },
     "execution_count": 36,
     "metadata": {},
     "output_type": "execute_result"
    }
   ],
   "source": [
    "u, v = np.array(u), np.array(v)\n",
    "\n",
    "mode_ = scipy.stats.mode(u)\n",
    "mode_"
   ]
  },
  {
   "cell_type": "code",
   "execution_count": 37,
   "id": "3db2e9c4-ebf5-46a4-84d2-835b6f22de6e",
   "metadata": {
    "tags": []
   },
   "outputs": [
    {
     "name": "stderr",
     "output_type": "stream",
     "text": [
      "C:\\Users\\hp\\AppData\\Local\\Temp\\ipykernel_12856\\4273125489.py:1: FutureWarning: Unlike other reduction functions (e.g. `skew`, `kurtosis`), the default behavior of `mode` typically preserves the axis it acts along. In SciPy 1.11.0, this behavior will change: the default value of `keepdims` will become False, the `axis` over which the statistic is taken will be eliminated, and the value None will no longer be accepted. Set `keepdims` to True or False to avoid this warning.\n",
      "  mode_ = scipy.stats.mode(v)\n"
     ]
    },
    {
     "data": {
      "text/plain": [
       "ModeResult(mode=array([12]), count=array([3]))"
      ]
     },
     "execution_count": 37,
     "metadata": {},
     "output_type": "execute_result"
    }
   ],
   "source": [
    "mode_ = scipy.stats.mode(v)\n",
    "mode_"
   ]
  },
  {
   "cell_type": "code",
   "execution_count": 38,
   "id": "7b02ecb3-6a2d-43e4-8808-0d3f099cda3d",
   "metadata": {
    "tags": []
   },
   "outputs": [
    {
     "name": "stdout",
     "output_type": "stream",
     "text": [
      "[12]\n",
      "[3]\n"
     ]
    }
   ],
   "source": [
    "print(mode_.mode)\n",
    "print(mode_.count)"
   ]
  },
  {
   "cell_type": "code",
   "execution_count": 39,
   "id": "72acc9a7-40c6-4bfe-8383-289fd6114250",
   "metadata": {
    "tags": []
   },
   "outputs": [
    {
     "name": "stdout",
     "output_type": "stream",
     "text": [
      "0    2\n",
      "dtype: int32\n",
      "0    12\n",
      "1    15\n",
      "dtype: int32\n",
      "0    2.0\n",
      "dtype: float64\n"
     ]
    }
   ],
   "source": [
    "u, v, w = pd.Series(u), pd.Series(v), pd.Series([2, 2, math.nan])\n",
    "\n",
    "print(u.mode())\n",
    "\n",
    "print(v.mode())\n",
    "\n",
    "print(w.mode())"
   ]
  },
  {
   "cell_type": "markdown",
   "id": "63b0427d-be9d-477c-8a78-34c9f713fe9e",
   "metadata": {},
   "source": [
    "### Measures of Variability"
   ]
  },
  {
   "cell_type": "markdown",
   "id": "033abdc7-8054-4f59-b23c-ddbe4f1fcb96",
   "metadata": {},
   "source": [
    "**Menghitung sample variance with Python pure:**"
   ]
  },
  {
   "cell_type": "code",
   "execution_count": 40,
   "id": "21a591f2-4731-4ad6-8e90-e03cfb1e9b47",
   "metadata": {
    "tags": []
   },
   "outputs": [
    {
     "data": {
      "text/plain": [
       "123.19999999999999"
      ]
     },
     "execution_count": 40,
     "metadata": {},
     "output_type": "execute_result"
    }
   ],
   "source": [
    "n = len(x)\n",
    "\n",
    "mean_ = sum(x) / n\n",
    "\n",
    "var_ = sum((item - mean_)**2 for item in x) / (n-1)\n",
    "var_"
   ]
  },
  {
   "cell_type": "markdown",
   "id": "7ea8df7a-1812-43e2-bdec-39b0a44a017b",
   "metadata": {
    "tags": []
   },
   "source": [
    "fungsi yang lebih singkat dan lebih elegan dengan memanggil funsi statistics.variance()"
   ]
  },
  {
   "cell_type": "code",
   "execution_count": 41,
   "id": "3dee05cd-e37a-4a93-83b8-3cfe131e463b",
   "metadata": {
    "tags": []
   },
   "outputs": [
    {
     "data": {
      "text/plain": [
       "123.2"
      ]
     },
     "execution_count": 41,
     "metadata": {},
     "output_type": "execute_result"
    }
   ],
   "source": [
    "var_ = statistics.variance(x)\n",
    "var_"
   ]
  },
  {
   "cell_type": "markdown",
   "id": "0bc1c790-d9fb-40d9-9da4-f4ca1c95e726",
   "metadata": {},
   "source": [
    "menggunakan nummpy dengan fungsi np.var() atau method .var():"
   ]
  },
  {
   "cell_type": "code",
   "execution_count": 42,
   "id": "959a710c-385c-4abd-85e9-96af3a3db5ac",
   "metadata": {
    "tags": []
   },
   "outputs": [
    {
     "data": {
      "text/plain": [
       "123.19999999999999"
      ]
     },
     "execution_count": 42,
     "metadata": {},
     "output_type": "execute_result"
    }
   ],
   "source": [
    "var_ = np.var(y, ddof=1)\n",
    "var_"
   ]
  },
  {
   "cell_type": "code",
   "execution_count": 43,
   "id": "0d8e67a2-865d-43ed-b20e-12224a37fc17",
   "metadata": {
    "tags": []
   },
   "outputs": [
    {
     "data": {
      "text/plain": [
       "123.19999999999999"
      ]
     },
     "execution_count": 43,
     "metadata": {},
     "output_type": "execute_result"
    }
   ],
   "source": [
    "var_ = y.var(ddof=1)\n",
    "var_"
   ]
  },
  {
   "cell_type": "markdown",
   "id": "86e58a18-f47e-40af-87b8-83df483809a3",
   "metadata": {},
   "source": [
    "Objek pd.Series memiliki metodw .var() yang mengabaikan nilai nan secara default:"
   ]
  },
  {
   "cell_type": "code",
   "execution_count": 44,
   "id": "04cf6aa1-5ca9-40c2-939f-a33fb0f3f531",
   "metadata": {
    "tags": []
   },
   "outputs": [
    {
     "data": {
      "text/plain": [
       "123.19999999999999"
      ]
     },
     "execution_count": 44,
     "metadata": {},
     "output_type": "execute_result"
    }
   ],
   "source": [
    "z.var(ddof = 1)"
   ]
  },
  {
   "cell_type": "markdown",
   "id": "8dab209e-4d12-4ae4-ac0a-045eadac5251",
   "metadata": {},
   "source": [
    "### Standard Deviation"
   ]
  },
  {
   "cell_type": "code",
   "execution_count": 45,
   "id": "30901a15-608b-4cf4-afdd-cb5491b2e471",
   "metadata": {
    "tags": []
   },
   "outputs": [
    {
     "data": {
      "text/plain": [
       "11.099549540409285"
      ]
     },
     "execution_count": 45,
     "metadata": {},
     "output_type": "execute_result"
    }
   ],
   "source": [
    "std_ = var_**0.5\n",
    "std_"
   ]
  },
  {
   "cell_type": "code",
   "execution_count": 46,
   "id": "9b3e2b8c-1949-4799-9d8a-a00285a37938",
   "metadata": {
    "tags": []
   },
   "outputs": [
    {
     "data": {
      "text/plain": [
       "11.099549540409287"
      ]
     },
     "execution_count": 46,
     "metadata": {},
     "output_type": "execute_result"
    }
   ],
   "source": [
    "std_ = statistics.stdev(x)\n",
    "std_"
   ]
  },
  {
   "cell_type": "markdown",
   "id": "afea2afa-afdc-436a-b741-ce4ea970a5a8",
   "metadata": {},
   "source": [
    "untuk mengabaikan nilai nan, menggunakan np.nanstd()"
   ]
  },
  {
   "cell_type": "code",
   "execution_count": 47,
   "id": "e1972fdf-6b0b-4f85-8ef0-2a2e7206dadf",
   "metadata": {
    "tags": []
   },
   "outputs": [
    {
     "data": {
      "text/plain": [
       "11.099549540409285"
      ]
     },
     "execution_count": 47,
     "metadata": {},
     "output_type": "execute_result"
    }
   ],
   "source": [
    "np.std(y, ddof=1)"
   ]
  },
  {
   "cell_type": "code",
   "execution_count": 48,
   "id": "454ae356-b5bb-4fab-ae43-61d0ed95f0f9",
   "metadata": {
    "tags": []
   },
   "outputs": [
    {
     "data": {
      "text/plain": [
       "11.099549540409285"
      ]
     },
     "execution_count": 48,
     "metadata": {},
     "output_type": "execute_result"
    }
   ],
   "source": [
    "y.std(ddof=1)"
   ]
  },
  {
   "cell_type": "markdown",
   "id": "b204c583-0f12-4d44-9e66-b3945a38213a",
   "metadata": {},
   "source": [
    "Objek pd.Series memiliki method .std() yang mengabaikan nan secara default:"
   ]
  },
  {
   "cell_type": "code",
   "execution_count": 49,
   "id": "e1349740-4e0d-4266-8aeb-4ede59994924",
   "metadata": {
    "tags": []
   },
   "outputs": [
    {
     "data": {
      "text/plain": [
       "11.099549540409285"
      ]
     },
     "execution_count": 49,
     "metadata": {},
     "output_type": "execute_result"
    }
   ],
   "source": [
    "z.std(ddof=1)"
   ]
  },
  {
   "cell_type": "markdown",
   "id": "55c7f5a5-dedc-423c-89e9-0c3e0593351d",
   "metadata": {},
   "source": [
    "### Skewness"
   ]
  },
  {
   "cell_type": "code",
   "execution_count": 50,
   "id": "187ea1cf-ec16-41c6-befe-bc33160a9ba0",
   "metadata": {
    "tags": []
   },
   "outputs": [],
   "source": [
    "x = [8.0, 1, 2.5, 4, 28.0]\n",
    "\n",
    "n = len(x)\n",
    "\n",
    "mean_ = sum(x) / n\n",
    "var_ = sum((item - mean_)**2 for item in x) / (n-1)\n",
    "std_ = var_** 0.5\n",
    "\n",
    "skew_ = (sum((item - mean_)**3 for item in x) * n / ((n-1) * (n-2) * std_**3))"
   ]
  },
  {
   "cell_type": "code",
   "execution_count": 51,
   "id": "84053e2b-00c5-43d8-a713-127c5dd1e40e",
   "metadata": {
    "tags": []
   },
   "outputs": [
    {
     "data": {
      "text/plain": [
       "1.9470432273905929"
      ]
     },
     "execution_count": 51,
     "metadata": {},
     "output_type": "execute_result"
    }
   ],
   "source": [
    "skew_"
   ]
  },
  {
   "cell_type": "markdown",
   "id": "38aa693c-fdda-4090-9bc9-493c6f4cdabe",
   "metadata": {},
   "source": [
    "Menghitung skewness dengan scipy.stats.skew():"
   ]
  },
  {
   "cell_type": "code",
   "execution_count": 52,
   "id": "a344a29c-1c4a-494b-8e91-90f0cd89279d",
   "metadata": {
    "tags": []
   },
   "outputs": [
    {
     "data": {
      "text/plain": [
       "1.9470432273905927"
      ]
     },
     "execution_count": 52,
     "metadata": {},
     "output_type": "execute_result"
    }
   ],
   "source": [
    "y, y_with_nan = np.array(x), np.array(x_with_nan)\n",
    "\n",
    "scipy.stats.skew(y, bias=False)"
   ]
  },
  {
   "cell_type": "code",
   "execution_count": 53,
   "id": "54f45849-74dd-45e3-ac9d-f3816cbe89c5",
   "metadata": {
    "tags": []
   },
   "outputs": [
    {
     "data": {
      "text/plain": [
       "nan"
      ]
     },
     "execution_count": 53,
     "metadata": {},
     "output_type": "execute_result"
    }
   ],
   "source": [
    "scipy.stats.skew(y_with_nan, bias=False)"
   ]
  },
  {
   "cell_type": "markdown",
   "id": "548de8fb-1f4c-4c5a-8555-4ee94c2b9fbe",
   "metadata": {},
   "source": [
    "Objek Pandas Series memiliki metode .skew() yang mengembalikan skewness kumpulan data:"
   ]
  },
  {
   "cell_type": "code",
   "execution_count": 54,
   "id": "a9debda6-d406-4d49-8ab4-532c7658117b",
   "metadata": {
    "tags": []
   },
   "outputs": [
    {
     "data": {
      "text/plain": [
       "1.9470432273905924"
      ]
     },
     "execution_count": 54,
     "metadata": {},
     "output_type": "execute_result"
    }
   ],
   "source": [
    "z, z_with_nan = pd.Series(x), pd.Series(x_with_nan)\n",
    "\n",
    "z.skew()"
   ]
  },
  {
   "cell_type": "code",
   "execution_count": 55,
   "id": "0c40d478-4b61-4271-8649-6c0939c9c601",
   "metadata": {
    "tags": []
   },
   "outputs": [
    {
     "data": {
      "text/plain": [
       "1.9470432273905924"
      ]
     },
     "execution_count": 55,
     "metadata": {},
     "output_type": "execute_result"
    }
   ],
   "source": [
    "z_with_nan.skew()"
   ]
  },
  {
   "cell_type": "markdown",
   "id": "5f4748c7-3db1-4a02-b1cc-a796d1596a55",
   "metadata": {},
   "source": [
    "### Precentiles"
   ]
  },
  {
   "cell_type": "code",
   "execution_count": 56,
   "id": "ec0ac41e-78a5-45da-b05e-e9a6c38f2caf",
   "metadata": {
    "tags": []
   },
   "outputs": [
    {
     "data": {
      "text/plain": [
       "[8.0]"
      ]
     },
     "execution_count": 56,
     "metadata": {},
     "output_type": "execute_result"
    }
   ],
   "source": [
    "x = [-5.0, -1.1, 0.1, 2.0, 8.0, 12.8, 21.0, 25.8, 41.0]\n",
    "statistics.quantiles(x, n=2)"
   ]
  },
  {
   "cell_type": "code",
   "execution_count": 57,
   "id": "aeb3b8ba-5649-4f8a-b4cf-3406318743f9",
   "metadata": {
    "tags": []
   },
   "outputs": [
    {
     "data": {
      "text/plain": [
       "[0.1, 8.0, 21.0]"
      ]
     },
     "execution_count": 57,
     "metadata": {},
     "output_type": "execute_result"
    }
   ],
   "source": [
    "statistics.quantiles(x, n=4, method='inclusive')"
   ]
  },
  {
   "cell_type": "markdown",
   "id": "2b85b7f3-c9e8-4ec3-b062-523310046671",
   "metadata": {},
   "source": [
    "menggunakan np.precentile() untuk menentukan persentil sampel apapun dalam kumpulan data, misalnya persentil ke-5 dan ke-95:"
   ]
  },
  {
   "cell_type": "code",
   "execution_count": 58,
   "id": "b09ba918-6682-472d-8a4a-038a3eb132df",
   "metadata": {
    "tags": []
   },
   "outputs": [
    {
     "data": {
      "text/plain": [
       "-3.44"
      ]
     },
     "execution_count": 58,
     "metadata": {},
     "output_type": "execute_result"
    }
   ],
   "source": [
    "y = np.array(x)\n",
    "np.percentile(y, 5)"
   ]
  },
  {
   "cell_type": "code",
   "execution_count": 59,
   "id": "4f30389c-eead-4d9b-9c73-ac039230fd02",
   "metadata": {
    "tags": []
   },
   "outputs": [
    {
     "data": {
      "text/plain": [
       "34.919999999999995"
      ]
     },
     "execution_count": 59,
     "metadata": {},
     "output_type": "execute_result"
    }
   ],
   "source": [
    "np.percentile(y, 95)"
   ]
  },
  {
   "cell_type": "markdown",
   "id": "deb94f7c-6efe-4921-b62e-3b9b2c13fc6a",
   "metadata": {},
   "source": [
    "Persenti bisa berupa angka antara 0 dan 100, tetapi juga bisa berupa urutan angka:"
   ]
  },
  {
   "cell_type": "code",
   "execution_count": 60,
   "id": "6334d36e-ddde-41fb-9eee-c6812f1dbc8e",
   "metadata": {
    "tags": []
   },
   "outputs": [
    {
     "data": {
      "text/plain": [
       "array([ 0.1,  8. , 21. ])"
      ]
     },
     "execution_count": 60,
     "metadata": {},
     "output_type": "execute_result"
    }
   ],
   "source": [
    "np.percentile(y, [25, 50, 75])"
   ]
  },
  {
   "cell_type": "code",
   "execution_count": 61,
   "id": "0b1ab7a0-2fb1-481b-a333-1acc8b8df930",
   "metadata": {
    "tags": []
   },
   "outputs": [
    {
     "data": {
      "text/plain": [
       "8.0"
      ]
     },
     "execution_count": 61,
     "metadata": {},
     "output_type": "execute_result"
    }
   ],
   "source": [
    "np.median(y)"
   ]
  },
  {
   "cell_type": "markdown",
   "id": "9e001304-8114-4848-b73b-5a1f9e5f3302",
   "metadata": {
    "tags": []
   },
   "source": [
    "jika ingin mengabaikan nan, gunakan np.nanpercentile90 sebagai gantinya:"
   ]
  },
  {
   "cell_type": "code",
   "execution_count": 62,
   "id": "b992de94-319a-42bb-8e4f-94219636b62d",
   "metadata": {
    "tags": []
   },
   "outputs": [
    {
     "data": {
      "text/plain": [
       "array([-5. , -1.1,  nan,  0.1,  2. ,  8. , 12.8, 21. , 25.8, 41. ])"
      ]
     },
     "execution_count": 62,
     "metadata": {},
     "output_type": "execute_result"
    }
   ],
   "source": [
    "y_with_nan = np.insert(y, 2, np.nan)\n",
    "\n",
    "y_with_nan\n"
   ]
  },
  {
   "cell_type": "code",
   "execution_count": 63,
   "id": "3e68b647-8376-4be8-a0c1-81ee7806a0ec",
   "metadata": {
    "tags": []
   },
   "outputs": [
    {
     "data": {
      "text/plain": [
       "array([ 0.1,  8. , 21. ])"
      ]
     },
     "execution_count": 63,
     "metadata": {},
     "output_type": "execute_result"
    }
   ],
   "source": [
    "np.nanpercentile(y_with_nan, [25, 50, 75])"
   ]
  },
  {
   "cell_type": "code",
   "execution_count": 64,
   "id": "f5c728b2-7bd6-4205-a3f4-a5dd5e4545c8",
   "metadata": {
    "tags": []
   },
   "outputs": [
    {
     "data": {
      "text/plain": [
       "array([-5. , -1.1,  0.1,  2. ,  8. , 12.8, 21. , 25.8, 41. ])"
      ]
     },
     "execution_count": 64,
     "metadata": {},
     "output_type": "execute_result"
    }
   ],
   "source": [
    "y"
   ]
  },
  {
   "cell_type": "code",
   "execution_count": 65,
   "id": "7a518692-e1c7-4fd6-947d-663daa22aa39",
   "metadata": {
    "tags": []
   },
   "outputs": [
    {
     "data": {
      "text/plain": [
       "-3.44"
      ]
     },
     "execution_count": 65,
     "metadata": {},
     "output_type": "execute_result"
    }
   ],
   "source": [
    "np.quantile(y, 0.05)"
   ]
  },
  {
   "cell_type": "code",
   "execution_count": 66,
   "id": "56a8be69-fbd8-4df7-a916-3761b8ab1088",
   "metadata": {
    "tags": []
   },
   "outputs": [
    {
     "data": {
      "text/plain": [
       "34.919999999999995"
      ]
     },
     "execution_count": 66,
     "metadata": {},
     "output_type": "execute_result"
    }
   ],
   "source": [
    "np.quantile(y, 0.95)"
   ]
  },
  {
   "cell_type": "code",
   "execution_count": 67,
   "id": "30fd19ab-091d-4618-bba3-a6091446ed6b",
   "metadata": {
    "tags": []
   },
   "outputs": [
    {
     "data": {
      "text/plain": [
       "array([ 0.1,  8. , 21. ])"
      ]
     },
     "execution_count": 67,
     "metadata": {},
     "output_type": "execute_result"
    }
   ],
   "source": [
    "np.quantile(y, [0.25, 0.5, 0.75])"
   ]
  },
  {
   "cell_type": "code",
   "execution_count": 68,
   "id": "1b9d45c8-1e28-49f0-b0be-9ec171c60130",
   "metadata": {
    "tags": []
   },
   "outputs": [
    {
     "data": {
      "text/plain": [
       "array([ 0.1,  8. , 21. ])"
      ]
     },
     "execution_count": 68,
     "metadata": {},
     "output_type": "execute_result"
    }
   ],
   "source": [
    "np.nanquantile(y_with_nan, [0.25, 0.5, 0.75])"
   ]
  },
  {
   "cell_type": "code",
   "execution_count": 69,
   "id": "380598ef-d51c-4961-829e-12339ee80604",
   "metadata": {
    "tags": []
   },
   "outputs": [
    {
     "data": {
      "text/plain": [
       "-3.44"
      ]
     },
     "execution_count": 69,
     "metadata": {},
     "output_type": "execute_result"
    }
   ],
   "source": [
    "z, z_with_nan = pd.Series(y), pd.Series(y_with_nan)\n",
    "z.quantile(0.05)"
   ]
  },
  {
   "cell_type": "code",
   "execution_count": 70,
   "id": "7cc21ab6-8906-47ff-b70b-8a33e03c75e2",
   "metadata": {
    "tags": []
   },
   "outputs": [
    {
     "data": {
      "text/plain": [
       "34.919999999999995"
      ]
     },
     "execution_count": 70,
     "metadata": {},
     "output_type": "execute_result"
    }
   ],
   "source": [
    "z.quantile(0.95)"
   ]
  },
  {
   "cell_type": "code",
   "execution_count": 71,
   "id": "09daf2a7-0299-427c-93ad-5668fe9fdc44",
   "metadata": {
    "tags": []
   },
   "outputs": [
    {
     "data": {
      "text/plain": [
       "0.25     0.1\n",
       "0.50     8.0\n",
       "0.75    21.0\n",
       "dtype: float64"
      ]
     },
     "execution_count": 71,
     "metadata": {},
     "output_type": "execute_result"
    }
   ],
   "source": [
    "z.quantile([0.25, 0.5, 0.75])"
   ]
  },
  {
   "cell_type": "code",
   "execution_count": 72,
   "id": "c75ca761-9a59-4c01-b125-64de2c870ba4",
   "metadata": {
    "tags": []
   },
   "outputs": [
    {
     "data": {
      "text/plain": [
       "0.25     0.1\n",
       "0.50     8.0\n",
       "0.75    21.0\n",
       "dtype: float64"
      ]
     },
     "execution_count": 72,
     "metadata": {},
     "output_type": "execute_result"
    }
   ],
   "source": [
    "z_with_nan.quantile([0.25, 0.5, 0.75])"
   ]
  },
  {
   "cell_type": "markdown",
   "id": "180db721-1807-40c3-a2cb-dc153db2dbaf",
   "metadata": {},
   "source": [
    "### Ranges"
   ]
  },
  {
   "cell_type": "markdown",
   "id": "6a57627e-a09d-4f31-a682-e84cf54ad168",
   "metadata": {
    "tags": []
   },
   "source": [
    "menggunakan fungsi np.ptp():"
   ]
  },
  {
   "cell_type": "code",
   "execution_count": 73,
   "id": "35f42008-29c0-41c5-988b-df127eec2329",
   "metadata": {
    "tags": []
   },
   "outputs": [
    {
     "data": {
      "text/plain": [
       "array([-5. , -1.1,  0.1,  2. ,  8. , 12.8, 21. , 25.8, 41. ])"
      ]
     },
     "execution_count": 73,
     "metadata": {},
     "output_type": "execute_result"
    }
   ],
   "source": [
    "y"
   ]
  },
  {
   "cell_type": "code",
   "execution_count": 74,
   "id": "5a498dd3-f500-4a0a-b65a-922304987146",
   "metadata": {
    "tags": []
   },
   "outputs": [
    {
     "name": "stdout",
     "output_type": "stream",
     "text": [
      "46.0\n",
      "46.0\n"
     ]
    }
   ],
   "source": [
    "print(np.ptp(y))\n",
    "print(np.ptp(z))"
   ]
  },
  {
   "cell_type": "code",
   "execution_count": 75,
   "id": "17f80e17-bbd2-4e65-b4c7-59e3d6cbd9cf",
   "metadata": {
    "tags": []
   },
   "outputs": [
    {
     "name": "stdout",
     "output_type": "stream",
     "text": [
      "nan\n",
      "nan\n"
     ]
    }
   ],
   "source": [
    "print(np.ptp(y_with_nan))\n",
    "print(np.ptp(z_with_nan))"
   ]
  },
  {
   "cell_type": "code",
   "execution_count": 76,
   "id": "34c14ee9-0021-4229-8c14-1965379a3f9b",
   "metadata": {
    "tags": []
   },
   "outputs": [
    {
     "data": {
      "text/plain": [
       "nan"
      ]
     },
     "execution_count": 76,
     "metadata": {},
     "output_type": "execute_result"
    }
   ],
   "source": [
    "np.ptp(z_with_nan)"
   ]
  },
  {
   "cell_type": "markdown",
   "id": "c6500fac-ed84-40de-b1d5-ebefca5b0208",
   "metadata": {},
   "source": [
    "fungsi dan method python, NumPy, atau Pandas bawaan untuk menghiyung maksimum dan minimum:\n",
    "* max() and min() from the Python standard library\n",
    "* amx() and amin() from NumPy\n",
    "* nanmax() and nanmin() from NumPy to ignore nan values\n",
    "* .max() and .min() from NumPy\n",
    "* .max() and .min() from Pandas to ignore nan values by default"
   ]
  },
  {
   "cell_type": "code",
   "execution_count": 78,
   "id": "4b108f0c-174c-4411-a24e-54b99b647fa6",
   "metadata": {},
   "outputs": [
    {
     "name": "stdout",
     "output_type": "stream",
     "text": [
      "46.0\n",
      "46.0\n",
      "46.0\n",
      "46.0\n",
      "46.0\n"
     ]
    }
   ],
   "source": [
    "print(np.amax(y) - np.amin(y))\n",
    "print(np.nanmax(y_with_nan) - np.nanmin(y_with_nan))\n",
    "print(y.max() - y.min())\n",
    "print(z.max() - z.min())\n",
    "print(z_with_nan.max() - z_with_nan.min())"
   ]
  },
  {
   "cell_type": "markdown",
   "id": "ce2df40c-9c4e-47e0-b613-133c400a03ae",
   "metadata": {},
   "source": [
    "Interquatile range adalah perbedaan anatara kuartil pertama dan ketiga. setelah menghitung kuartil bia mengambil selisihnya:"
   ]
  },
  {
   "cell_type": "code",
   "execution_count": 79,
   "id": "90f52309-cfcc-4165-accc-7f81ad0e4cbb",
   "metadata": {
    "tags": []
   },
   "outputs": [
    {
     "data": {
      "text/plain": [
       "20.9"
      ]
     },
     "execution_count": 79,
     "metadata": {},
     "output_type": "execute_result"
    }
   ],
   "source": [
    "quartiles = np.quantile(y,  [0.25, 0.75])\n",
    "quartiles[1] - quartiles[0]\n",
    "                             "
   ]
  },
  {
   "cell_type": "code",
   "execution_count": 83,
   "id": "fccef221-6680-4d8a-9323-35b317c0c12f",
   "metadata": {
    "tags": []
   },
   "outputs": [
    {
     "data": {
      "text/plain": [
       "20.9"
      ]
     },
     "execution_count": 83,
     "metadata": {},
     "output_type": "execute_result"
    }
   ],
   "source": [
    "quartiles = z.quantile([0.25, 0.75])\n",
    "quartiles[0.75] - quartiles[0.25]"
   ]
  },
  {
   "cell_type": "markdown",
   "id": "09e0283d-3ae6-44ae-abf3-250f7e165b1b",
   "metadata": {},
   "source": [
    "#### Summary of Descriptive Statistics"
   ]
  },
  {
   "cell_type": "code",
   "execution_count": 85,
   "id": "03f91bac-d974-4232-a899-96cff2ecd30a",
   "metadata": {
    "tags": []
   },
   "outputs": [
    {
     "data": {
      "text/plain": [
       "array([-5. , -1.1,  0.1,  2. ,  8. , 12.8, 21. , 25.8, 41. ])"
      ]
     },
     "execution_count": 85,
     "metadata": {},
     "output_type": "execute_result"
    }
   ],
   "source": [
    "y"
   ]
  },
  {
   "cell_type": "code",
   "execution_count": 84,
   "id": "d069fe1b-a607-4272-853f-ccebb6528ee2",
   "metadata": {
    "tags": []
   },
   "outputs": [
    {
     "data": {
      "text/plain": [
       "DescribeResult(nobs=9, minmax=(-5.0, 41.0), mean=11.622222222222222, variance=228.75194444444446, skewness=0.9249043136685094, kurtosis=0.14770623629658886)"
      ]
     },
     "execution_count": 84,
     "metadata": {},
     "output_type": "execute_result"
    }
   ],
   "source": [
    "result = scipy.stats.describe(y, ddof=1, bias=False)\n",
    "result"
   ]
  },
  {
   "cell_type": "markdown",
   "id": "3768f985-302c-43e8-9e25-6ef699693a32",
   "metadata": {},
   "source": [
    "describe() mengebalikan obkel yang berupa descriptive statistics berikut:\n",
    "* nobs: the number of observations or elements in dataset\n",
    "* minmax: the tuple with the mimimum and maximum values of your datset\n",
    "* mean: the mean of your dataset\n",
    "* varieance: the variance of datset\n",
    "* skewness: the skewness of dataset\n",
    "* kurtosis: the kurtosis of datset"
   ]
  },
  {
   "cell_type": "code",
   "execution_count": 89,
   "id": "c9fc3205-4292-41c3-9bb3-ddb5121fa4f2",
   "metadata": {
    "tags": []
   },
   "outputs": [
    {
     "data": {
      "text/plain": [
       "DescribeResult(nobs=9, minmax=(-5.0, 41.0), mean=11.622222222222222, variance=228.75194444444446, skewness=0.9249043136685094, kurtosis=0.14770623629658886)"
      ]
     },
     "execution_count": 89,
     "metadata": {},
     "output_type": "execute_result"
    }
   ],
   "source": [
    "result"
   ]
  },
  {
   "cell_type": "code",
   "execution_count": 86,
   "id": "f782a11e-d687-4c8b-981f-ec80f347b900",
   "metadata": {
    "tags": []
   },
   "outputs": [
    {
     "data": {
      "text/plain": [
       "9"
      ]
     },
     "execution_count": 86,
     "metadata": {},
     "output_type": "execute_result"
    }
   ],
   "source": [
    "result.nobs"
   ]
  },
  {
   "cell_type": "code",
   "execution_count": 87,
   "id": "780cf7a9-ef66-44a3-baf1-801d8c940f48",
   "metadata": {
    "tags": []
   },
   "outputs": [
    {
     "data": {
      "text/plain": [
       "-5.0"
      ]
     },
     "execution_count": 87,
     "metadata": {},
     "output_type": "execute_result"
    }
   ],
   "source": [
    "result.minmax[0]"
   ]
  },
  {
   "cell_type": "code",
   "execution_count": 88,
   "id": "d8be47d0-be41-4710-ba69-80100056efc8",
   "metadata": {
    "tags": []
   },
   "outputs": [
    {
     "data": {
      "text/plain": [
       "41.0"
      ]
     },
     "execution_count": 88,
     "metadata": {},
     "output_type": "execute_result"
    }
   ],
   "source": [
    "result.minmax[1]"
   ]
  },
  {
   "cell_type": "code",
   "execution_count": 90,
   "id": "201bfa07-e694-427e-b68c-37db3df40bb8",
   "metadata": {
    "tags": []
   },
   "outputs": [
    {
     "data": {
      "text/plain": [
       "228.75194444444446"
      ]
     },
     "execution_count": 90,
     "metadata": {},
     "output_type": "execute_result"
    }
   ],
   "source": [
    "result.variance"
   ]
  },
  {
   "cell_type": "code",
   "execution_count": 91,
   "id": "142d0354-8b3f-4f16-b6d0-efaa9f25a8d9",
   "metadata": {
    "tags": []
   },
   "outputs": [
    {
     "data": {
      "text/plain": [
       "0.9249043136685094"
      ]
     },
     "execution_count": 91,
     "metadata": {},
     "output_type": "execute_result"
    }
   ],
   "source": [
    "result.skewness"
   ]
  },
  {
   "cell_type": "code",
   "execution_count": 92,
   "id": "2bd72892-092f-4433-8730-57b8fb4ec549",
   "metadata": {
    "tags": []
   },
   "outputs": [
    {
     "data": {
      "text/plain": [
       "0.14770623629658886"
      ]
     },
     "execution_count": 92,
     "metadata": {},
     "output_type": "execute_result"
    }
   ],
   "source": [
    "result.kurtosis"
   ]
  },
  {
   "cell_type": "code",
   "execution_count": 93,
   "id": "943fad6c-fc90-4df0-ac5b-b2a220e9ee7f",
   "metadata": {
    "tags": []
   },
   "outputs": [
    {
     "data": {
      "text/plain": [
       "count     9.000000\n",
       "mean     11.622222\n",
       "std      15.124548\n",
       "min      -5.000000\n",
       "25%       0.100000\n",
       "50%       8.000000\n",
       "75%      21.000000\n",
       "max      41.000000\n",
       "dtype: float64"
      ]
     },
     "execution_count": 93,
     "metadata": {},
     "output_type": "execute_result"
    }
   ],
   "source": [
    "result = z.describe()\n",
    "result"
   ]
  },
  {
   "cell_type": "markdown",
   "id": "92e5b739-73d7-4e41-b9cb-992442130592",
   "metadata": {},
   "source": [
    "Mengembalikan Series baru yang menampung nilai berikut:\n",
    "* count: the number of elements in dataset\n",
    "* mean: the mean of your dataset\n",
    "* std: the standard deviation of your dataset\n",
    "* min and max: the minimum and maximum values of datset\n",
    "* 25%, 50%, and 75%: the quartiles of your dataset"
   ]
  },
  {
   "cell_type": "code",
   "execution_count": 95,
   "id": "bebd0007-09e6-4678-8b2d-9c87fa84131c",
   "metadata": {
    "tags": []
   },
   "outputs": [
    {
     "data": {
      "text/plain": [
       "11.622222222222222"
      ]
     },
     "execution_count": 95,
     "metadata": {},
     "output_type": "execute_result"
    }
   ],
   "source": [
    "result['mean']"
   ]
  },
  {
   "cell_type": "code",
   "execution_count": 97,
   "id": "291de84a-7450-43c4-8e7d-62bcaa0b27eb",
   "metadata": {
    "tags": []
   },
   "outputs": [
    {
     "data": {
      "text/plain": [
       "15.12454774346805"
      ]
     },
     "execution_count": 97,
     "metadata": {},
     "output_type": "execute_result"
    }
   ],
   "source": [
    "result['std']"
   ]
  },
  {
   "cell_type": "code",
   "execution_count": 98,
   "id": "292a9822-48a6-4d5e-a439-d97d71c86705",
   "metadata": {
    "tags": []
   },
   "outputs": [
    {
     "data": {
      "text/plain": [
       "-5.0"
      ]
     },
     "execution_count": 98,
     "metadata": {},
     "output_type": "execute_result"
    }
   ],
   "source": [
    "result['min']"
   ]
  },
  {
   "cell_type": "code",
   "execution_count": 99,
   "id": "5b3ee343-b222-48dc-9f0c-7b2def08ad24",
   "metadata": {
    "tags": []
   },
   "outputs": [
    {
     "data": {
      "text/plain": [
       "0.1"
      ]
     },
     "execution_count": 99,
     "metadata": {},
     "output_type": "execute_result"
    }
   ],
   "source": [
    "result['25%']"
   ]
  },
  {
   "cell_type": "code",
   "execution_count": 100,
   "id": "cccf05e7-2316-4f03-99d4-f4fe0759ae04",
   "metadata": {
    "tags": []
   },
   "outputs": [
    {
     "data": {
      "text/plain": [
       "8.0"
      ]
     },
     "execution_count": 100,
     "metadata": {},
     "output_type": "execute_result"
    }
   ],
   "source": [
    "result['50%']"
   ]
  },
  {
   "cell_type": "code",
   "execution_count": 101,
   "id": "85e2c02a-a34d-4a75-a390-749293273517",
   "metadata": {
    "tags": []
   },
   "outputs": [
    {
     "data": {
      "text/plain": [
       "21.0"
      ]
     },
     "execution_count": 101,
     "metadata": {},
     "output_type": "execute_result"
    }
   ],
   "source": [
    "result['75%']"
   ]
  },
  {
   "cell_type": "markdown",
   "id": "ff957fdf-82df-4b47-b3b4-9f40c3ccec0c",
   "metadata": {},
   "source": [
    "#### Measures of Correlation Between Pairs of Data"
   ]
  },
  {
   "attachments": {
    "7a68a4ae-96d0-46fc-be43-8c7f33739e13.png": {
     "image/png": "[encoded data removed]"
    }
   },
   "cell_type": "markdown",
   "id": "517f4db7-258f-4076-b5f5-f7a1401a34ea",
   "metadata": {},
   "source": [
    "**Measures of correlation** antara pasangan data:\n",
    "* **Positive correlation** exits when larger values of x correspond to larger values of y and vice versa.\n",
    "* **Negative correaltion** exits when larger values of x correspond to smaller values of y and vice versa.\n",
    "* **Weak or no correlation exits** if there is no such apparent relationship.\n",
    "\n",
    "![image.png](attachment:7a68a4ae-96d0-46fc-be43-8c7f33739e13.png)"
   ]
  },
  {
   "cell_type": "markdown",
   "id": "d7289c54-3410-430d-bccd-8281ec002622",
   "metadata": {},
   "source": [
    "Dua statistik yang mengukur korelasi antar dataset adalah **covariance** dan **correlation coefficient**."
   ]
  },
  {
   "cell_type": "code",
   "execution_count": 102,
   "id": "9e4f3a36-26e6-436b-81ae-ae189ab2a5a5",
   "metadata": {
    "tags": []
   },
   "outputs": [],
   "source": [
    "x = list(range(-10, 11))\n",
    "y = [0,2,2,2,2,3,3,6,7,4,7,6,6,9,4,5,5,10,11,12,14]\n",
    "x_, y_ = np.array(x), np.array(y)\n",
    "x_, y_ = pd.Series(x_), pd.Series(y_)\n",
    "         "
   ]
  },
  {
   "cell_type": "markdown",
   "id": "fe5c422f-37ff-4436-b11d-f6d2f15fc0c3",
   "metadata": {},
   "source": [
    "### Covariance"
   ]
  },
  {
   "cell_type": "markdown",
   "id": "a863d76e-fba0-40c4-8f3e-9ad0ee58dae3",
   "metadata": {},
   "source": [
    "**Sample covariance** adalah ukuran yang mengukur kekuatan dan arah hubungan antara sepasang variabel:\n",
    "* **If the correlation is positive**, then the covariance is positive, as well. A stronger relationship corresponds to a higher value of the covariance.\n",
    "* **If the correlation is negative**, then the covariance is positive, as well. A stronger relationship corresponds to a higher value of the covariance.\n",
    "* **If the correlation is weak**, then the covariance is close to zero."
   ]
  },
  {
   "cell_type": "markdown",
   "id": "6b89eb2e-40e1-4511-9e12-05d1fb061637",
   "metadata": {},
   "source": [
    "Menghitung kovarian dengan Python pure:"
   ]
  },
  {
   "cell_type": "code",
   "execution_count": 107,
   "id": "ac8bb2ec-7b67-4142-abfd-198950d44257",
   "metadata": {
    "tags": []
   },
   "outputs": [
    {
     "data": {
      "text/plain": [
       "19.95"
      ]
     },
     "execution_count": 107,
     "metadata": {},
     "output_type": "execute_result"
    }
   ],
   "source": [
    "n = len(x)\n",
    "mean_x, mean_y = sum(x) / n, sum(y) / n\n",
    "cov_xy = (sum((x[k] - mean_x) * (y[k] - mean_y) for k in range(n)) / (n-1))\n",
    "\n",
    "cov_xy"
   ]
  },
  {
   "cell_type": "markdown",
   "id": "6306346e-f57c-45cc-9620-ed5550f6fdc0",
   "metadata": {
    "tags": []
   },
   "source": [
    "fungsi cov() mengembalikan **covariance matrix**:"
   ]
  },
  {
   "cell_type": "code",
   "execution_count": 109,
   "id": "f7519a0c-96be-4c63-8a1e-01158cab9678",
   "metadata": {
    "tags": []
   },
   "outputs": [
    {
     "data": {
      "text/plain": [
       "array([[38.5       , 19.95      ],\n",
       "       [19.95      , 13.91428571]])"
      ]
     },
     "execution_count": 109,
     "metadata": {},
     "output_type": "execute_result"
    }
   ],
   "source": [
    "cov_matrix = np.cov(x_, y_)\n",
    "cov_matrix"
   ]
  },
  {
   "cell_type": "code",
   "execution_count": 111,
   "id": "2a4ba3b4-b33c-49c6-91cf-1c993ee8dabb",
   "metadata": {
    "tags": []
   },
   "outputs": [
    {
     "data": {
      "text/plain": [
       "38.5"
      ]
     },
     "execution_count": 111,
     "metadata": {},
     "output_type": "execute_result"
    }
   ],
   "source": [
    "x_.var(ddof=1)"
   ]
  },
  {
   "cell_type": "code",
   "execution_count": 112,
   "id": "db311ef1-ad1b-48bb-9037-e072d7d23d8c",
   "metadata": {
    "tags": []
   },
   "outputs": [
    {
     "data": {
      "text/plain": [
       "13.914285714285711"
      ]
     },
     "execution_count": 112,
     "metadata": {},
     "output_type": "execute_result"
    }
   ],
   "source": [
    "y_.var(ddof=1)"
   ]
  },
  {
   "cell_type": "markdown",
   "id": "5473fb59-9d78-461d-b7e4-778cdfabb39d",
   "metadata": {},
   "source": [
    "dilihat bahwa, variansi dari x dan y sama dengan cov_matrix[0, 0] dan cov_matrix[1, 1].\n",
    "\n",
    "Dua elemen lain dari covariance matrix adalah sama dan mewakili covariance aktual x dan y:"
   ]
  },
  {
   "cell_type": "code",
   "execution_count": 113,
   "id": "43601f6e-a744-48d1-a3f2-7e5151749717",
   "metadata": {
    "tags": []
   },
   "outputs": [
    {
     "data": {
      "text/plain": [
       "19.95"
      ]
     },
     "execution_count": 113,
     "metadata": {},
     "output_type": "execute_result"
    }
   ],
   "source": [
    "cov_xy = cov_matrix[0, 1]\n",
    "cov_xy"
   ]
  },
  {
   "cell_type": "code",
   "execution_count": 114,
   "id": "f791eb31-ca1c-4f23-9a5e-a09ffd96b7c9",
   "metadata": {
    "tags": []
   },
   "outputs": [
    {
     "data": {
      "text/plain": [
       "19.95"
      ]
     },
     "execution_count": 114,
     "metadata": {},
     "output_type": "execute_result"
    }
   ],
   "source": [
    "cov_xy = cov_matrix[1, 0]\n",
    "cov_xy"
   ]
  },
  {
   "cell_type": "markdown",
   "id": "5e1de334-5ac8-4846-a93b-0c7c96a31e3d",
   "metadata": {
    "tags": []
   },
   "source": [
    "nilai kovarian yang sama dengan np.cov() seperti pada Python pure:\n",
    "    \n",
    "Series Pandas memiliki metode .cov() yang dapat digunakan untuk mengitung kovarian;"
   ]
  },
  {
   "cell_type": "code",
   "execution_count": 117,
   "id": "02dfaaab-c26e-49b4-8595-fc2965685ef6",
   "metadata": {
    "tags": []
   },
   "outputs": [
    {
     "data": {
      "text/plain": [
       "19.95"
      ]
     },
     "execution_count": 117,
     "metadata": {},
     "output_type": "execute_result"
    }
   ],
   "source": [
    "cov_xy = x_.cov(y_)\n",
    "cov_xy"
   ]
  },
  {
   "cell_type": "code",
   "execution_count": 118,
   "id": "71ee605c-5018-4542-add1-a07f8b8a13e6",
   "metadata": {
    "tags": []
   },
   "outputs": [
    {
     "data": {
      "text/plain": [
       "19.95"
      ]
     },
     "execution_count": 118,
     "metadata": {},
     "output_type": "execute_result"
    }
   ],
   "source": [
    "cov_xy = y_.cov(x_)\n",
    "cov_xy"
   ]
  },
  {
   "cell_type": "markdown",
   "id": "b393c550-af13-4a3f-8687-fa04e22b11f7",
   "metadata": {},
   "source": [
    "### Correlation Coefficient"
   ]
  },
  {
   "cell_type": "markdown",
   "id": "5bc3a119-6ff8-4659-b137-75521c2b7521",
   "metadata": {},
   "source": [
    "**Correlation coefficient**, atau **Pearson product-moment correlation coefficient**, dilambangkan dengan simbol 𝑟. Coefficient  adalah ukuran lain dari korelasi antar data. Kita dapat menganggapnya sebagai standardized covariance. Berikut beberapa infonya:\n",
    "* **The value 𝑟 > 0** indicates positive correlation.\n",
    "* **The value 𝑟 < 0** indicates negative correlation.\n",
    "* **The value r = 1** is the maximum possible value of 𝑟. It corresponds to a perfect positive linear relationship between variables.\n",
    "* **The value r = −1** is the minimum possible value of 𝑟. It corresponds to a perfect negative linear relationship between variables.\n",
    "* **The value r ≈ 0**, or when 𝑟 is around zero, means that the correlation between variables is weak."
   ]
  },
  {
   "cell_type": "code",
   "execution_count": 119,
   "id": "b1d7aebc-547c-48cb-b459-8b2d0ece1bcf",
   "metadata": {
    "tags": []
   },
   "outputs": [
    {
     "data": {
      "text/plain": [
       "0.861950005631606"
      ]
     },
     "execution_count": 119,
     "metadata": {},
     "output_type": "execute_result"
    }
   ],
   "source": [
    "var_x = sum((item - mean_x)**2 for item in x) / (n-1)\n",
    "var_y = sum((item - mean_y)**2 for item in y) / (n-1)\n",
    "std_x, std_y = var_x ** 0.5, var_y ** 0.5\n",
    "r = cov_xy / (std_x * std_y)\n",
    "r"
   ]
  },
  {
   "cell_type": "markdown",
   "id": "86931fb0-a0d2-4437-9b5f-be390da96498",
   "metadata": {},
   "source": [
    "variabel r yang mewakili correlation coefficient.\n",
    "\n",
    "scipy.stats memiliki pearsonr() yang menghitung correlation coefficient dan the *p*-value:"
   ]
  },
  {
   "cell_type": "code",
   "execution_count": 121,
   "id": "36fbea96-f137-4dcc-a94c-dfe97b07da49",
   "metadata": {
    "tags": []
   },
   "outputs": [
    {
     "data": {
      "text/plain": [
       "0.8619500056316061"
      ]
     },
     "execution_count": 121,
     "metadata": {},
     "output_type": "execute_result"
    }
   ],
   "source": [
    "r, p = scipy.stats.pearsonr(x_, y_)\n",
    "r"
   ]
  },
  {
   "cell_type": "code",
   "execution_count": 122,
   "id": "4d23eb14-98ba-41ea-8416-e9147b7930dd",
   "metadata": {
    "tags": []
   },
   "outputs": [
    {
     "data": {
      "text/plain": [
       "5.122760847201132e-07"
      ]
     },
     "execution_count": 122,
     "metadata": {},
     "output_type": "execute_result"
    }
   ],
   "source": [
    "p"
   ]
  },
  {
   "cell_type": "markdown",
   "id": "eead97d7-4d50-43b2-ae98-36667bf93267",
   "metadata": {},
   "source": [
    "pearsonr() mengembalikan tuple dengan dua angka. Yang pertama adalah r dan kedua adalah *p*-value.\n",
    "\n",
    "Mirip dengan kasus covariance matrix, np.corrcoef() dapat diterapkan dengan x_ dan y_ sebagai argumen dan mendapatkan **correlation coefficient matrix**:"
   ]
  },
  {
   "cell_type": "code",
   "execution_count": 123,
   "id": "15b5ccfe-8f4d-4e7e-8510-cbbccb28ed70",
   "metadata": {
    "tags": []
   },
   "outputs": [
    {
     "data": {
      "text/plain": [
       "array([[1.        , 0.86195001],\n",
       "       [0.86195001, 1.        ]])"
      ]
     },
     "execution_count": 123,
     "metadata": {},
     "output_type": "execute_result"
    }
   ],
   "source": [
    "corr_matrix = np.corrcoef(x_, y_)\n",
    "corr_matrix"
   ]
  },
  {
   "cell_type": "code",
   "execution_count": 125,
   "id": "dfadb75d-41c3-4c0a-9223-85921dee1d1a",
   "metadata": {
    "tags": []
   },
   "outputs": [
    {
     "data": {
      "text/plain": [
       "0.8619500056316061"
      ]
     },
     "execution_count": 125,
     "metadata": {},
     "output_type": "execute_result"
    }
   ],
   "source": [
    "r = corr_matrix[0, 1]\n",
    "r"
   ]
  },
  {
   "cell_type": "code",
   "execution_count": 126,
   "id": "97eeef4f-cd5a-426b-b868-7efb3745382c",
   "metadata": {
    "tags": []
   },
   "outputs": [
    {
     "data": {
      "text/plain": [
       "0.861950005631606"
      ]
     },
     "execution_count": 126,
     "metadata": {},
     "output_type": "execute_result"
    }
   ],
   "source": [
    "r = corr_matrix[1, 0]\n",
    "r"
   ]
  },
  {
   "cell_type": "markdown",
   "id": "f5b0f056-ebc1-4d53-bac4-4189d83c8620",
   "metadata": {},
   "source": [
    "correlation coefficient dengan scipy.stats.linregress():"
   ]
  },
  {
   "cell_type": "code",
   "execution_count": 128,
   "id": "23cd8de7-1236-4443-9eb6-e28bec95cd53",
   "metadata": {
    "tags": []
   },
   "outputs": [
    {
     "data": {
      "text/plain": [
       "LinregressResult(slope=0.5181818181818181, intercept=5.714285714285714, rvalue=0.861950005631606, pvalue=5.122760847201164e-07, stderr=0.06992387660074979, intercept_stderr=0.4234100995002589)"
      ]
     },
     "execution_count": 128,
     "metadata": {},
     "output_type": "execute_result"
    }
   ],
   "source": [
    "scipy.stats.linregress(x_, y_)"
   ]
  },
  {
   "cell_type": "code",
   "execution_count": 129,
   "id": "514c369d-3cde-4e6a-b9d4-e6ac126ff008",
   "metadata": {
    "tags": []
   },
   "outputs": [
    {
     "data": {
      "text/plain": [
       "0.861950005631606"
      ]
     },
     "execution_count": 129,
     "metadata": {},
     "output_type": "execute_result"
    }
   ],
   "source": [
    "result = scipy.stats.linregress(x_, y_)\n",
    "r = result.rvalue\n",
    "r"
   ]
  },
  {
   "cell_type": "code",
   "execution_count": 131,
   "id": "e17f3814-894f-4b96-b7bd-daac4e5a7e40",
   "metadata": {
    "tags": []
   },
   "outputs": [
    {
     "data": {
      "text/plain": [
       "0.8619500056316061"
      ]
     },
     "execution_count": 131,
     "metadata": {},
     "output_type": "execute_result"
    }
   ],
   "source": [
    "r = x_.corr(y_)\n",
    "r"
   ]
  },
  {
   "cell_type": "code",
   "execution_count": 132,
   "id": "0121dfe9-4380-4e42-a92a-4cf799ad8563",
   "metadata": {
    "tags": []
   },
   "outputs": [
    {
     "data": {
      "text/plain": [
       "0.861950005631606"
      ]
     },
     "execution_count": 132,
     "metadata": {},
     "output_type": "execute_result"
    }
   ],
   "source": [
    "r = y_.corr(x_)\n",
    "r"
   ]
  }
 ],
 "metadata": {
  "kernelspec": {
   "display_name": "Python 3 (ipykernel)",
   "language": "python",
   "name": "python3"
  },
  "language_info": {
   "codemirror_mode": {
    "name": "ipython",
    "version": 3
   },
   "file_extension": ".py",
   "mimetype": "text/x-python",
   "name": "python",
   "nbconvert_exporter": "python",
   "pygments_lexer": "ipython3",
   "version": "3.11.4"
  }
 },
 "nbformat": 4,
 "nbformat_minor": 5
}
