{
 "cells": [
  {
   "cell_type": "markdown",
   "id": "5c406512-3331-4e15-ac6a-802b300e986f",
   "metadata": {},
   "source": [
    "# Assigment Python 2"
   ]
  },
  {
   "cell_type": "markdown",
   "id": "832f701e-6bbb-4cd9-9721-1258c7148031",
   "metadata": {
    "tags": []
   },
   "source": [
    "## Data Set: New York City Property Sales [September 2016 - September 2017]\n",
    "\n",
    "**Sumber Data:** https://www.kaggle.com/datasets/new-york-city/nyc-property-sale\n",
    "\n",
    "## About Dataset\n",
    "**Context**\n",
    "\n",
    "This dataset is a record of every building or building unit (apartment, etc.) sold in the New York City property market over a 12-month period.\n",
    "\n",
    "**Content**\n",
    "\n",
    "This dataset contains the location, address, type, sale price, and sale date of building units sold. A reference on the trickier fields:\n",
    "* BOROUGH: A digit code for the borough the property is located in; in order these are Manhattan (1), Bronx (2), Brooklyn (3), Queens (4), and Staten Island (5).\n",
    "* BLOCK; LOT: The combination of borough, block, and lot forms a unique key for property in New York City. Commonly called a BBL.\n",
    "* BUILDING CLASS AT PRESENT and BUILDING CLASS AT TIME OF SALE: The type of building at various points in time. See the glossary linked to below."
   ]
  },
  {
   "cell_type": "markdown",
   "id": "979801b7-871b-4bfe-954e-9710837fa4fa",
   "metadata": {},
   "source": [
    "## Import Libraries"
   ]
  },
  {
   "cell_type": "code",
   "execution_count": 1,
   "id": "b348207d-66ea-4ed4-8604-456d3377d5e9",
   "metadata": {
    "tags": []
   },
   "outputs": [],
   "source": [
    "import pandas as pd\n",
    "import numpy as np\n",
    "import matplotlib.pyplot as plt\n",
    "import seaborn as sns\n",
    "import scipy.stats\n",
    "from scipy import stats\n",
    "import scipy.stats as scistats\n",
    "import statsmodels.api as sm\n",
    "import math\n",
    "import statistics\n",
    "import warnings\n",
    "warnings.filterwarnings(\"ignore\")\n",
    "%matplotlib inline"
   ]
  },
  {
   "cell_type": "markdown",
   "id": "8b13a429-6a5e-4dce-91df-f48363ce0443",
   "metadata": {},
   "source": [
    "Masukan data terlebih dahulu"
   ]
  },
  {
   "cell_type": "code",
   "execution_count": 2,
   "id": "83408495-cf6d-4677-9cd1-87bd59603736",
   "metadata": {
    "tags": []
   },
   "outputs": [],
   "source": [
    "nyc = pd.read_csv('D:/Python for Data Science/Data/nyc-rolling-sales.csv', skipinitialspace = True)"
   ]
  },
  {
   "cell_type": "markdown",
   "id": "4ace8221-1a8f-4d75-b76c-5f4af2132629",
   "metadata": {},
   "source": [
    "## Eksplorasi Data"
   ]
  },
  {
   "cell_type": "markdown",
   "id": "dbd1a748-b1a5-4ce0-8eea-181e3240c732",
   "metadata": {},
   "source": [
    "Melihat berapa jumlah baris dan kolom"
   ]
  },
  {
   "cell_type": "code",
   "execution_count": 3,
   "id": "208612fb-411d-484b-afb3-59b1447592a2",
   "metadata": {
    "tags": []
   },
   "outputs": [
    {
     "data": {
      "text/plain": [
       "(84548, 22)"
      ]
     },
     "execution_count": 3,
     "metadata": {},
     "output_type": "execute_result"
    }
   ],
   "source": [
    "nyc.shape"
   ]
  },
  {
   "cell_type": "markdown",
   "id": "c88aa11e-ff57-420a-afad-5d2f7a156c6b",
   "metadata": {},
   "source": [
    "Hasil di atas menunjukkan bahwa dataset tersebut memiliki 84548 baris dan 22 kolom."
   ]
  },
  {
   "cell_type": "markdown",
   "id": "64ebe57b-b260-49e1-867b-ad81b70cabf3",
   "metadata": {},
   "source": [
    "Mengganti kode area 1 dengan manhattan, 2 dengan bronx, 3 dengan brooklyn, 4 dengan queens, dan 5 dengan staten islands"
   ]
  },
  {
   "cell_type": "code",
   "execution_count": 4,
   "id": "c8238513-d099-40df-85b8-f14114fd9875",
   "metadata": {},
   "outputs": [
    {
     "data": {
      "text/html": [
       "<div>\n",
       "<style scoped>\n",
       "    .dataframe tbody tr th:only-of-type {\n",
       "        vertical-align: middle;\n",
       "    }\n",
       "\n",
       "    .dataframe tbody tr th {\n",
       "        vertical-align: top;\n",
       "    }\n",
       "\n",
       "    .dataframe thead th {\n",
       "        text-align: right;\n",
       "    }\n",
       "</style>\n",
       "<table border=\"1\" class=\"dataframe\">\n",
       "  <thead>\n",
       "    <tr style=\"text-align: right;\">\n",
       "      <th></th>\n",
       "      <th>Unnamed: 0</th>\n",
       "      <th>BOROUGH</th>\n",
       "      <th>NEIGHBORHOOD</th>\n",
       "      <th>BUILDING CLASS CATEGORY</th>\n",
       "      <th>TAX CLASS AT PRESENT</th>\n",
       "      <th>BLOCK</th>\n",
       "      <th>LOT</th>\n",
       "      <th>EASE-MENT</th>\n",
       "      <th>BUILDING CLASS AT PRESENT</th>\n",
       "      <th>ADDRESS</th>\n",
       "      <th>...</th>\n",
       "      <th>RESIDENTIAL UNITS</th>\n",
       "      <th>COMMERCIAL UNITS</th>\n",
       "      <th>TOTAL UNITS</th>\n",
       "      <th>LAND SQUARE FEET</th>\n",
       "      <th>GROSS SQUARE FEET</th>\n",
       "      <th>YEAR BUILT</th>\n",
       "      <th>TAX CLASS AT TIME OF SALE</th>\n",
       "      <th>BUILDING CLASS AT TIME OF SALE</th>\n",
       "      <th>SALE PRICE</th>\n",
       "      <th>SALE DATE</th>\n",
       "    </tr>\n",
       "  </thead>\n",
       "  <tbody>\n",
       "    <tr>\n",
       "      <th>0</th>\n",
       "      <td>4</td>\n",
       "      <td>Manhattan</td>\n",
       "      <td>ALPHABET CITY</td>\n",
       "      <td>07 RENTALS - WALKUP APARTMENTS</td>\n",
       "      <td>2A</td>\n",
       "      <td>392</td>\n",
       "      <td>6</td>\n",
       "      <td>NaN</td>\n",
       "      <td>C2</td>\n",
       "      <td>153 AVENUE B</td>\n",
       "      <td>...</td>\n",
       "      <td>5</td>\n",
       "      <td>0</td>\n",
       "      <td>5</td>\n",
       "      <td>1633</td>\n",
       "      <td>6440</td>\n",
       "      <td>1900</td>\n",
       "      <td>2</td>\n",
       "      <td>C2</td>\n",
       "      <td>6625000</td>\n",
       "      <td>2017-07-19 00:00:00</td>\n",
       "    </tr>\n",
       "    <tr>\n",
       "      <th>1</th>\n",
       "      <td>5</td>\n",
       "      <td>Manhattan</td>\n",
       "      <td>ALPHABET CITY</td>\n",
       "      <td>07 RENTALS - WALKUP APARTMENTS</td>\n",
       "      <td>2</td>\n",
       "      <td>399</td>\n",
       "      <td>26</td>\n",
       "      <td>NaN</td>\n",
       "      <td>C7</td>\n",
       "      <td>234 EAST 4TH   STREET</td>\n",
       "      <td>...</td>\n",
       "      <td>28</td>\n",
       "      <td>3</td>\n",
       "      <td>31</td>\n",
       "      <td>4616</td>\n",
       "      <td>18690</td>\n",
       "      <td>1900</td>\n",
       "      <td>2</td>\n",
       "      <td>C7</td>\n",
       "      <td>-</td>\n",
       "      <td>2016-12-14 00:00:00</td>\n",
       "    </tr>\n",
       "    <tr>\n",
       "      <th>2</th>\n",
       "      <td>6</td>\n",
       "      <td>Manhattan</td>\n",
       "      <td>ALPHABET CITY</td>\n",
       "      <td>07 RENTALS - WALKUP APARTMENTS</td>\n",
       "      <td>2</td>\n",
       "      <td>399</td>\n",
       "      <td>39</td>\n",
       "      <td>NaN</td>\n",
       "      <td>C7</td>\n",
       "      <td>197 EAST 3RD   STREET</td>\n",
       "      <td>...</td>\n",
       "      <td>16</td>\n",
       "      <td>1</td>\n",
       "      <td>17</td>\n",
       "      <td>2212</td>\n",
       "      <td>7803</td>\n",
       "      <td>1900</td>\n",
       "      <td>2</td>\n",
       "      <td>C7</td>\n",
       "      <td>-</td>\n",
       "      <td>2016-12-09 00:00:00</td>\n",
       "    </tr>\n",
       "    <tr>\n",
       "      <th>3</th>\n",
       "      <td>7</td>\n",
       "      <td>Manhattan</td>\n",
       "      <td>ALPHABET CITY</td>\n",
       "      <td>07 RENTALS - WALKUP APARTMENTS</td>\n",
       "      <td>2B</td>\n",
       "      <td>402</td>\n",
       "      <td>21</td>\n",
       "      <td>NaN</td>\n",
       "      <td>C4</td>\n",
       "      <td>154 EAST 7TH STREET</td>\n",
       "      <td>...</td>\n",
       "      <td>10</td>\n",
       "      <td>0</td>\n",
       "      <td>10</td>\n",
       "      <td>2272</td>\n",
       "      <td>6794</td>\n",
       "      <td>1913</td>\n",
       "      <td>2</td>\n",
       "      <td>C4</td>\n",
       "      <td>3936272</td>\n",
       "      <td>2016-09-23 00:00:00</td>\n",
       "    </tr>\n",
       "    <tr>\n",
       "      <th>4</th>\n",
       "      <td>8</td>\n",
       "      <td>Manhattan</td>\n",
       "      <td>ALPHABET CITY</td>\n",
       "      <td>07 RENTALS - WALKUP APARTMENTS</td>\n",
       "      <td>2A</td>\n",
       "      <td>404</td>\n",
       "      <td>55</td>\n",
       "      <td>NaN</td>\n",
       "      <td>C2</td>\n",
       "      <td>301 EAST 10TH   STREET</td>\n",
       "      <td>...</td>\n",
       "      <td>6</td>\n",
       "      <td>0</td>\n",
       "      <td>6</td>\n",
       "      <td>2369</td>\n",
       "      <td>4615</td>\n",
       "      <td>1900</td>\n",
       "      <td>2</td>\n",
       "      <td>C2</td>\n",
       "      <td>8000000</td>\n",
       "      <td>2016-11-17 00:00:00</td>\n",
       "    </tr>\n",
       "  </tbody>\n",
       "</table>\n",
       "<p>5 rows × 22 columns</p>\n",
       "</div>"
      ],
      "text/plain": [
       "   Unnamed: 0    BOROUGH   NEIGHBORHOOD  \\\n",
       "0           4  Manhattan  ALPHABET CITY   \n",
       "1           5  Manhattan  ALPHABET CITY   \n",
       "2           6  Manhattan  ALPHABET CITY   \n",
       "3           7  Manhattan  ALPHABET CITY   \n",
       "4           8  Manhattan  ALPHABET CITY   \n",
       "\n",
       "                       BUILDING CLASS CATEGORY TAX CLASS AT PRESENT  BLOCK  \\\n",
       "0  07 RENTALS - WALKUP APARTMENTS                                2A    392   \n",
       "1  07 RENTALS - WALKUP APARTMENTS                                 2    399   \n",
       "2  07 RENTALS - WALKUP APARTMENTS                                 2    399   \n",
       "3  07 RENTALS - WALKUP APARTMENTS                                2B    402   \n",
       "4  07 RENTALS - WALKUP APARTMENTS                                2A    404   \n",
       "\n",
       "   LOT  EASE-MENT BUILDING CLASS AT PRESENT                 ADDRESS  ...  \\\n",
       "0    6        NaN                        C2            153 AVENUE B  ...   \n",
       "1   26        NaN                        C7   234 EAST 4TH   STREET  ...   \n",
       "2   39        NaN                        C7   197 EAST 3RD   STREET  ...   \n",
       "3   21        NaN                        C4     154 EAST 7TH STREET  ...   \n",
       "4   55        NaN                        C2  301 EAST 10TH   STREET  ...   \n",
       "\n",
       "  RESIDENTIAL UNITS  COMMERCIAL UNITS  TOTAL UNITS  LAND SQUARE FEET  \\\n",
       "0                 5                 0            5              1633   \n",
       "1                28                 3           31              4616   \n",
       "2                16                 1           17              2212   \n",
       "3                10                 0           10              2272   \n",
       "4                 6                 0            6              2369   \n",
       "\n",
       "   GROSS SQUARE FEET YEAR BUILT TAX CLASS AT TIME OF SALE  \\\n",
       "0               6440       1900                         2   \n",
       "1              18690       1900                         2   \n",
       "2               7803       1900                         2   \n",
       "3               6794       1913                         2   \n",
       "4               4615       1900                         2   \n",
       "\n",
       "   BUILDING CLASS AT TIME OF SALE  SALE PRICE            SALE DATE  \n",
       "0                              C2     6625000  2017-07-19 00:00:00  \n",
       "1                              C7         -    2016-12-14 00:00:00  \n",
       "2                              C7         -    2016-12-09 00:00:00  \n",
       "3                              C4     3936272  2016-09-23 00:00:00  \n",
       "4                              C2     8000000  2016-11-17 00:00:00  \n",
       "\n",
       "[5 rows x 22 columns]"
      ]
     },
     "execution_count": 4,
     "metadata": {},
     "output_type": "execute_result"
    }
   ],
   "source": [
    "nyc['BOROUGH'] = nyc.BOROUGH.replace({1: \"Manhattan\", 2: \"Bronx\", 3: \"Brooklyn\", 4: \"Queens\", 5: \"Staten Islands\"})\n",
    "nyc.head()"
   ]
  },
  {
   "cell_type": "markdown",
   "id": "e8632deb-60db-4572-a2b7-e48e0246099c",
   "metadata": {},
   "source": [
    "Melihat lima baris pertama"
   ]
  },
  {
   "cell_type": "markdown",
   "id": "207a7834-6352-48e7-9586-413bf6bc1d3d",
   "metadata": {},
   "source": [
    "Melihat lima baris terakhir"
   ]
  },
  {
   "cell_type": "code",
   "execution_count": 5,
   "id": "59205b70-1c2e-45bf-8aad-91ec6f8d93b5",
   "metadata": {
    "tags": []
   },
   "outputs": [
    {
     "data": {
      "text/html": [
       "<div>\n",
       "<style scoped>\n",
       "    .dataframe tbody tr th:only-of-type {\n",
       "        vertical-align: middle;\n",
       "    }\n",
       "\n",
       "    .dataframe tbody tr th {\n",
       "        vertical-align: top;\n",
       "    }\n",
       "\n",
       "    .dataframe thead th {\n",
       "        text-align: right;\n",
       "    }\n",
       "</style>\n",
       "<table border=\"1\" class=\"dataframe\">\n",
       "  <thead>\n",
       "    <tr style=\"text-align: right;\">\n",
       "      <th></th>\n",
       "      <th>Unnamed: 0</th>\n",
       "      <th>BOROUGH</th>\n",
       "      <th>NEIGHBORHOOD</th>\n",
       "      <th>BUILDING CLASS CATEGORY</th>\n",
       "      <th>TAX CLASS AT PRESENT</th>\n",
       "      <th>BLOCK</th>\n",
       "      <th>LOT</th>\n",
       "      <th>EASE-MENT</th>\n",
       "      <th>BUILDING CLASS AT PRESENT</th>\n",
       "      <th>ADDRESS</th>\n",
       "      <th>...</th>\n",
       "      <th>RESIDENTIAL UNITS</th>\n",
       "      <th>COMMERCIAL UNITS</th>\n",
       "      <th>TOTAL UNITS</th>\n",
       "      <th>LAND SQUARE FEET</th>\n",
       "      <th>GROSS SQUARE FEET</th>\n",
       "      <th>YEAR BUILT</th>\n",
       "      <th>TAX CLASS AT TIME OF SALE</th>\n",
       "      <th>BUILDING CLASS AT TIME OF SALE</th>\n",
       "      <th>SALE PRICE</th>\n",
       "      <th>SALE DATE</th>\n",
       "    </tr>\n",
       "  </thead>\n",
       "  <tbody>\n",
       "    <tr>\n",
       "      <th>84543</th>\n",
       "      <td>8409</td>\n",
       "      <td>Staten Islands</td>\n",
       "      <td>WOODROW</td>\n",
       "      <td>02 TWO FAMILY DWELLINGS</td>\n",
       "      <td>1</td>\n",
       "      <td>7349</td>\n",
       "      <td>34</td>\n",
       "      <td>NaN</td>\n",
       "      <td>B9</td>\n",
       "      <td>37 QUAIL LANE</td>\n",
       "      <td>...</td>\n",
       "      <td>2</td>\n",
       "      <td>0</td>\n",
       "      <td>2</td>\n",
       "      <td>2400</td>\n",
       "      <td>2575</td>\n",
       "      <td>1998</td>\n",
       "      <td>1</td>\n",
       "      <td>B9</td>\n",
       "      <td>450000</td>\n",
       "      <td>2016-11-28 00:00:00</td>\n",
       "    </tr>\n",
       "    <tr>\n",
       "      <th>84544</th>\n",
       "      <td>8410</td>\n",
       "      <td>Staten Islands</td>\n",
       "      <td>WOODROW</td>\n",
       "      <td>02 TWO FAMILY DWELLINGS</td>\n",
       "      <td>1</td>\n",
       "      <td>7349</td>\n",
       "      <td>78</td>\n",
       "      <td>NaN</td>\n",
       "      <td>B9</td>\n",
       "      <td>32 PHEASANT LANE</td>\n",
       "      <td>...</td>\n",
       "      <td>2</td>\n",
       "      <td>0</td>\n",
       "      <td>2</td>\n",
       "      <td>2498</td>\n",
       "      <td>2377</td>\n",
       "      <td>1998</td>\n",
       "      <td>1</td>\n",
       "      <td>B9</td>\n",
       "      <td>550000</td>\n",
       "      <td>2017-04-21 00:00:00</td>\n",
       "    </tr>\n",
       "    <tr>\n",
       "      <th>84545</th>\n",
       "      <td>8411</td>\n",
       "      <td>Staten Islands</td>\n",
       "      <td>WOODROW</td>\n",
       "      <td>02 TWO FAMILY DWELLINGS</td>\n",
       "      <td>1</td>\n",
       "      <td>7351</td>\n",
       "      <td>60</td>\n",
       "      <td>NaN</td>\n",
       "      <td>B2</td>\n",
       "      <td>49 PITNEY AVENUE</td>\n",
       "      <td>...</td>\n",
       "      <td>2</td>\n",
       "      <td>0</td>\n",
       "      <td>2</td>\n",
       "      <td>4000</td>\n",
       "      <td>1496</td>\n",
       "      <td>1925</td>\n",
       "      <td>1</td>\n",
       "      <td>B2</td>\n",
       "      <td>460000</td>\n",
       "      <td>2017-07-05 00:00:00</td>\n",
       "    </tr>\n",
       "    <tr>\n",
       "      <th>84546</th>\n",
       "      <td>8412</td>\n",
       "      <td>Staten Islands</td>\n",
       "      <td>WOODROW</td>\n",
       "      <td>22 STORE BUILDINGS</td>\n",
       "      <td>4</td>\n",
       "      <td>7100</td>\n",
       "      <td>28</td>\n",
       "      <td>NaN</td>\n",
       "      <td>K6</td>\n",
       "      <td>2730 ARTHUR KILL ROAD</td>\n",
       "      <td>...</td>\n",
       "      <td>0</td>\n",
       "      <td>7</td>\n",
       "      <td>7</td>\n",
       "      <td>208033</td>\n",
       "      <td>64117</td>\n",
       "      <td>2001</td>\n",
       "      <td>4</td>\n",
       "      <td>K6</td>\n",
       "      <td>11693337</td>\n",
       "      <td>2016-12-21 00:00:00</td>\n",
       "    </tr>\n",
       "    <tr>\n",
       "      <th>84547</th>\n",
       "      <td>8413</td>\n",
       "      <td>Staten Islands</td>\n",
       "      <td>WOODROW</td>\n",
       "      <td>35 INDOOR PUBLIC AND CULTURAL FACILITIES</td>\n",
       "      <td>4</td>\n",
       "      <td>7105</td>\n",
       "      <td>679</td>\n",
       "      <td>NaN</td>\n",
       "      <td>P9</td>\n",
       "      <td>155 CLAY PIT ROAD</td>\n",
       "      <td>...</td>\n",
       "      <td>0</td>\n",
       "      <td>1</td>\n",
       "      <td>1</td>\n",
       "      <td>10796</td>\n",
       "      <td>2400</td>\n",
       "      <td>2006</td>\n",
       "      <td>4</td>\n",
       "      <td>P9</td>\n",
       "      <td>69300</td>\n",
       "      <td>2016-10-27 00:00:00</td>\n",
       "    </tr>\n",
       "  </tbody>\n",
       "</table>\n",
       "<p>5 rows × 22 columns</p>\n",
       "</div>"
      ],
      "text/plain": [
       "       Unnamed: 0         BOROUGH NEIGHBORHOOD  \\\n",
       "84543        8409  Staten Islands      WOODROW   \n",
       "84544        8410  Staten Islands      WOODROW   \n",
       "84545        8411  Staten Islands      WOODROW   \n",
       "84546        8412  Staten Islands      WOODROW   \n",
       "84547        8413  Staten Islands      WOODROW   \n",
       "\n",
       "                           BUILDING CLASS CATEGORY TAX CLASS AT PRESENT  \\\n",
       "84543  02 TWO FAMILY DWELLINGS                                        1   \n",
       "84544  02 TWO FAMILY DWELLINGS                                        1   \n",
       "84545  02 TWO FAMILY DWELLINGS                                        1   \n",
       "84546  22 STORE BUILDINGS                                             4   \n",
       "84547  35 INDOOR PUBLIC AND CULTURAL FACILITIES                       4   \n",
       "\n",
       "       BLOCK  LOT  EASE-MENT BUILDING CLASS AT PRESENT                ADDRESS  \\\n",
       "84543   7349   34        NaN                        B9          37 QUAIL LANE   \n",
       "84544   7349   78        NaN                        B9       32 PHEASANT LANE   \n",
       "84545   7351   60        NaN                        B2       49 PITNEY AVENUE   \n",
       "84546   7100   28        NaN                        K6  2730 ARTHUR KILL ROAD   \n",
       "84547   7105  679        NaN                        P9      155 CLAY PIT ROAD   \n",
       "\n",
       "       ... RESIDENTIAL UNITS  COMMERCIAL UNITS  TOTAL UNITS  LAND SQUARE FEET  \\\n",
       "84543  ...                 2                 0            2              2400   \n",
       "84544  ...                 2                 0            2              2498   \n",
       "84545  ...                 2                 0            2              4000   \n",
       "84546  ...                 0                 7            7            208033   \n",
       "84547  ...                 0                 1            1             10796   \n",
       "\n",
       "       GROSS SQUARE FEET YEAR BUILT TAX CLASS AT TIME OF SALE  \\\n",
       "84543               2575       1998                         1   \n",
       "84544               2377       1998                         1   \n",
       "84545               1496       1925                         1   \n",
       "84546              64117       2001                         4   \n",
       "84547               2400       2006                         4   \n",
       "\n",
       "       BUILDING CLASS AT TIME OF SALE  SALE PRICE            SALE DATE  \n",
       "84543                              B9      450000  2016-11-28 00:00:00  \n",
       "84544                              B9      550000  2017-04-21 00:00:00  \n",
       "84545                              B2      460000  2017-07-05 00:00:00  \n",
       "84546                              K6    11693337  2016-12-21 00:00:00  \n",
       "84547                              P9       69300  2016-10-27 00:00:00  \n",
       "\n",
       "[5 rows x 22 columns]"
      ]
     },
     "execution_count": 5,
     "metadata": {},
     "output_type": "execute_result"
    }
   ],
   "source": [
    "nyc.tail()"
   ]
  },
  {
   "cell_type": "markdown",
   "id": "9ce20291-0f65-4646-a219-8fcf2f54e0df",
   "metadata": {},
   "source": [
    "Melihat ringkasan data"
   ]
  },
  {
   "cell_type": "code",
   "execution_count": 6,
   "id": "2bb44f9b-b4bf-4c2e-98ec-54255f9d439b",
   "metadata": {
    "tags": []
   },
   "outputs": [
    {
     "data": {
      "text/html": [
       "<div>\n",
       "<style scoped>\n",
       "    .dataframe tbody tr th:only-of-type {\n",
       "        vertical-align: middle;\n",
       "    }\n",
       "\n",
       "    .dataframe tbody tr th {\n",
       "        vertical-align: top;\n",
       "    }\n",
       "\n",
       "    .dataframe thead th {\n",
       "        text-align: right;\n",
       "    }\n",
       "</style>\n",
       "<table border=\"1\" class=\"dataframe\">\n",
       "  <thead>\n",
       "    <tr style=\"text-align: right;\">\n",
       "      <th></th>\n",
       "      <th>count</th>\n",
       "      <th>mean</th>\n",
       "      <th>std</th>\n",
       "      <th>min</th>\n",
       "      <th>25%</th>\n",
       "      <th>50%</th>\n",
       "      <th>75%</th>\n",
       "      <th>max</th>\n",
       "    </tr>\n",
       "  </thead>\n",
       "  <tbody>\n",
       "    <tr>\n",
       "      <th>Unnamed: 0</th>\n",
       "      <td>84548.0</td>\n",
       "      <td>10344.359878</td>\n",
       "      <td>7151.779436</td>\n",
       "      <td>4.0</td>\n",
       "      <td>4231.00</td>\n",
       "      <td>8942.0</td>\n",
       "      <td>15987.25</td>\n",
       "      <td>26739.0</td>\n",
       "    </tr>\n",
       "    <tr>\n",
       "      <th>BLOCK</th>\n",
       "      <td>84548.0</td>\n",
       "      <td>4237.218976</td>\n",
       "      <td>3568.263407</td>\n",
       "      <td>1.0</td>\n",
       "      <td>1322.75</td>\n",
       "      <td>3311.0</td>\n",
       "      <td>6281.00</td>\n",
       "      <td>16322.0</td>\n",
       "    </tr>\n",
       "    <tr>\n",
       "      <th>LOT</th>\n",
       "      <td>84548.0</td>\n",
       "      <td>376.224015</td>\n",
       "      <td>658.136814</td>\n",
       "      <td>1.0</td>\n",
       "      <td>22.00</td>\n",
       "      <td>50.0</td>\n",
       "      <td>1001.00</td>\n",
       "      <td>9106.0</td>\n",
       "    </tr>\n",
       "    <tr>\n",
       "      <th>EASE-MENT</th>\n",
       "      <td>0.0</td>\n",
       "      <td>NaN</td>\n",
       "      <td>NaN</td>\n",
       "      <td>NaN</td>\n",
       "      <td>NaN</td>\n",
       "      <td>NaN</td>\n",
       "      <td>NaN</td>\n",
       "      <td>NaN</td>\n",
       "    </tr>\n",
       "    <tr>\n",
       "      <th>ZIP CODE</th>\n",
       "      <td>84548.0</td>\n",
       "      <td>10731.991614</td>\n",
       "      <td>1290.879147</td>\n",
       "      <td>0.0</td>\n",
       "      <td>10305.00</td>\n",
       "      <td>11209.0</td>\n",
       "      <td>11357.00</td>\n",
       "      <td>11694.0</td>\n",
       "    </tr>\n",
       "    <tr>\n",
       "      <th>RESIDENTIAL UNITS</th>\n",
       "      <td>84548.0</td>\n",
       "      <td>2.025264</td>\n",
       "      <td>16.721037</td>\n",
       "      <td>0.0</td>\n",
       "      <td>0.00</td>\n",
       "      <td>1.0</td>\n",
       "      <td>2.00</td>\n",
       "      <td>1844.0</td>\n",
       "    </tr>\n",
       "    <tr>\n",
       "      <th>COMMERCIAL UNITS</th>\n",
       "      <td>84548.0</td>\n",
       "      <td>0.193559</td>\n",
       "      <td>8.713183</td>\n",
       "      <td>0.0</td>\n",
       "      <td>0.00</td>\n",
       "      <td>0.0</td>\n",
       "      <td>0.00</td>\n",
       "      <td>2261.0</td>\n",
       "    </tr>\n",
       "    <tr>\n",
       "      <th>TOTAL UNITS</th>\n",
       "      <td>84548.0</td>\n",
       "      <td>2.249184</td>\n",
       "      <td>18.972584</td>\n",
       "      <td>0.0</td>\n",
       "      <td>1.00</td>\n",
       "      <td>1.0</td>\n",
       "      <td>2.00</td>\n",
       "      <td>2261.0</td>\n",
       "    </tr>\n",
       "    <tr>\n",
       "      <th>YEAR BUILT</th>\n",
       "      <td>84548.0</td>\n",
       "      <td>1789.322976</td>\n",
       "      <td>537.344993</td>\n",
       "      <td>0.0</td>\n",
       "      <td>1920.00</td>\n",
       "      <td>1940.0</td>\n",
       "      <td>1965.00</td>\n",
       "      <td>2017.0</td>\n",
       "    </tr>\n",
       "    <tr>\n",
       "      <th>TAX CLASS AT TIME OF SALE</th>\n",
       "      <td>84548.0</td>\n",
       "      <td>1.657485</td>\n",
       "      <td>0.819341</td>\n",
       "      <td>1.0</td>\n",
       "      <td>1.00</td>\n",
       "      <td>2.0</td>\n",
       "      <td>2.00</td>\n",
       "      <td>4.0</td>\n",
       "    </tr>\n",
       "  </tbody>\n",
       "</table>\n",
       "</div>"
      ],
      "text/plain": [
       "                             count          mean          std  min       25%  \\\n",
       "Unnamed: 0                 84548.0  10344.359878  7151.779436  4.0   4231.00   \n",
       "BLOCK                      84548.0   4237.218976  3568.263407  1.0   1322.75   \n",
       "LOT                        84548.0    376.224015   658.136814  1.0     22.00   \n",
       "EASE-MENT                      0.0           NaN          NaN  NaN       NaN   \n",
       "ZIP CODE                   84548.0  10731.991614  1290.879147  0.0  10305.00   \n",
       "RESIDENTIAL UNITS          84548.0      2.025264    16.721037  0.0      0.00   \n",
       "COMMERCIAL UNITS           84548.0      0.193559     8.713183  0.0      0.00   \n",
       "TOTAL UNITS                84548.0      2.249184    18.972584  0.0      1.00   \n",
       "YEAR BUILT                 84548.0   1789.322976   537.344993  0.0   1920.00   \n",
       "TAX CLASS AT TIME OF SALE  84548.0      1.657485     0.819341  1.0      1.00   \n",
       "\n",
       "                               50%       75%      max  \n",
       "Unnamed: 0                  8942.0  15987.25  26739.0  \n",
       "BLOCK                       3311.0   6281.00  16322.0  \n",
       "LOT                           50.0   1001.00   9106.0  \n",
       "EASE-MENT                      NaN       NaN      NaN  \n",
       "ZIP CODE                   11209.0  11357.00  11694.0  \n",
       "RESIDENTIAL UNITS              1.0      2.00   1844.0  \n",
       "COMMERCIAL UNITS               0.0      0.00   2261.0  \n",
       "TOTAL UNITS                    1.0      2.00   2261.0  \n",
       "YEAR BUILT                  1940.0   1965.00   2017.0  \n",
       "TAX CLASS AT TIME OF SALE      2.0      2.00      4.0  "
      ]
     },
     "execution_count": 6,
     "metadata": {},
     "output_type": "execute_result"
    }
   ],
   "source": [
    "nyc.describe().transpose()"
   ]
  },
  {
   "cell_type": "code",
   "execution_count": 7,
   "id": "977e9c66-90d1-4533-bb39-1375b49b9ea2",
   "metadata": {
    "tags": []
   },
   "outputs": [
    {
     "data": {
      "text/html": [
       "<div>\n",
       "<style scoped>\n",
       "    .dataframe tbody tr th:only-of-type {\n",
       "        vertical-align: middle;\n",
       "    }\n",
       "\n",
       "    .dataframe tbody tr th {\n",
       "        vertical-align: top;\n",
       "    }\n",
       "\n",
       "    .dataframe thead th {\n",
       "        text-align: right;\n",
       "    }\n",
       "</style>\n",
       "<table border=\"1\" class=\"dataframe\">\n",
       "  <thead>\n",
       "    <tr style=\"text-align: right;\">\n",
       "      <th></th>\n",
       "      <th>count</th>\n",
       "      <th>unique</th>\n",
       "      <th>top</th>\n",
       "      <th>freq</th>\n",
       "    </tr>\n",
       "  </thead>\n",
       "  <tbody>\n",
       "    <tr>\n",
       "      <th>BOROUGH</th>\n",
       "      <td>84548</td>\n",
       "      <td>5</td>\n",
       "      <td>Queens</td>\n",
       "      <td>26736</td>\n",
       "    </tr>\n",
       "    <tr>\n",
       "      <th>NEIGHBORHOOD</th>\n",
       "      <td>84548</td>\n",
       "      <td>254</td>\n",
       "      <td>FLUSHING-NORTH</td>\n",
       "      <td>3068</td>\n",
       "    </tr>\n",
       "    <tr>\n",
       "      <th>BUILDING CLASS CATEGORY</th>\n",
       "      <td>84548</td>\n",
       "      <td>47</td>\n",
       "      <td>01 ONE FAMILY DWELLINGS</td>\n",
       "      <td>18235</td>\n",
       "    </tr>\n",
       "    <tr>\n",
       "      <th>TAX CLASS AT PRESENT</th>\n",
       "      <td>83810</td>\n",
       "      <td>10</td>\n",
       "      <td>1</td>\n",
       "      <td>38633</td>\n",
       "    </tr>\n",
       "    <tr>\n",
       "      <th>BUILDING CLASS AT PRESENT</th>\n",
       "      <td>83810</td>\n",
       "      <td>166</td>\n",
       "      <td>D4</td>\n",
       "      <td>12663</td>\n",
       "    </tr>\n",
       "    <tr>\n",
       "      <th>ADDRESS</th>\n",
       "      <td>84548</td>\n",
       "      <td>67563</td>\n",
       "      <td>131-05 40TH   ROAD</td>\n",
       "      <td>210</td>\n",
       "    </tr>\n",
       "    <tr>\n",
       "      <th>APARTMENT NUMBER</th>\n",
       "      <td>19052</td>\n",
       "      <td>3988</td>\n",
       "      <td>4</td>\n",
       "      <td>298</td>\n",
       "    </tr>\n",
       "    <tr>\n",
       "      <th>LAND SQUARE FEET</th>\n",
       "      <td>84548</td>\n",
       "      <td>6062</td>\n",
       "      <td>-</td>\n",
       "      <td>26252</td>\n",
       "    </tr>\n",
       "    <tr>\n",
       "      <th>GROSS SQUARE FEET</th>\n",
       "      <td>84548</td>\n",
       "      <td>5691</td>\n",
       "      <td>-</td>\n",
       "      <td>27612</td>\n",
       "    </tr>\n",
       "    <tr>\n",
       "      <th>BUILDING CLASS AT TIME OF SALE</th>\n",
       "      <td>84548</td>\n",
       "      <td>166</td>\n",
       "      <td>R4</td>\n",
       "      <td>12989</td>\n",
       "    </tr>\n",
       "    <tr>\n",
       "      <th>SALE PRICE</th>\n",
       "      <td>84548</td>\n",
       "      <td>10008</td>\n",
       "      <td>-</td>\n",
       "      <td>14561</td>\n",
       "    </tr>\n",
       "    <tr>\n",
       "      <th>SALE DATE</th>\n",
       "      <td>84548</td>\n",
       "      <td>364</td>\n",
       "      <td>2017-06-29 00:00:00</td>\n",
       "      <td>544</td>\n",
       "    </tr>\n",
       "  </tbody>\n",
       "</table>\n",
       "</div>"
      ],
      "text/plain": [
       "                                count unique  \\\n",
       "BOROUGH                         84548      5   \n",
       "NEIGHBORHOOD                    84548    254   \n",
       "BUILDING CLASS CATEGORY         84548     47   \n",
       "TAX CLASS AT PRESENT            83810     10   \n",
       "BUILDING CLASS AT PRESENT       83810    166   \n",
       "ADDRESS                         84548  67563   \n",
       "APARTMENT NUMBER                19052   3988   \n",
       "LAND SQUARE FEET                84548   6062   \n",
       "GROSS SQUARE FEET               84548   5691   \n",
       "BUILDING CLASS AT TIME OF SALE  84548    166   \n",
       "SALE PRICE                      84548  10008   \n",
       "SALE DATE                       84548    364   \n",
       "\n",
       "                                                                        top  \\\n",
       "BOROUGH                                                              Queens   \n",
       "NEIGHBORHOOD                                                 FLUSHING-NORTH   \n",
       "BUILDING CLASS CATEGORY         01 ONE FAMILY DWELLINGS                       \n",
       "TAX CLASS AT PRESENT                                                      1   \n",
       "BUILDING CLASS AT PRESENT                                                D4   \n",
       "ADDRESS                                                  131-05 40TH   ROAD   \n",
       "APARTMENT NUMBER                                                          4   \n",
       "LAND SQUARE FEET                                                        -     \n",
       "GROSS SQUARE FEET                                                       -     \n",
       "BUILDING CLASS AT TIME OF SALE                                           R4   \n",
       "SALE PRICE                                                              -     \n",
       "SALE DATE                                               2017-06-29 00:00:00   \n",
       "\n",
       "                                 freq  \n",
       "BOROUGH                         26736  \n",
       "NEIGHBORHOOD                     3068  \n",
       "BUILDING CLASS CATEGORY         18235  \n",
       "TAX CLASS AT PRESENT            38633  \n",
       "BUILDING CLASS AT PRESENT       12663  \n",
       "ADDRESS                           210  \n",
       "APARTMENT NUMBER                  298  \n",
       "LAND SQUARE FEET                26252  \n",
       "GROSS SQUARE FEET               27612  \n",
       "BUILDING CLASS AT TIME OF SALE  12989  \n",
       "SALE PRICE                      14561  \n",
       "SALE DATE                         544  "
      ]
     },
     "execution_count": 7,
     "metadata": {},
     "output_type": "execute_result"
    }
   ],
   "source": [
    "nyc.describe(include = 'O').transpose()"
   ]
  },
  {
   "cell_type": "markdown",
   "id": "f187b04b-1c23-47ab-b004-2ace2b493a6c",
   "metadata": {},
   "source": [
    "## Data Cleaning"
   ]
  },
  {
   "cell_type": "markdown",
   "id": "92802103-aeb3-4969-9627-fd892a9d1cb6",
   "metadata": {},
   "source": [
    "Melihat tipe data pada dataset"
   ]
  },
  {
   "cell_type": "code",
   "execution_count": 8,
   "id": "fd94509d-82e6-4d19-afcd-ac79b37790a4",
   "metadata": {
    "tags": []
   },
   "outputs": [
    {
     "name": "stdout",
     "output_type": "stream",
     "text": [
      "<class 'pandas.core.frame.DataFrame'>\n",
      "RangeIndex: 84548 entries, 0 to 84547\n",
      "Data columns (total 22 columns):\n",
      " #   Column                          Non-Null Count  Dtype  \n",
      "---  ------                          --------------  -----  \n",
      " 0   Unnamed: 0                      84548 non-null  int64  \n",
      " 1   BOROUGH                         84548 non-null  object \n",
      " 2   NEIGHBORHOOD                    84548 non-null  object \n",
      " 3   BUILDING CLASS CATEGORY         84548 non-null  object \n",
      " 4   TAX CLASS AT PRESENT            83810 non-null  object \n",
      " 5   BLOCK                           84548 non-null  int64  \n",
      " 6   LOT                             84548 non-null  int64  \n",
      " 7   EASE-MENT                       0 non-null      float64\n",
      " 8   BUILDING CLASS AT PRESENT       83810 non-null  object \n",
      " 9   ADDRESS                         84548 non-null  object \n",
      " 10  APARTMENT NUMBER                19052 non-null  object \n",
      " 11  ZIP CODE                        84548 non-null  int64  \n",
      " 12  RESIDENTIAL UNITS               84548 non-null  int64  \n",
      " 13  COMMERCIAL UNITS                84548 non-null  int64  \n",
      " 14  TOTAL UNITS                     84548 non-null  int64  \n",
      " 15  LAND SQUARE FEET                84548 non-null  object \n",
      " 16  GROSS SQUARE FEET               84548 non-null  object \n",
      " 17  YEAR BUILT                      84548 non-null  int64  \n",
      " 18  TAX CLASS AT TIME OF SALE       84548 non-null  int64  \n",
      " 19  BUILDING CLASS AT TIME OF SALE  84548 non-null  object \n",
      " 20  SALE PRICE                      84548 non-null  object \n",
      " 21  SALE DATE                       84548 non-null  object \n",
      "dtypes: float64(1), int64(9), object(12)\n",
      "memory usage: 14.2+ MB\n"
     ]
    }
   ],
   "source": [
    "nyc.info()"
   ]
  },
  {
   "cell_type": "markdown",
   "id": "2b31c41e-0fe0-4173-8975-dc8b1129e341",
   "metadata": {},
   "source": [
    "Dari hasil di atas, datset tersebut memiliki 10 tipe data integer dan 12 data objek"
   ]
  },
  {
   "cell_type": "markdown",
   "id": "6783b291-3a09-4c80-94da-2e66a030ca4a",
   "metadata": {},
   "source": [
    "Melihat kolom data"
   ]
  },
  {
   "cell_type": "code",
   "execution_count": 9,
   "id": "5926e1c7-ade1-4edd-8013-2b46c4df40db",
   "metadata": {
    "tags": []
   },
   "outputs": [
    {
     "data": {
      "text/plain": [
       "Index(['Unnamed: 0', 'BOROUGH', 'NEIGHBORHOOD', 'BUILDING CLASS CATEGORY',\n",
       "       'TAX CLASS AT PRESENT', 'BLOCK', 'LOT', 'EASE-MENT',\n",
       "       'BUILDING CLASS AT PRESENT', 'ADDRESS', 'APARTMENT NUMBER', 'ZIP CODE',\n",
       "       'RESIDENTIAL UNITS', 'COMMERCIAL UNITS', 'TOTAL UNITS',\n",
       "       'LAND SQUARE FEET', 'GROSS SQUARE FEET', 'YEAR BUILT',\n",
       "       'TAX CLASS AT TIME OF SALE', 'BUILDING CLASS AT TIME OF SALE',\n",
       "       'SALE PRICE', 'SALE DATE'],\n",
       "      dtype='object')"
      ]
     },
     "execution_count": 9,
     "metadata": {},
     "output_type": "execute_result"
    }
   ],
   "source": [
    "nyc.columns"
   ]
  },
  {
   "cell_type": "markdown",
   "id": "2a87cbec-0de8-4a4e-9cc7-18af5a287c9a",
   "metadata": {},
   "source": [
    "Melihat apakah terdapat missing value"
   ]
  },
  {
   "cell_type": "code",
   "execution_count": 10,
   "id": "3c40c8f5-311e-4bf2-9b22-6f90b86df0e3",
   "metadata": {
    "tags": []
   },
   "outputs": [
    {
     "data": {
      "text/plain": [
       "Unnamed: 0                            0\n",
       "BOROUGH                               0\n",
       "NEIGHBORHOOD                          0\n",
       "BUILDING CLASS CATEGORY               0\n",
       "TAX CLASS AT PRESENT                738\n",
       "BLOCK                                 0\n",
       "LOT                                   0\n",
       "EASE-MENT                         84548\n",
       "BUILDING CLASS AT PRESENT           738\n",
       "ADDRESS                               0\n",
       "APARTMENT NUMBER                  65496\n",
       "ZIP CODE                              0\n",
       "RESIDENTIAL UNITS                     0\n",
       "COMMERCIAL UNITS                      0\n",
       "TOTAL UNITS                           0\n",
       "LAND SQUARE FEET                      0\n",
       "GROSS SQUARE FEET                     0\n",
       "YEAR BUILT                            0\n",
       "TAX CLASS AT TIME OF SALE             0\n",
       "BUILDING CLASS AT TIME OF SALE        0\n",
       "SALE PRICE                            0\n",
       "SALE DATE                             0\n",
       "dtype: int64"
      ]
     },
     "execution_count": 10,
     "metadata": {},
     "output_type": "execute_result"
    }
   ],
   "source": [
    "nyc.isna().sum()"
   ]
  },
  {
   "cell_type": "markdown",
   "id": "c119b083-0908-48ce-8985-7cfd66af9bff",
   "metadata": {},
   "source": [
    "Dari hasil di atas bisa dilihat bahwa terdapat missing value pada colom 'TAX CLASS AT PRESENT', 'EASE-MENT', 'BUILDING CLASS AT PRESENT', dan 'APARTMENT NUMBER'."
   ]
  },
  {
   "cell_type": "code",
   "execution_count": 11,
   "id": "8e961d47-0a77-409e-bfc5-5a632b83f167",
   "metadata": {
    "tags": []
   },
   "outputs": [
    {
     "name": "stdout",
     "output_type": "stream",
     "text": [
      "UNIQUE VALUES FOR  Unnamed: 0\n",
      "========================================\n",
      "[    4     5     6 ... 26737 26738 26739]\n",
      "========================================\n",
      "UNIQUE VALUES FOR  BOROUGH\n",
      "========================================\n",
      "['Manhattan' 'Bronx' 'Brooklyn' 'Queens' 'Staten Islands']\n",
      "========================================\n",
      "UNIQUE VALUES FOR  NEIGHBORHOOD\n",
      "========================================\n",
      "['ALPHABET CITY' 'CHELSEA' 'CHINATOWN' 'CIVIC CENTER' 'CLINTON'\n",
      " 'EAST VILLAGE' 'FASHION' 'FINANCIAL' 'FLATIRON' 'GRAMERCY'\n",
      " 'GREENWICH VILLAGE-CENTRAL' 'GREENWICH VILLAGE-WEST' 'HARLEM-CENTRAL'\n",
      " 'HARLEM-EAST' 'HARLEM-UPPER' 'HARLEM-WEST' 'INWOOD' 'JAVITS CENTER'\n",
      " 'KIPS BAY' 'LITTLE ITALY' 'LOWER EAST SIDE' 'MANHATTAN VALLEY'\n",
      " 'MIDTOWN CBD' 'MIDTOWN EAST' 'MIDTOWN WEST' 'MORNINGSIDE HEIGHTS'\n",
      " 'MURRAY HILL' 'ROOSEVELT ISLAND' 'SOHO' 'SOUTHBRIDGE' 'TRIBECA'\n",
      " 'UPPER EAST SIDE (59-79)' 'UPPER EAST SIDE (79-96)'\n",
      " 'UPPER EAST SIDE (96-110)' 'UPPER WEST SIDE (59-79)'\n",
      " 'UPPER WEST SIDE (79-96)' 'UPPER WEST SIDE (96-116)'\n",
      " 'WASHINGTON HEIGHTS LOWER' 'WASHINGTON HEIGHTS UPPER' 'BATHGATE'\n",
      " 'BAYCHESTER' 'BEDFORD PARK/NORWOOD' 'BELMONT' 'BRONX PARK' 'BRONXDALE'\n",
      " 'CASTLE HILL/UNIONPORT' 'CITY ISLAND' 'CITY ISLAND-PELHAM STRIP'\n",
      " 'CO-OP CITY' 'COUNTRY CLUB' 'CROTONA PARK' 'EAST RIVER' 'EAST TREMONT'\n",
      " 'FIELDSTON' 'FORDHAM' 'HIGHBRIDGE/MORRIS HEIGHTS' 'HUNTS POINT'\n",
      " 'KINGSBRIDGE HTS/UNIV HTS' 'KINGSBRIDGE/JEROME PARK' 'MELROSE/CONCOURSE'\n",
      " 'MORRIS PARK/VAN NEST' 'MORRISANIA/LONGWOOD' 'MOTT HAVEN/PORT MORRIS'\n",
      " 'MOUNT HOPE/MOUNT EDEN' 'PARKCHESTER' 'PELHAM BAY' 'PELHAM GARDENS'\n",
      " 'PELHAM PARKWAY NORTH' 'PELHAM PARKWAY SOUTH' 'RIVERDALE'\n",
      " 'SCHUYLERVILLE/PELHAM BAY' 'SOUNDVIEW' 'THROGS NECK' 'VAN CORTLANDT PARK'\n",
      " 'WAKEFIELD' 'WESTCHESTER' 'WILLIAMSBRIDGE' 'WOODLAWN' 'BATH BEACH'\n",
      " 'BAY RIDGE' 'BEDFORD STUYVESANT' 'BENSONHURST' 'BERGEN BEACH'\n",
      " 'BOERUM HILL' 'BOROUGH PARK' 'BRIGHTON BEACH' 'BROOKLYN HEIGHTS'\n",
      " 'BROWNSVILLE' 'BUSH TERMINAL' 'BUSHWICK' 'CANARSIE' 'CARROLL GARDENS'\n",
      " 'CLINTON HILL' 'COBBLE HILL' 'COBBLE HILL-WEST' 'CONEY ISLAND'\n",
      " 'CROWN HEIGHTS' 'CYPRESS HILLS' 'DOWNTOWN-FULTON FERRY'\n",
      " 'DOWNTOWN-FULTON MALL' 'DOWNTOWN-METROTECH' 'DYKER HEIGHTS'\n",
      " 'EAST NEW YORK' 'FLATBUSH-CENTRAL' 'FLATBUSH-EAST'\n",
      " 'FLATBUSH-LEFFERTS GARDEN' 'FLATBUSH-NORTH' 'FLATLANDS' 'FORT GREENE'\n",
      " 'GERRITSEN BEACH' 'GOWANUS' 'GRAVESEND' 'GREENPOINT' 'JAMAICA BAY'\n",
      " 'KENSINGTON' 'MADISON' 'MANHATTAN BEACH' 'MARINE PARK' 'MIDWOOD'\n",
      " 'MILL BASIN' 'NAVY YARD' 'OCEAN HILL' 'OCEAN PARKWAY-NORTH'\n",
      " 'OCEAN PARKWAY-SOUTH' 'OLD MILL BASIN' 'PARK SLOPE' 'PARK SLOPE SOUTH'\n",
      " 'PROSPECT HEIGHTS' 'RED HOOK' 'SEAGATE' 'SHEEPSHEAD BAY' 'SPRING CREEK'\n",
      " 'SUNSET PARK' 'WILLIAMSBURG-CENTRAL' 'WILLIAMSBURG-EAST'\n",
      " 'WILLIAMSBURG-NORTH' 'WILLIAMSBURG-SOUTH' 'WINDSOR TERRACE'\n",
      " 'WYCKOFF HEIGHTS' 'AIRPORT LA GUARDIA' 'ARVERNE' 'ASTORIA' 'BAYSIDE'\n",
      " 'BEECHHURST' 'BELLE HARBOR' 'BELLEROSE' 'BRIARWOOD' 'BROAD CHANNEL'\n",
      " 'CAMBRIA HEIGHTS' 'COLLEGE POINT' 'CORONA' 'DOUGLASTON' 'EAST ELMHURST'\n",
      " 'ELMHURST' 'FAR ROCKAWAY' 'FLORAL PARK' 'FLUSHING MEADOW PARK'\n",
      " 'FLUSHING-NORTH' 'FLUSHING-SOUTH' 'FOREST HILLS' 'FRESH MEADOWS'\n",
      " 'GLEN OAKS' 'GLENDALE' 'HAMMELS' 'HILLCREST' 'HOLLIS' 'HOLLIS HILLS'\n",
      " 'HOLLISWOOD' 'HOWARD BEACH' 'JACKSON HEIGHTS' 'JAMAICA' 'JAMAICA ESTATES'\n",
      " 'JAMAICA HILLS' 'KEW GARDENS' 'LAURELTON' 'LITTLE NECK'\n",
      " 'LONG ISLAND CITY' 'MASPETH' 'MIDDLE VILLAGE' 'NEPONSIT'\n",
      " 'OAKLAND GARDENS' 'OZONE PARK' 'QUEENS VILLAGE' 'REGO PARK'\n",
      " 'RICHMOND HILL' 'RIDGEWOOD' 'ROCKAWAY PARK' 'ROSEDALE'\n",
      " 'SO. JAMAICA-BAISLEY PARK' 'SOUTH JAMAICA' 'SOUTH OZONE PARK'\n",
      " 'SPRINGFIELD GARDENS' 'ST. ALBANS' 'SUNNYSIDE' 'WHITESTONE' 'WOODHAVEN'\n",
      " 'WOODSIDE' 'ANNADALE' 'ARDEN HEIGHTS' 'ARROCHAR' 'ARROCHAR-SHORE ACRES'\n",
      " 'BLOOMFIELD' 'BULLS HEAD' 'CASTLETON CORNERS' 'CLOVE LAKES' 'CONCORD'\n",
      " 'CONCORD-FOX HILLS' 'DONGAN HILLS' 'DONGAN HILLS-COLONY'\n",
      " 'DONGAN HILLS-OLD TOWN' 'ELTINGVILLE' 'EMERSON HILL' 'FRESH KILLS'\n",
      " 'GRANT CITY' 'GRASMERE' 'GREAT KILLS' 'GREAT KILLS-BAY TERRACE'\n",
      " 'GRYMES HILL' 'HUGUENOT' 'LIVINGSTON' 'MANOR HEIGHTS' 'MARINERS HARBOR'\n",
      " 'MIDLAND BEACH' 'NEW BRIGHTON' 'NEW BRIGHTON-ST. GEORGE' 'NEW DORP'\n",
      " 'NEW DORP-BEACH' 'NEW DORP-HEIGHTS' 'NEW SPRINGVILLE' 'OAKWOOD'\n",
      " 'OAKWOOD-BEACH' 'PLEASANT PLAINS' 'PORT IVORY' 'PORT RICHMOND'\n",
      " 'PRINCES BAY' 'RICHMONDTOWN' 'RICHMONDTOWN-LIGHTHS HILL' 'ROSEBANK'\n",
      " 'ROSSVILLE' 'ROSSVILLE-CHARLESTON' 'ROSSVILLE-PORT MOBIL'\n",
      " 'ROSSVILLE-RICHMOND VALLEY' 'SILVER LAKE' 'SOUTH BEACH' 'STAPLETON'\n",
      " 'STAPLETON-CLIFTON' 'TODT HILL' 'TOMPKINSVILLE' 'TOTTENVILLE' 'TRAVIS'\n",
      " 'WEST NEW BRIGHTON' 'WESTERLEIGH' 'WILLOWBROOK' 'WOODROW']\n",
      "========================================\n",
      "UNIQUE VALUES FOR  BUILDING CLASS CATEGORY\n",
      "========================================\n",
      "['07 RENTALS - WALKUP APARTMENTS             '\n",
      " '08 RENTALS - ELEVATOR APARTMENTS           '\n",
      " '09 COOPS - WALKUP APARTMENTS               '\n",
      " '10 COOPS - ELEVATOR APARTMENTS             '\n",
      " '11A CONDO-RENTALS                           '\n",
      " '12 CONDOS - WALKUP APARTMENTS              '\n",
      " '13 CONDOS - ELEVATOR APARTMENTS            '\n",
      " '14 RENTALS - 4-10 UNIT                     '\n",
      " '15 CONDOS - 2-10 UNIT RESIDENTIAL          '\n",
      " '16 CONDOS - 2-10 UNIT WITH COMMERCIAL UNIT '\n",
      " '17 CONDO COOPS                             '\n",
      " '22 STORE BUILDINGS                         '\n",
      " '37 RELIGIOUS FACILITIES                    '\n",
      " '42 CONDO CULTURAL/MEDICAL/EDUCATIONAL/ETC  '\n",
      " '46 CONDO STORE BUILDINGS                   '\n",
      " '47 CONDO NON-BUSINESS STORAGE              '\n",
      " '01 ONE FAMILY DWELLINGS                    '\n",
      " '02 TWO FAMILY DWELLINGS                    '\n",
      " '03 THREE FAMILY DWELLINGS                  '\n",
      " '04 TAX CLASS 1 CONDOS                      '\n",
      " '21 OFFICE BUILDINGS                        '\n",
      " '23 LOFT BUILDINGS                          '\n",
      " '25 LUXURY HOTELS                           '\n",
      " '26 OTHER HOTELS                            '\n",
      " '28 COMMERCIAL CONDOS                       '\n",
      " '29 COMMERCIAL GARAGES                      '\n",
      " '35 INDOOR PUBLIC AND CULTURAL FACILITIES   '\n",
      " '38 ASYLUMS AND HOMES                       '\n",
      " '43 CONDO OFFICE BUILDINGS                  '\n",
      " '44 CONDO PARKING                           '\n",
      " '48 CONDO TERRACES/GARDENS/CABANAS          '\n",
      " '31 COMMERCIAL VACANT LAND                  '\n",
      " '32 HOSPITAL AND HEALTH FACILITIES          '\n",
      " '41 TAX CLASS 4 - OTHER                     '\n",
      " '18 TAX CLASS 3 - UNTILITY PROPERTIES       '\n",
      " '30 WAREHOUSES                              '\n",
      " '36 OUTDOOR RECREATIONAL FACILITIES         '\n",
      " '49 CONDO WAREHOUSES/FACTORY/INDUS          '\n",
      " '34 THEATRES                                '\n",
      " '27 FACTORIES                               '\n",
      " '40 SELECTED GOVERNMENTAL FACILITIES        '\n",
      " '45 CONDO HOTELS                            '\n",
      " '33 EDUCATIONAL FACILITIES                  '\n",
      " '11 SPECIAL CONDO BILLING LOTS              '\n",
      " '05 TAX CLASS 1 VACANT LAND                 '\n",
      " '06 TAX CLASS 1 - OTHER                     '\n",
      " '39 TRANSPORTATION FACILITIES               ']\n",
      "========================================\n",
      "UNIQUE VALUES FOR  TAX CLASS AT PRESENT\n",
      "========================================\n",
      "['2A' '2' '2B' '2C' nan '4' '1' '1C' '3' '1A' '1B']\n",
      "========================================\n",
      "UNIQUE VALUES FOR  BLOCK\n",
      "========================================\n",
      "[ 392  399  402 ... 6918 7074 7092]\n",
      "========================================\n",
      "UNIQUE VALUES FOR  LOT\n",
      "========================================\n",
      "[  6  26  39 ... 655 423 679]\n",
      "========================================\n",
      "UNIQUE VALUES FOR  EASE-MENT\n",
      "========================================\n",
      "[nan]\n",
      "========================================\n",
      "UNIQUE VALUES FOR  BUILDING CLASS AT PRESENT\n",
      "========================================\n",
      "['C2' 'C7' 'C4' 'D5' 'D9' 'D7' 'D1' 'C6' 'D0' 'D4' 'RR' nan 'R2' 'R4' 'S3'\n",
      " 'S4' 'S5' 'R1' 'R8' 'R9' 'K4' 'M9' 'M3' 'RK' 'RS' 'A9' 'A4' 'B3' 'B1'\n",
      " 'S2' 'C0' 'R6' 'C5' 'C3' 'C1' 'D6' 'S9' 'O2' 'O1' 'O3' 'O5' 'O6' 'K1'\n",
      " 'K2' 'L9' 'L8' 'L1' 'H1' 'H8' 'H3' 'R5' 'G6' 'P7' 'M1' 'N2' 'RB' 'RG'\n",
      " 'RT' 'K9' 'V1' 'GW' 'G2' 'I7' 'M4' 'Z9' 'B9' 'D3' 'G9' 'I9' 'U6' 'O4'\n",
      " 'L3' 'H2' 'E1' 'Z3' 'RW' 'C9' 'J5' 'N9' 'S1' 'A5' 'J8' 'B2' 'C8' 'F5'\n",
      " 'Q1' 'G7' 'G5' 'G4' 'P2' 'Q9' 'Y1' 'RA' 'RP' 'O8' 'HR' 'G1' 'E7' 'I5'\n",
      " 'R3' 'I4' 'H9' 'RH' 'D8' 'HB' 'J4' 'W2' 'P9' 'A7' 'D2' 'S0' 'O7' 'O9'\n",
      " 'W3' 'HS' 'H6' 'J9' 'R0' 'HH' 'W8' 'W6' 'A1' 'K5' 'F1' 'V9' 'A2' 'V0'\n",
      " 'G0' 'F4' 'E9' 'I3' 'W4' 'V3' 'I1' 'A6' 'Q8' 'A3' 'Z0' 'W1' 'U1' 'F2'\n",
      " 'F9' 'GU' 'I6' 'G8' 'P5' 'Y3' 'W9' 'M2' 'G3' 'V6' 'K7' 'K3' 'R7' 'P8'\n",
      " 'K6' 'V2' 'E2' 'Z2' 'T2' 'K8' 'P6' 'A0' 'H4' 'J1' 'CM' 'Z7']\n",
      "========================================\n",
      "UNIQUE VALUES FOR  ADDRESS\n",
      "========================================\n",
      "['153 AVENUE B' '234 EAST 4TH   STREET' '197 EAST 3RD   STREET' ...\n",
      " '49 PITNEY AVENUE' '2730 ARTHUR KILL ROAD' '155 CLAY PIT ROAD']\n",
      "========================================\n",
      "UNIQUE VALUES FOR  APARTMENT NUMBER\n",
      "========================================\n",
      "[nan 'RES' 'UNIT1' ... '115' 'MS-B' '363']\n",
      "========================================\n",
      "UNIQUE VALUES FOR  ZIP CODE\n",
      "========================================\n",
      "[10009     0 10002 10011 10001 10014 10010 10013 10038 10007 10036 10019\n",
      " 10018 10003 10005 10004 10006 10016 10012 10026 10030 10031 10027 10035\n",
      " 10037 10029 10039 10032 10128 10463 10034 10025 10022 10017 10167 10023\n",
      " 10105 10033 10044 10280 10282 10281 10065 10021 10075 10028 10024 10069\n",
      " 10040 10457 10458 10451 10456 10469 10466 10475 10468 10467 10460 10473\n",
      " 10472 10464 10462 10803 10465 10459 10471 10453 10452 10454 10474 10455\n",
      " 10461 10470 11228 11214 11220 11209 11219 11221 11233 11213 11206 11216\n",
      " 11205 11238 11226 11204 11234 11217 11201 11218 11232 11230 11235 11212\n",
      " 11237 11207 11236 11239 11231 11249 11224 11225 11208 11210 11203 11229\n",
      " 11215 11223 11222 11211 11370 11691 11692 11102 11106 11103 11377 11105\n",
      " 11101 11361 11360 11357 11358 11364 11693 11694 11426 11428 11004 11001\n",
      " 11435 11411 11356 11354 11420 11368 11373 11372 11363 11362 11369 11378\n",
      " 11040 11375 11355 11365 11367 11366 11374 11385 11005 11421 11379 11432\n",
      " 11423 11412 11427 11429 11433 11414 11422 11415 11418 11413 11109 11104\n",
      " 11416 11417 11419 11436 11434 11430 10312 10305 10314 10303 10310 10302\n",
      " 10301 10304 10306 10308 10309 10307]\n",
      "========================================\n",
      "UNIQUE VALUES FOR  RESIDENTIAL UNITS\n",
      "========================================\n",
      "[   5   28   16   10    6   20    8   44   15   24   30    0   47  132\n",
      "    1    3    4    2   22    9  210   35   17   11    7   18   27   14\n",
      "   12   21   40   19   48   79   55  529  476  317   42   23   25  107\n",
      "  133   31   36   34   33   90   74   29   13  286  256  771  257   38\n",
      "  311   41   51   76   54   45   72   56   68   37   50   26   61   60\n",
      "  894   67  550  184   78  181   86  259  102  233  121   52 1641   96\n",
      "   87  100  113   99   92   70  369   77  232  315   91   32   66   64\n",
      "  109  387  153   59  193   62  103  146  287   94   46   84   75   65\n",
      "   95   49   63   43  716  680  179   71   39   53  283  114   89   73\n",
      "   83  498   81  162  127  222  130   58  159  462  142  948  129  889\n",
      "  271  150  120   57  117  106   85  118  164  139  165  122  134  278\n",
      "  135  324  180  405  136  168  144  152  138   88  244  291 1844  198\n",
      "  148  175  296  446  420  335  143  128]\n",
      "========================================\n",
      "UNIQUE VALUES FOR  COMMERCIAL UNITS\n",
      "========================================\n",
      "[   0    3    1    2    4   13    5   24    6   19   10   15   14    8\n",
      "    7   35   42   55   17   38   12   27  422    9   23   52  318   20\n",
      "   67   11  254   26   49   30   91   59   62   31   73   56   34   32\n",
      "   18   22   28  147  184   25  172  436   16 2261   51   21  126]\n",
      "========================================\n",
      "UNIQUE VALUES FOR  TOTAL UNITS\n",
      "========================================\n",
      "[   5   31   17   10    6   20    8   46   15   24   34    0   47  132\n",
      "    1    4    2    3    7    9   16  211   32   13   19   35   18   14\n",
      "   30   12   21   23   45   26   11   48   82   55   42   38   27  422\n",
      "  538  482  323   52  318   67   25   22   28  107  137   36   37   96\n",
      "  138   76   33  286  256  771  257   44  315   41   51   40   29   81\n",
      "   54   72   56   68   74   39   50   61  902   70  551  254  185   78\n",
      "  181   49   91   87  269  102  234  235  233   59   62   73   43  121\n",
      " 1653  192  100  113   99   92   75  374   77  238  317   93   69   60\n",
      "   64  111  395  155  193  103  146  287   94   84   65   95   63   71\n",
      "   57  736  680  179   53  291   66  114   79   83  520  163  127  222\n",
      "  130   90   58  159  462  142  955  129  889  109  147  271  150  120\n",
      "  117  106   86  118  164  139  165  122  279  135  324  180  184  104\n",
      "  405  136  168  172  436  145  152  140   89  148  244  295 1866  278\n",
      "  198 2261  176  296  446  420  336  143  126  128]\n",
      "========================================\n",
      "UNIQUE VALUES FOR  LAND SQUARE FEET\n",
      "========================================\n",
      "['1633' '4616' '2212' ... '11088' '208033' '10796']\n",
      "========================================\n",
      "UNIQUE VALUES FOR  GROSS SQUARE FEET\n",
      "========================================\n",
      "['6440' '18690' '7803' ... '977' '2683' '64117']\n",
      "========================================\n",
      "UNIQUE VALUES FOR  YEAR BUILT\n",
      "========================================\n",
      "[1900 1913 1920 1910 2009 1925 1902 1928 1930 1935 1937 1915 1950 1929\n",
      " 1901 1940 2005    0 1989 2014 2008 1965 2013 2003 2006 2007 1951 1899\n",
      " 1850 1905 1864 1917 1911 1983 1926 1963 1960 1889 1898 1939 1938 1927\n",
      " 1909 1958 1904 1907 1987 1931 1984 1948 2004 1918 1875 2012 1973 2011\n",
      " 1922 2001 1932 1980 1908 1953 1906 2015 1946 1921 2010 1954 1111 1924\n",
      " 1990 1890 1991 1988 1895 2016 1957 1986 1966 1998 1870 1923 1969 2017\n",
      " 1968 1934 1956 1982 1914 1903 1967 1840 1912 1964 1955 1961 1851 2000\n",
      " 1959 1962 1945 1972 1976 1916 1880 1970 1846 1941 1952 1896 1985 1981\n",
      " 1888 1947 1975 1974 2002 1994 1892 1894 1891 1996 1997 1949 1999 1800\n",
      " 1979 1971 1977 1942 1978 1826 1881 1919 1883 1936 1993 1995 1933 1992\n",
      " 1943 1944 1847 1829 1844 1835 1852 1856 1854 1832 1845 1849 1855 1871\n",
      " 1893 1865 1882 1680]\n",
      "========================================\n",
      "UNIQUE VALUES FOR  TAX CLASS AT TIME OF SALE\n",
      "========================================\n",
      "[2 4 1 3]\n",
      "========================================\n",
      "UNIQUE VALUES FOR  BUILDING CLASS AT TIME OF SALE\n",
      "========================================\n",
      "['C2' 'C7' 'C4' 'D5' 'D9' 'D7' 'D1' 'C6' 'D0' 'D4' 'RR' 'R2' 'R4' 'S3'\n",
      " 'S4' 'S5' 'R1' 'R8' 'R9' 'K4' 'M9' 'M3' 'RA' 'RK' 'RS' 'A9' 'A4' 'B3'\n",
      " 'B1' 'S2' 'C0' 'R6' 'C5' 'C3' 'C1' 'D6' 'S9' 'O2' 'O1' 'O3' 'O5' 'O6'\n",
      " 'K1' 'K2' 'L9' 'L8' 'L1' 'H1' 'H8' 'H3' 'R5' 'G9' 'G6' 'P7' 'M1' 'N2'\n",
      " 'RB' 'RG' 'RT' 'K9' 'V1' 'GW' 'G2' 'I7' 'M4' 'Z9' 'B9' 'D3' 'I9' 'U6'\n",
      " 'O4' 'L3' 'H2' 'E1' 'Z3' 'Q1' 'RW' 'C9' 'J5' 'N9' 'S1' 'A5' 'J8' 'B2'\n",
      " 'C8' 'F5' 'G7' 'G5' 'G4' 'P2' 'Q9' 'Y1' 'RP' 'O8' 'HR' 'G1' 'E7' 'I5'\n",
      " 'R3' 'I4' 'H9' 'RH' 'D8' 'HB' 'J4' 'W2' 'P9' 'A7' 'D2' 'S0' 'O7' 'O9'\n",
      " 'W3' 'HS' 'H6' 'J9' 'R0' 'HH' 'W8' 'W6' 'A1' 'K5' 'F1' 'V9' 'A2' 'V0'\n",
      " 'G0' 'F4' 'E9' 'I3' 'W4' 'V3' 'I1' 'A6' 'Q8' 'A3' 'Z0' 'W1' 'U1' 'F2'\n",
      " 'F9' 'GU' 'I6' 'G8' 'P5' 'Y3' 'W9' 'M2' 'G3' 'V6' 'K7' 'K3' 'H4' 'R7'\n",
      " 'P8' 'K6' 'V2' 'E2' 'Z2' 'T2' 'K8' 'P6' 'A0' 'J1' 'CM' 'Z7']\n",
      "========================================\n",
      "UNIQUE VALUES FOR  SALE PRICE\n",
      "========================================\n",
      "['6625000' '-  ' '3936272' ... '408092' '11693337' '69300']\n",
      "========================================\n",
      "UNIQUE VALUES FOR  SALE DATE\n",
      "========================================\n",
      "['2017-07-19 00:00:00' '2016-12-14 00:00:00' '2016-12-09 00:00:00'\n",
      " '2016-09-23 00:00:00' '2016-11-17 00:00:00' '2017-07-20 00:00:00'\n",
      " '2017-06-20 00:00:00' '2016-11-07 00:00:00' '2016-10-17 00:00:00'\n",
      " '2016-09-06 00:00:00' '2017-03-10 00:00:00' '2017-04-28 00:00:00'\n",
      " '2017-06-09 00:00:00' '2017-07-14 00:00:00' '2017-03-16 00:00:00'\n",
      " '2016-09-01 00:00:00' '2017-08-17 00:00:00' '2016-09-07 00:00:00'\n",
      " '2017-08-30 00:00:00' '2017-06-21 00:00:00' '2017-01-30 00:00:00'\n",
      " '2017-07-07 00:00:00' '2017-08-04 00:00:00' '2017-01-09 00:00:00'\n",
      " '2017-04-18 00:00:00' '2017-06-19 00:00:00' '2017-08-28 00:00:00'\n",
      " '2017-05-10 00:00:00' '2016-12-02 00:00:00' '2017-01-31 00:00:00'\n",
      " '2017-06-28 00:00:00' '2016-12-07 00:00:00' '2017-08-24 00:00:00'\n",
      " '2017-06-27 00:00:00' '2017-03-17 00:00:00' '2017-06-14 00:00:00'\n",
      " '2017-01-17 00:00:00' '2017-01-11 00:00:00' '2017-04-21 00:00:00'\n",
      " '2017-06-29 00:00:00' '2016-10-05 00:00:00' '2017-02-02 00:00:00'\n",
      " '2017-03-20 00:00:00' '2017-04-13 00:00:00' '2017-06-06 00:00:00'\n",
      " '2017-07-17 00:00:00' '2016-12-06 00:00:00' '2017-07-13 00:00:00'\n",
      " '2017-05-17 00:00:00' '2017-05-31 00:00:00' '2017-07-12 00:00:00'\n",
      " '2017-01-19 00:00:00' '2017-05-03 00:00:00' '2016-09-29 00:00:00'\n",
      " '2017-08-07 00:00:00' '2017-01-20 00:00:00' '2017-02-23 00:00:00'\n",
      " '2016-09-12 00:00:00' '2017-08-09 00:00:00' '2017-04-07 00:00:00'\n",
      " '2017-05-11 00:00:00' '2016-10-13 00:00:00' '2016-10-19 00:00:00'\n",
      " '2016-12-30 00:00:00' '2017-02-24 00:00:00' '2016-09-21 00:00:00'\n",
      " '2016-11-03 00:00:00' '2017-03-31 00:00:00' '2017-05-25 00:00:00'\n",
      " '2017-02-14 00:00:00' '2017-02-01 00:00:00' '2017-05-08 00:00:00'\n",
      " '2017-08-14 00:00:00' '2017-06-23 00:00:00' '2017-03-27 00:00:00'\n",
      " '2017-04-22 00:00:00' '2017-07-06 00:00:00' '2017-06-12 00:00:00'\n",
      " '2017-06-22 00:00:00' '2017-02-17 00:00:00' '2016-09-08 00:00:00'\n",
      " '2016-12-23 00:00:00' '2017-07-24 00:00:00' '2016-10-08 00:00:00'\n",
      " '2016-12-08 00:00:00' '2017-04-25 00:00:00' '2016-12-13 00:00:00'\n",
      " '2017-01-12 00:00:00' '2017-03-03 00:00:00' '2017-01-25 00:00:00'\n",
      " '2016-12-19 00:00:00' '2016-12-16 00:00:00' '2016-12-29 00:00:00'\n",
      " '2017-01-13 00:00:00' '2016-12-21 00:00:00' '2017-03-30 00:00:00'\n",
      " '2017-04-14 00:00:00' '2017-05-22 00:00:00' '2017-05-19 00:00:00'\n",
      " '2017-02-08 00:00:00' '2016-11-08 00:00:00' '2017-03-02 00:00:00'\n",
      " '2017-01-05 00:00:00' '2016-10-11 00:00:00' '2016-11-15 00:00:00'\n",
      " '2017-04-03 00:00:00' '2016-11-28 00:00:00' '2016-11-14 00:00:00'\n",
      " '2017-04-20 00:00:00' '2017-05-05 00:00:00' '2016-11-16 00:00:00'\n",
      " '2017-07-18 00:00:00' '2017-05-15 00:00:00' '2017-07-31 00:00:00'\n",
      " '2017-06-07 00:00:00' '2016-11-02 00:00:00' '2017-04-19 00:00:00'\n",
      " '2017-07-11 00:00:00' '2016-09-28 00:00:00' '2017-01-06 00:00:00'\n",
      " '2016-10-20 00:00:00' '2017-03-28 00:00:00' '2017-04-17 00:00:00'\n",
      " '2016-10-26 00:00:00' '2017-02-06 00:00:00' '2017-03-23 00:00:00'\n",
      " '2017-08-31 00:00:00' '2017-07-27 00:00:00' '2016-11-10 00:00:00'\n",
      " '2016-10-28 00:00:00' '2016-12-05 00:00:00' '2016-11-29 00:00:00'\n",
      " '2016-11-21 00:00:00' '2017-01-27 00:00:00' '2016-09-26 00:00:00'\n",
      " '2017-02-21 00:00:00' '2016-10-06 00:00:00' '2017-08-25 00:00:00'\n",
      " '2016-11-30 00:00:00' '2017-02-16 00:00:00' '2017-03-01 00:00:00'\n",
      " '2016-10-31 00:00:00' '2016-12-20 00:00:00' '2016-11-18 00:00:00'\n",
      " '2017-04-10 00:00:00' '2016-11-23 00:00:00' '2016-12-27 00:00:00'\n",
      " '2017-05-12 00:00:00' '2017-02-15 00:00:00' '2017-07-10 00:00:00'\n",
      " '2017-03-06 00:00:00' '2017-06-30 00:00:00' '2017-07-26 00:00:00'\n",
      " '2017-03-22 00:00:00' '2017-03-08 00:00:00' '2016-09-14 00:00:00'\n",
      " '2017-04-26 00:00:00' '2016-09-27 00:00:00' '2017-04-27 00:00:00'\n",
      " '2016-12-01 00:00:00' '2017-01-23 00:00:00' '2016-11-04 00:00:00'\n",
      " '2016-10-07 00:00:00' '2017-06-05 00:00:00' '2017-05-23 00:00:00'\n",
      " '2017-01-26 00:00:00' '2016-12-28 00:00:00' '2017-05-02 00:00:00'\n",
      " '2017-03-07 00:00:00' '2017-05-01 00:00:00' '2016-10-14 00:00:00'\n",
      " '2016-12-15 00:00:00' '2016-11-01 00:00:00' '2016-09-15 00:00:00'\n",
      " '2016-10-01 00:00:00' '2016-10-24 00:00:00' '2016-11-11 00:00:00'\n",
      " '2017-02-09 00:00:00' '2017-07-25 00:00:00' '2017-03-15 00:00:00'\n",
      " '2016-09-16 00:00:00' '2017-03-29 00:00:00' '2017-06-26 00:00:00'\n",
      " '2016-10-18 00:00:00' '2016-12-22 00:00:00' '2016-09-09 00:00:00'\n",
      " '2016-11-09 00:00:00' '2017-05-04 00:00:00' '2017-06-13 00:00:00'\n",
      " '2017-02-10 00:00:00' '2017-04-24 00:00:00' '2017-05-24 00:00:00'\n",
      " '2017-02-28 00:00:00' '2017-04-11 00:00:00' '2016-10-25 00:00:00'\n",
      " '2017-08-21 00:00:00' '2017-08-29 00:00:00' '2017-08-01 00:00:00'\n",
      " '2017-06-08 00:00:00' '2017-08-23 00:00:00' '2016-10-27 00:00:00'\n",
      " '2017-06-02 00:00:00' '2017-06-16 00:00:00' '2016-11-22 00:00:00'\n",
      " '2017-07-05 00:00:00' '2016-09-13 00:00:00' '2017-03-13 00:00:00'\n",
      " '2017-01-03 00:00:00' '2017-01-04 00:00:00' '2017-01-18 00:00:00'\n",
      " '2017-05-18 00:00:00' '2017-05-30 00:00:00' '2017-01-10 00:00:00'\n",
      " '2017-08-11 00:00:00' '2017-08-02 00:00:00' '2017-07-28 00:00:00'\n",
      " '2017-06-15 00:00:00' '2017-08-22 00:00:00' '2016-09-02 00:00:00'\n",
      " '2017-02-03 00:00:00' '2017-04-06 00:00:00' '2017-02-07 00:00:00'\n",
      " '2017-05-26 00:00:00' '2017-08-10 00:00:00' '2017-01-24 00:00:00'\n",
      " '2016-12-26 00:00:00' '2017-08-18 00:00:00' '2017-02-13 00:00:00'\n",
      " '2016-09-30 00:00:00' '2017-04-12 00:00:00' '2017-05-09 00:00:00'\n",
      " '2016-10-29 00:00:00' '2017-02-27 00:00:00' '2017-01-01 00:00:00'\n",
      " '2017-06-01 00:00:00' '2016-10-03 00:00:00' '2017-08-15 00:00:00'\n",
      " '2016-12-12 00:00:00' '2016-12-17 00:00:00' '2017-08-03 00:00:00'\n",
      " '2016-09-22 00:00:00' '2016-12-31 00:00:00' '2016-10-04 00:00:00'\n",
      " '2016-09-20 00:00:00' '2017-03-21 00:00:00' '2017-08-08 00:00:00'\n",
      " '2017-04-05 00:00:00' '2017-08-16 00:00:00' '2017-02-22 00:00:00'\n",
      " '2017-02-04 00:00:00' '2017-05-16 00:00:00' '2017-03-24 00:00:00'\n",
      " '2017-03-09 00:00:00' '2017-07-21 00:00:00' '2017-04-04 00:00:00'\n",
      " '2016-09-19 00:00:00' '2017-01-07 00:00:00' '2016-10-21 00:00:00'\n",
      " '2017-04-29 00:00:00' '2017-07-22 00:00:00' '2017-02-20 00:00:00'\n",
      " '2016-10-23 00:00:00' '2017-01-02 00:00:00' '2016-10-12 00:00:00'\n",
      " '2017-07-15 00:00:00' '2016-10-16 00:00:00' '2017-03-14 00:00:00'\n",
      " '2017-04-30 00:00:00' '2017-04-09 00:00:00' '2017-03-04 00:00:00'\n",
      " '2016-09-17 00:00:00' '2017-06-03 00:00:00' '2017-05-06 00:00:00'\n",
      " '2017-07-03 00:00:00' '2017-01-28 00:00:00' '2017-03-05 00:00:00'\n",
      " '2016-11-27 00:00:00' '2017-02-11 00:00:00' '2017-06-24 00:00:00'\n",
      " '2017-01-21 00:00:00' '2016-10-22 00:00:00' '2016-10-10 00:00:00'\n",
      " '2016-11-05 00:00:00' '2017-05-20 00:00:00' '2017-08-06 00:00:00'\n",
      " '2017-05-21 00:00:00' '2016-09-10 00:00:00' '2016-11-13 00:00:00'\n",
      " '2016-10-09 00:00:00' '2016-10-15 00:00:00' '2016-11-25 00:00:00'\n",
      " '2017-02-18 00:00:00' '2016-09-25 00:00:00' '2016-11-20 00:00:00'\n",
      " '2017-04-01 00:00:00' '2017-01-16 00:00:00' '2017-05-13 00:00:00'\n",
      " '2016-11-12 00:00:00' '2017-07-01 00:00:00' '2017-03-19 00:00:00'\n",
      " '2017-07-16 00:00:00' '2016-09-05 00:00:00' '2016-10-30 00:00:00'\n",
      " '2017-02-26 00:00:00' '2017-01-15 00:00:00' '2016-11-06 00:00:00'\n",
      " '2017-03-18 00:00:00' '2017-08-27 00:00:00' '2016-11-26 00:00:00'\n",
      " '2017-01-22 00:00:00' '2017-05-29 00:00:00' '2017-04-16 00:00:00'\n",
      " '2017-01-14 00:00:00' '2017-04-15 00:00:00' '2017-07-08 00:00:00'\n",
      " '2016-11-24 00:00:00' '2017-08-26 00:00:00' '2017-02-25 00:00:00'\n",
      " '2017-05-27 00:00:00' '2016-10-02 00:00:00' '2017-03-25 00:00:00'\n",
      " '2016-11-19 00:00:00' '2017-05-14 00:00:00' '2017-02-05 00:00:00'\n",
      " '2016-09-03 00:00:00' '2017-04-08 00:00:00' '2017-06-11 00:00:00'\n",
      " '2016-12-10 00:00:00' '2017-03-11 00:00:00' '2017-03-12 00:00:00'\n",
      " '2017-01-29 00:00:00' '2017-08-05 00:00:00' '2016-09-11 00:00:00'\n",
      " '2017-06-17 00:00:00' '2017-06-25 00:00:00' '2017-03-26 00:00:00'\n",
      " '2017-07-29 00:00:00' '2017-06-18 00:00:00' '2017-05-28 00:00:00'\n",
      " '2017-05-07 00:00:00' '2017-06-10 00:00:00' '2016-12-24 00:00:00'\n",
      " '2016-09-24 00:00:00' '2016-12-18 00:00:00' '2017-04-02 00:00:00'\n",
      " '2017-08-20 00:00:00' '2017-08-12 00:00:00' '2016-12-11 00:00:00'\n",
      " '2017-08-19 00:00:00' '2016-09-18 00:00:00' '2017-02-19 00:00:00'\n",
      " '2017-07-02 00:00:00' '2017-07-30 00:00:00' '2017-01-08 00:00:00'\n",
      " '2017-07-23 00:00:00' '2017-08-13 00:00:00' '2017-07-04 00:00:00'\n",
      " '2016-12-04 00:00:00' '2017-04-23 00:00:00' '2016-12-03 00:00:00'\n",
      " '2017-07-09 00:00:00' '2016-09-04 00:00:00' '2017-02-12 00:00:00'\n",
      " '2017-06-04 00:00:00']\n",
      "========================================\n"
     ]
    }
   ],
   "source": [
    "for col in nyc.columns:\n",
    "    print(\"UNIQUE VALUES FOR \",col)\n",
    "    print(\"=\"*40)\n",
    "    print(nyc[col].unique())\n",
    "    print(\"=\"*40)"
   ]
  },
  {
   "cell_type": "code",
   "execution_count": 12,
   "id": "56446f93-4e18-4db1-9786-bb75b8aa6a48",
   "metadata": {
    "tags": []
   },
   "outputs": [],
   "source": [
    "nyc = nyc[(nyc[\"LAND SQUARE FEET\"] != 0) & \n",
    "            (nyc[\"GROSS SQUARE FEET\"] != 0) & \n",
    "            (nyc[\"YEAR BUILT\"] != 0) & \n",
    "            (nyc[\"SALE PRICE\"] != 0) & \n",
    "            (nyc[\"TOTAL UNITS\"] != 0)\n",
    "           ]"
   ]
  },
  {
   "cell_type": "code",
   "execution_count": 13,
   "id": "580cfcf0-a15c-419b-8603-3589b088e9d2",
   "metadata": {
    "tags": []
   },
   "outputs": [
    {
     "name": "stdout",
     "output_type": "stream",
     "text": [
      "<class 'pandas.core.frame.DataFrame'>\n",
      "Int64Index: 60714 entries, 0 to 84547\n",
      "Data columns (total 22 columns):\n",
      " #   Column                          Non-Null Count  Dtype  \n",
      "---  ------                          --------------  -----  \n",
      " 0   Unnamed: 0                      60714 non-null  int64  \n",
      " 1   BOROUGH                         60714 non-null  object \n",
      " 2   NEIGHBORHOOD                    60714 non-null  object \n",
      " 3   BUILDING CLASS CATEGORY         60714 non-null  object \n",
      " 4   TAX CLASS AT PRESENT            60714 non-null  object \n",
      " 5   BLOCK                           60714 non-null  int64  \n",
      " 6   LOT                             60714 non-null  int64  \n",
      " 7   EASE-MENT                       0 non-null      float64\n",
      " 8   BUILDING CLASS AT PRESENT       60714 non-null  object \n",
      " 9   ADDRESS                         60714 non-null  object \n",
      " 10  APARTMENT NUMBER                15083 non-null  object \n",
      " 11  ZIP CODE                        60714 non-null  int64  \n",
      " 12  RESIDENTIAL UNITS               60714 non-null  int64  \n",
      " 13  COMMERCIAL UNITS                60714 non-null  int64  \n",
      " 14  TOTAL UNITS                     60714 non-null  int64  \n",
      " 15  LAND SQUARE FEET                60714 non-null  object \n",
      " 16  GROSS SQUARE FEET               60714 non-null  object \n",
      " 17  YEAR BUILT                      60714 non-null  int64  \n",
      " 18  TAX CLASS AT TIME OF SALE       60714 non-null  int64  \n",
      " 19  BUILDING CLASS AT TIME OF SALE  60714 non-null  object \n",
      " 20  SALE PRICE                      60714 non-null  object \n",
      " 21  SALE DATE                       60714 non-null  object \n",
      "dtypes: float64(1), int64(9), object(12)\n",
      "memory usage: 10.7+ MB\n"
     ]
    }
   ],
   "source": [
    "nyc.info()"
   ]
  },
  {
   "cell_type": "markdown",
   "id": "00b71683-5656-48f8-bb17-922d2e45df23",
   "metadata": {},
   "source": [
    "Mengganti 0 di YEAR BUILT dengan np.nan"
   ]
  },
  {
   "cell_type": "code",
   "execution_count": 14,
   "id": "df0845a1-7adb-4649-a9b2-53bac4637202",
   "metadata": {
    "tags": []
   },
   "outputs": [],
   "source": [
    "nyc['YEAR BUILT'].replace(0, np.nan, inplace=True)"
   ]
  },
  {
   "cell_type": "markdown",
   "id": "108cbb57-e845-4e3b-9f45-7719e455a8ff",
   "metadata": {
    "tags": []
   },
   "source": [
    "Menghapus kolom 'Unnamed: 0' karena tidak related dengan proses analitis"
   ]
  },
  {
   "cell_type": "code",
   "execution_count": 15,
   "id": "2aea29a3-ec3a-494a-94e8-2979437b48e7",
   "metadata": {
    "tags": []
   },
   "outputs": [],
   "source": [
    "nyc.drop(\"Unnamed: 0\", axis = 1, inplace = True)"
   ]
  },
  {
   "cell_type": "markdown",
   "id": "e9e1cbbc-1e15-4fa6-8bce-dd6493e7ecc2",
   "metadata": {},
   "source": [
    "Menghapus kolom 'EASE-MENT' karena tidak memiliki informasi/nilai"
   ]
  },
  {
   "cell_type": "code",
   "execution_count": 16,
   "id": "573990e6-4597-426a-ad1e-c34b64b91528",
   "metadata": {
    "tags": []
   },
   "outputs": [],
   "source": [
    "nyc.drop('EASE-MENT', axis = 1, inplace = True)"
   ]
  },
  {
   "cell_type": "markdown",
   "id": "aa448b7d-1d4d-4d0e-a03d-c5370d389437",
   "metadata": {},
   "source": [
    "Menghapus kolom-kolom yang tidak relevan dengan analisis data statistik"
   ]
  },
  {
   "cell_type": "code",
   "execution_count": 17,
   "id": "5395072a-bc54-41ec-a293-2506ad9031d4",
   "metadata": {
    "tags": []
   },
   "outputs": [],
   "source": [
    "nyc.drop(labels=['ADDRESS','APARTMENT NUMBER', 'ZIP CODE'], axis=1, inplace=True)"
   ]
  },
  {
   "cell_type": "code",
   "execution_count": 18,
   "id": "a71ac59e-b047-4deb-ba52-06ef4df00cf2",
   "metadata": {
    "tags": []
   },
   "outputs": [],
   "source": [
    "nyc['SALE PRICE']= pd.to_numeric(nyc['SALE PRICE'], errors='coerce')"
   ]
  },
  {
   "cell_type": "markdown",
   "id": "79ebc231-63a5-4fad-8a76-45b01c70ad87",
   "metadata": {},
   "source": [
    "Menjadikan 'LAND SQUARE FEET' dan 'GROSS SQUARE FEET' sebagai numeric"
   ]
  },
  {
   "cell_type": "code",
   "execution_count": 19,
   "id": "08b923f5-e839-4a66-b12d-4e6ebd3412cd",
   "metadata": {
    "tags": []
   },
   "outputs": [],
   "source": [
    "nyc['LAND SQUARE FEET'] = pd.to_numeric(nyc['LAND SQUARE FEET'], errors='coerce')\n",
    "nyc['GROSS SQUARE FEET'] = pd.to_numeric(nyc['GROSS SQUARE FEET'], errors='coerce')"
   ]
  },
  {
   "cell_type": "markdown",
   "id": "0b6fb52c-64c8-4d02-99da-0a8ec25d4472",
   "metadata": {},
   "source": [
    "Menjadikan kolom SALE DATE sebagai datetime"
   ]
  },
  {
   "cell_type": "code",
   "execution_count": 20,
   "id": "45e96bfa-3407-4e45-99f1-e2efc669aed7",
   "metadata": {
    "tags": []
   },
   "outputs": [],
   "source": [
    "nyc['SALE DATE']=pd.to_datetime(nyc['SALE DATE'], errors='coerce')"
   ]
  },
  {
   "cell_type": "markdown",
   "id": "1e1d5186-e735-4525-a952-d1c0089737db",
   "metadata": {},
   "source": [
    "Menjadikan kolom berikut sebagai kategorikal"
   ]
  },
  {
   "cell_type": "code",
   "execution_count": 21,
   "id": "7275941e-9d72-4b3b-a36a-2a7fb60b21aa",
   "metadata": {
    "tags": []
   },
   "outputs": [],
   "source": [
    "categorical = ['BOROUGH', 'NEIGHBORHOOD', 'BUILDING CLASS CATEGORY', 'TAX CLASS AT PRESENT', 'BUILDING CLASS AT PRESENT',\n",
    "               'BUILDING CLASS AT TIME OF SALE', 'TAX CLASS AT TIME OF SALE', 'YEAR BUILT']\n",
    "for col in categorical:\n",
    "    nyc[col] = nyc[col].astype('category')"
   ]
  },
  {
   "cell_type": "code",
   "execution_count": 22,
   "id": "dfdb7316-c58d-4a5e-afd8-62f69dddb604",
   "metadata": {
    "tags": []
   },
   "outputs": [],
   "source": [
    "nyc = nyc[nyc['LAND SQUARE FEET'].notnull()]\n",
    "nyc = nyc[nyc['GROSS SQUARE FEET'].notnull()]\n",
    "nyc = nyc[nyc['SALE PRICE'].notnull()]"
   ]
  },
  {
   "cell_type": "code",
   "execution_count": 23,
   "id": "0cd04d57-b8ed-40ab-90f9-6d45adcea97f",
   "metadata": {
    "tags": []
   },
   "outputs": [
    {
     "data": {
      "text/html": [
       "<div>\n",
       "<style scoped>\n",
       "    .dataframe tbody tr th:only-of-type {\n",
       "        vertical-align: middle;\n",
       "    }\n",
       "\n",
       "    .dataframe tbody tr th {\n",
       "        vertical-align: top;\n",
       "    }\n",
       "\n",
       "    .dataframe thead th {\n",
       "        text-align: right;\n",
       "    }\n",
       "</style>\n",
       "<table border=\"1\" class=\"dataframe\">\n",
       "  <thead>\n",
       "    <tr style=\"text-align: right;\">\n",
       "      <th></th>\n",
       "      <th>BOROUGH</th>\n",
       "      <th>NEIGHBORHOOD</th>\n",
       "      <th>BUILDING CLASS CATEGORY</th>\n",
       "      <th>TAX CLASS AT PRESENT</th>\n",
       "      <th>BLOCK</th>\n",
       "      <th>LOT</th>\n",
       "      <th>BUILDING CLASS AT PRESENT</th>\n",
       "      <th>RESIDENTIAL UNITS</th>\n",
       "      <th>COMMERCIAL UNITS</th>\n",
       "      <th>TOTAL UNITS</th>\n",
       "      <th>LAND SQUARE FEET</th>\n",
       "      <th>GROSS SQUARE FEET</th>\n",
       "      <th>YEAR BUILT</th>\n",
       "      <th>TAX CLASS AT TIME OF SALE</th>\n",
       "      <th>BUILDING CLASS AT TIME OF SALE</th>\n",
       "      <th>SALE PRICE</th>\n",
       "      <th>SALE DATE</th>\n",
       "    </tr>\n",
       "  </thead>\n",
       "  <tbody>\n",
       "    <tr>\n",
       "      <th>0</th>\n",
       "      <td>Manhattan</td>\n",
       "      <td>ALPHABET CITY</td>\n",
       "      <td>07 RENTALS - WALKUP APARTMENTS</td>\n",
       "      <td>2A</td>\n",
       "      <td>392</td>\n",
       "      <td>6</td>\n",
       "      <td>C2</td>\n",
       "      <td>5</td>\n",
       "      <td>0</td>\n",
       "      <td>5</td>\n",
       "      <td>1633.0</td>\n",
       "      <td>6440.0</td>\n",
       "      <td>1900</td>\n",
       "      <td>2</td>\n",
       "      <td>C2</td>\n",
       "      <td>6625000.0</td>\n",
       "      <td>2017-07-19</td>\n",
       "    </tr>\n",
       "    <tr>\n",
       "      <th>3</th>\n",
       "      <td>Manhattan</td>\n",
       "      <td>ALPHABET CITY</td>\n",
       "      <td>07 RENTALS - WALKUP APARTMENTS</td>\n",
       "      <td>2B</td>\n",
       "      <td>402</td>\n",
       "      <td>21</td>\n",
       "      <td>C4</td>\n",
       "      <td>10</td>\n",
       "      <td>0</td>\n",
       "      <td>10</td>\n",
       "      <td>2272.0</td>\n",
       "      <td>6794.0</td>\n",
       "      <td>1913</td>\n",
       "      <td>2</td>\n",
       "      <td>C4</td>\n",
       "      <td>3936272.0</td>\n",
       "      <td>2016-09-23</td>\n",
       "    </tr>\n",
       "    <tr>\n",
       "      <th>4</th>\n",
       "      <td>Manhattan</td>\n",
       "      <td>ALPHABET CITY</td>\n",
       "      <td>07 RENTALS - WALKUP APARTMENTS</td>\n",
       "      <td>2A</td>\n",
       "      <td>404</td>\n",
       "      <td>55</td>\n",
       "      <td>C2</td>\n",
       "      <td>6</td>\n",
       "      <td>0</td>\n",
       "      <td>6</td>\n",
       "      <td>2369.0</td>\n",
       "      <td>4615.0</td>\n",
       "      <td>1900</td>\n",
       "      <td>2</td>\n",
       "      <td>C2</td>\n",
       "      <td>8000000.0</td>\n",
       "      <td>2016-11-17</td>\n",
       "    </tr>\n",
       "    <tr>\n",
       "      <th>6</th>\n",
       "      <td>Manhattan</td>\n",
       "      <td>ALPHABET CITY</td>\n",
       "      <td>07 RENTALS - WALKUP APARTMENTS</td>\n",
       "      <td>2B</td>\n",
       "      <td>406</td>\n",
       "      <td>32</td>\n",
       "      <td>C4</td>\n",
       "      <td>8</td>\n",
       "      <td>0</td>\n",
       "      <td>8</td>\n",
       "      <td>1750.0</td>\n",
       "      <td>4226.0</td>\n",
       "      <td>1920</td>\n",
       "      <td>2</td>\n",
       "      <td>C4</td>\n",
       "      <td>3192840.0</td>\n",
       "      <td>2016-09-23</td>\n",
       "    </tr>\n",
       "    <tr>\n",
       "      <th>9</th>\n",
       "      <td>Manhattan</td>\n",
       "      <td>ALPHABET CITY</td>\n",
       "      <td>08 RENTALS - ELEVATOR APARTMENTS</td>\n",
       "      <td>2</td>\n",
       "      <td>387</td>\n",
       "      <td>153</td>\n",
       "      <td>D9</td>\n",
       "      <td>24</td>\n",
       "      <td>0</td>\n",
       "      <td>24</td>\n",
       "      <td>4489.0</td>\n",
       "      <td>18523.0</td>\n",
       "      <td>1920</td>\n",
       "      <td>2</td>\n",
       "      <td>D9</td>\n",
       "      <td>16232000.0</td>\n",
       "      <td>2016-11-07</td>\n",
       "    </tr>\n",
       "  </tbody>\n",
       "</table>\n",
       "</div>"
      ],
      "text/plain": [
       "     BOROUGH   NEIGHBORHOOD                      BUILDING CLASS CATEGORY  \\\n",
       "0  Manhattan  ALPHABET CITY  07 RENTALS - WALKUP APARTMENTS                \n",
       "3  Manhattan  ALPHABET CITY  07 RENTALS - WALKUP APARTMENTS                \n",
       "4  Manhattan  ALPHABET CITY  07 RENTALS - WALKUP APARTMENTS                \n",
       "6  Manhattan  ALPHABET CITY  07 RENTALS - WALKUP APARTMENTS                \n",
       "9  Manhattan  ALPHABET CITY  08 RENTALS - ELEVATOR APARTMENTS              \n",
       "\n",
       "  TAX CLASS AT PRESENT  BLOCK  LOT BUILDING CLASS AT PRESENT  \\\n",
       "0                   2A    392    6                        C2   \n",
       "3                   2B    402   21                        C4   \n",
       "4                   2A    404   55                        C2   \n",
       "6                   2B    406   32                        C4   \n",
       "9                    2    387  153                        D9   \n",
       "\n",
       "   RESIDENTIAL UNITS  COMMERCIAL UNITS  TOTAL UNITS  LAND SQUARE FEET  \\\n",
       "0                  5                 0            5            1633.0   \n",
       "3                 10                 0           10            2272.0   \n",
       "4                  6                 0            6            2369.0   \n",
       "6                  8                 0            8            1750.0   \n",
       "9                 24                 0           24            4489.0   \n",
       "\n",
       "   GROSS SQUARE FEET YEAR BUILT TAX CLASS AT TIME OF SALE  \\\n",
       "0             6440.0       1900                         2   \n",
       "3             6794.0       1913                         2   \n",
       "4             4615.0       1900                         2   \n",
       "6             4226.0       1920                         2   \n",
       "9            18523.0       1920                         2   \n",
       "\n",
       "  BUILDING CLASS AT TIME OF SALE  SALE PRICE  SALE DATE  \n",
       "0                             C2   6625000.0 2017-07-19  \n",
       "3                             C4   3936272.0 2016-09-23  \n",
       "4                             C2   8000000.0 2016-11-17  \n",
       "6                             C4   3192840.0 2016-09-23  \n",
       "9                             D9  16232000.0 2016-11-07  "
      ]
     },
     "execution_count": 23,
     "metadata": {},
     "output_type": "execute_result"
    }
   ],
   "source": [
    "nyc.head()"
   ]
  },
  {
   "cell_type": "markdown",
   "id": "245c2620-cc45-4c7d-91a8-5c5bc1a57105",
   "metadata": {},
   "source": [
    "## Mengecek Duplikat"
   ]
  },
  {
   "cell_type": "markdown",
   "id": "c40b2a74-0d41-4b48-8a64-74f4fc94a3bd",
   "metadata": {},
   "source": [
    "Menghitung jumlah duplikat pada baris"
   ]
  },
  {
   "cell_type": "code",
   "execution_count": 24,
   "id": "be39a562-728a-4b6a-8694-2093bb42253a",
   "metadata": {
    "tags": []
   },
   "outputs": [
    {
     "data": {
      "text/plain": [
       "335"
      ]
     },
     "execution_count": 24,
     "metadata": {},
     "output_type": "execute_result"
    }
   ],
   "source": [
    "sum(nyc.duplicated())"
   ]
  },
  {
   "cell_type": "code",
   "execution_count": 25,
   "id": "633f55ab-8b3b-40ba-9947-6c39b0540a32",
   "metadata": {
    "tags": []
   },
   "outputs": [
    {
     "data": {
      "text/html": [
       "<div>\n",
       "<style scoped>\n",
       "    .dataframe tbody tr th:only-of-type {\n",
       "        vertical-align: middle;\n",
       "    }\n",
       "\n",
       "    .dataframe tbody tr th {\n",
       "        vertical-align: top;\n",
       "    }\n",
       "\n",
       "    .dataframe thead th {\n",
       "        text-align: right;\n",
       "    }\n",
       "</style>\n",
       "<table border=\"1\" class=\"dataframe\">\n",
       "  <thead>\n",
       "    <tr style=\"text-align: right;\">\n",
       "      <th></th>\n",
       "      <th>BOROUGH</th>\n",
       "      <th>NEIGHBORHOOD</th>\n",
       "      <th>BUILDING CLASS CATEGORY</th>\n",
       "      <th>TAX CLASS AT PRESENT</th>\n",
       "      <th>BLOCK</th>\n",
       "      <th>LOT</th>\n",
       "      <th>BUILDING CLASS AT PRESENT</th>\n",
       "      <th>RESIDENTIAL UNITS</th>\n",
       "      <th>COMMERCIAL UNITS</th>\n",
       "      <th>TOTAL UNITS</th>\n",
       "      <th>LAND SQUARE FEET</th>\n",
       "      <th>GROSS SQUARE FEET</th>\n",
       "      <th>YEAR BUILT</th>\n",
       "      <th>TAX CLASS AT TIME OF SALE</th>\n",
       "      <th>BUILDING CLASS AT TIME OF SALE</th>\n",
       "      <th>SALE PRICE</th>\n",
       "      <th>SALE DATE</th>\n",
       "    </tr>\n",
       "  </thead>\n",
       "  <tbody>\n",
       "    <tr>\n",
       "      <th>208</th>\n",
       "      <td>Manhattan</td>\n",
       "      <td>CHELSEA</td>\n",
       "      <td>01 ONE FAMILY DWELLINGS</td>\n",
       "      <td>1</td>\n",
       "      <td>772</td>\n",
       "      <td>29</td>\n",
       "      <td>A4</td>\n",
       "      <td>1</td>\n",
       "      <td>0</td>\n",
       "      <td>1</td>\n",
       "      <td>1588.0</td>\n",
       "      <td>5653.0</td>\n",
       "      <td>1900</td>\n",
       "      <td>1</td>\n",
       "      <td>A4</td>\n",
       "      <td>10.0</td>\n",
       "      <td>2017-01-30</td>\n",
       "    </tr>\n",
       "    <tr>\n",
       "      <th>209</th>\n",
       "      <td>Manhattan</td>\n",
       "      <td>CHELSEA</td>\n",
       "      <td>01 ONE FAMILY DWELLINGS</td>\n",
       "      <td>1</td>\n",
       "      <td>772</td>\n",
       "      <td>29</td>\n",
       "      <td>A4</td>\n",
       "      <td>1</td>\n",
       "      <td>0</td>\n",
       "      <td>1</td>\n",
       "      <td>1588.0</td>\n",
       "      <td>5653.0</td>\n",
       "      <td>1900</td>\n",
       "      <td>1</td>\n",
       "      <td>A4</td>\n",
       "      <td>10.0</td>\n",
       "      <td>2017-01-30</td>\n",
       "    </tr>\n",
       "    <tr>\n",
       "      <th>4173</th>\n",
       "      <td>Manhattan</td>\n",
       "      <td>GREENWICH VILLAGE-WEST</td>\n",
       "      <td>01 ONE FAMILY DWELLINGS</td>\n",
       "      <td>1</td>\n",
       "      <td>585</td>\n",
       "      <td>69</td>\n",
       "      <td>A5</td>\n",
       "      <td>1</td>\n",
       "      <td>0</td>\n",
       "      <td>1</td>\n",
       "      <td>384.0</td>\n",
       "      <td>1152.0</td>\n",
       "      <td>1901</td>\n",
       "      <td>1</td>\n",
       "      <td>A5</td>\n",
       "      <td>1375000.0</td>\n",
       "      <td>2016-10-07</td>\n",
       "    </tr>\n",
       "    <tr>\n",
       "      <th>5005</th>\n",
       "      <td>Manhattan</td>\n",
       "      <td>HARLEM-CENTRAL</td>\n",
       "      <td>08 RENTALS - ELEVATOR APARTMENTS</td>\n",
       "      <td>2</td>\n",
       "      <td>1737</td>\n",
       "      <td>25</td>\n",
       "      <td>D3</td>\n",
       "      <td>771</td>\n",
       "      <td>0</td>\n",
       "      <td>771</td>\n",
       "      <td>189025.0</td>\n",
       "      <td>555954.0</td>\n",
       "      <td>1959</td>\n",
       "      <td>2</td>\n",
       "      <td>D3</td>\n",
       "      <td>5020000.0</td>\n",
       "      <td>2016-11-07</td>\n",
       "    </tr>\n",
       "    <tr>\n",
       "      <th>5006</th>\n",
       "      <td>Manhattan</td>\n",
       "      <td>HARLEM-CENTRAL</td>\n",
       "      <td>08 RENTALS - ELEVATOR APARTMENTS</td>\n",
       "      <td>2</td>\n",
       "      <td>1737</td>\n",
       "      <td>25</td>\n",
       "      <td>D3</td>\n",
       "      <td>771</td>\n",
       "      <td>0</td>\n",
       "      <td>771</td>\n",
       "      <td>189025.0</td>\n",
       "      <td>555954.0</td>\n",
       "      <td>1959</td>\n",
       "      <td>2</td>\n",
       "      <td>D3</td>\n",
       "      <td>5020000.0</td>\n",
       "      <td>2016-11-07</td>\n",
       "    </tr>\n",
       "    <tr>\n",
       "      <th>...</th>\n",
       "      <td>...</td>\n",
       "      <td>...</td>\n",
       "      <td>...</td>\n",
       "      <td>...</td>\n",
       "      <td>...</td>\n",
       "      <td>...</td>\n",
       "      <td>...</td>\n",
       "      <td>...</td>\n",
       "      <td>...</td>\n",
       "      <td>...</td>\n",
       "      <td>...</td>\n",
       "      <td>...</td>\n",
       "      <td>...</td>\n",
       "      <td>...</td>\n",
       "      <td>...</td>\n",
       "      <td>...</td>\n",
       "      <td>...</td>\n",
       "    </tr>\n",
       "    <tr>\n",
       "      <th>83176</th>\n",
       "      <td>Staten Islands</td>\n",
       "      <td>TODT HILL</td>\n",
       "      <td>01 ONE FAMILY DWELLINGS</td>\n",
       "      <td>1</td>\n",
       "      <td>908</td>\n",
       "      <td>150</td>\n",
       "      <td>A1</td>\n",
       "      <td>1</td>\n",
       "      <td>0</td>\n",
       "      <td>1</td>\n",
       "      <td>38862.0</td>\n",
       "      <td>3900.0</td>\n",
       "      <td>1920</td>\n",
       "      <td>1</td>\n",
       "      <td>A1</td>\n",
       "      <td>1125000.0</td>\n",
       "      <td>2017-08-02</td>\n",
       "    </tr>\n",
       "    <tr>\n",
       "      <th>83207</th>\n",
       "      <td>Staten Islands</td>\n",
       "      <td>TOMPKINSVILLE</td>\n",
       "      <td>02 TWO FAMILY DWELLINGS</td>\n",
       "      <td>1</td>\n",
       "      <td>114</td>\n",
       "      <td>30</td>\n",
       "      <td>B2</td>\n",
       "      <td>2</td>\n",
       "      <td>0</td>\n",
       "      <td>2</td>\n",
       "      <td>5781.0</td>\n",
       "      <td>844.0</td>\n",
       "      <td>1942</td>\n",
       "      <td>1</td>\n",
       "      <td>B2</td>\n",
       "      <td>250000.0</td>\n",
       "      <td>2017-06-22</td>\n",
       "    </tr>\n",
       "    <tr>\n",
       "      <th>83603</th>\n",
       "      <td>Staten Islands</td>\n",
       "      <td>WEST NEW BRIGHTON</td>\n",
       "      <td>01 ONE FAMILY DWELLINGS</td>\n",
       "      <td>1</td>\n",
       "      <td>91</td>\n",
       "      <td>31</td>\n",
       "      <td>A1</td>\n",
       "      <td>1</td>\n",
       "      <td>0</td>\n",
       "      <td>1</td>\n",
       "      <td>4840.0</td>\n",
       "      <td>2400.0</td>\n",
       "      <td>2005</td>\n",
       "      <td>1</td>\n",
       "      <td>A1</td>\n",
       "      <td>585000.0</td>\n",
       "      <td>2016-09-21</td>\n",
       "    </tr>\n",
       "    <tr>\n",
       "      <th>83647</th>\n",
       "      <td>Staten Islands</td>\n",
       "      <td>WEST NEW BRIGHTON</td>\n",
       "      <td>01 ONE FAMILY DWELLINGS</td>\n",
       "      <td>1</td>\n",
       "      <td>155</td>\n",
       "      <td>180</td>\n",
       "      <td>A1</td>\n",
       "      <td>1</td>\n",
       "      <td>0</td>\n",
       "      <td>1</td>\n",
       "      <td>10671.0</td>\n",
       "      <td>2464.0</td>\n",
       "      <td>1899</td>\n",
       "      <td>1</td>\n",
       "      <td>A1</td>\n",
       "      <td>725000.0</td>\n",
       "      <td>2017-06-30</td>\n",
       "    </tr>\n",
       "    <tr>\n",
       "      <th>84445</th>\n",
       "      <td>Staten Islands</td>\n",
       "      <td>WOODROW</td>\n",
       "      <td>01 ONE FAMILY DWELLINGS</td>\n",
       "      <td>1</td>\n",
       "      <td>6969</td>\n",
       "      <td>20</td>\n",
       "      <td>A5</td>\n",
       "      <td>1</td>\n",
       "      <td>0</td>\n",
       "      <td>1</td>\n",
       "      <td>2773.0</td>\n",
       "      <td>1650.0</td>\n",
       "      <td>1999</td>\n",
       "      <td>1</td>\n",
       "      <td>A5</td>\n",
       "      <td>560000.0</td>\n",
       "      <td>2016-09-07</td>\n",
       "    </tr>\n",
       "  </tbody>\n",
       "</table>\n",
       "<p>335 rows × 17 columns</p>\n",
       "</div>"
      ],
      "text/plain": [
       "              BOROUGH            NEIGHBORHOOD  \\\n",
       "208         Manhattan                 CHELSEA   \n",
       "209         Manhattan                 CHELSEA   \n",
       "4173        Manhattan  GREENWICH VILLAGE-WEST   \n",
       "5005        Manhattan          HARLEM-CENTRAL   \n",
       "5006        Manhattan          HARLEM-CENTRAL   \n",
       "...               ...                     ...   \n",
       "83176  Staten Islands               TODT HILL   \n",
       "83207  Staten Islands           TOMPKINSVILLE   \n",
       "83603  Staten Islands       WEST NEW BRIGHTON   \n",
       "83647  Staten Islands       WEST NEW BRIGHTON   \n",
       "84445  Staten Islands                 WOODROW   \n",
       "\n",
       "                           BUILDING CLASS CATEGORY TAX CLASS AT PRESENT  \\\n",
       "208    01 ONE FAMILY DWELLINGS                                        1   \n",
       "209    01 ONE FAMILY DWELLINGS                                        1   \n",
       "4173   01 ONE FAMILY DWELLINGS                                        1   \n",
       "5005   08 RENTALS - ELEVATOR APARTMENTS                               2   \n",
       "5006   08 RENTALS - ELEVATOR APARTMENTS                               2   \n",
       "...                                            ...                  ...   \n",
       "83176  01 ONE FAMILY DWELLINGS                                        1   \n",
       "83207  02 TWO FAMILY DWELLINGS                                        1   \n",
       "83603  01 ONE FAMILY DWELLINGS                                        1   \n",
       "83647  01 ONE FAMILY DWELLINGS                                        1   \n",
       "84445  01 ONE FAMILY DWELLINGS                                        1   \n",
       "\n",
       "       BLOCK  LOT BUILDING CLASS AT PRESENT  RESIDENTIAL UNITS  \\\n",
       "208      772   29                        A4                  1   \n",
       "209      772   29                        A4                  1   \n",
       "4173     585   69                        A5                  1   \n",
       "5005    1737   25                        D3                771   \n",
       "5006    1737   25                        D3                771   \n",
       "...      ...  ...                       ...                ...   \n",
       "83176    908  150                        A1                  1   \n",
       "83207    114   30                        B2                  2   \n",
       "83603     91   31                        A1                  1   \n",
       "83647    155  180                        A1                  1   \n",
       "84445   6969   20                        A5                  1   \n",
       "\n",
       "       COMMERCIAL UNITS  TOTAL UNITS  LAND SQUARE FEET  GROSS SQUARE FEET  \\\n",
       "208                   0            1            1588.0             5653.0   \n",
       "209                   0            1            1588.0             5653.0   \n",
       "4173                  0            1             384.0             1152.0   \n",
       "5005                  0          771          189025.0           555954.0   \n",
       "5006                  0          771          189025.0           555954.0   \n",
       "...                 ...          ...               ...                ...   \n",
       "83176                 0            1           38862.0             3900.0   \n",
       "83207                 0            2            5781.0              844.0   \n",
       "83603                 0            1            4840.0             2400.0   \n",
       "83647                 0            1           10671.0             2464.0   \n",
       "84445                 0            1            2773.0             1650.0   \n",
       "\n",
       "      YEAR BUILT TAX CLASS AT TIME OF SALE BUILDING CLASS AT TIME OF SALE  \\\n",
       "208         1900                         1                             A4   \n",
       "209         1900                         1                             A4   \n",
       "4173        1901                         1                             A5   \n",
       "5005        1959                         2                             D3   \n",
       "5006        1959                         2                             D3   \n",
       "...          ...                       ...                            ...   \n",
       "83176       1920                         1                             A1   \n",
       "83207       1942                         1                             B2   \n",
       "83603       2005                         1                             A1   \n",
       "83647       1899                         1                             A1   \n",
       "84445       1999                         1                             A5   \n",
       "\n",
       "       SALE PRICE  SALE DATE  \n",
       "208          10.0 2017-01-30  \n",
       "209          10.0 2017-01-30  \n",
       "4173    1375000.0 2016-10-07  \n",
       "5005    5020000.0 2016-11-07  \n",
       "5006    5020000.0 2016-11-07  \n",
       "...           ...        ...  \n",
       "83176   1125000.0 2017-08-02  \n",
       "83207    250000.0 2017-06-22  \n",
       "83603    585000.0 2016-09-21  \n",
       "83647    725000.0 2017-06-30  \n",
       "84445    560000.0 2016-09-07  \n",
       "\n",
       "[335 rows x 17 columns]"
      ]
     },
     "execution_count": 25,
     "metadata": {},
     "output_type": "execute_result"
    }
   ],
   "source": [
    "nyc[nyc.duplicated()]"
   ]
  },
  {
   "cell_type": "markdown",
   "id": "e8c2388b-4efc-434a-9e34-8264d28f6b7b",
   "metadata": {},
   "source": [
    "Menghapus baris yang duplikat"
   ]
  },
  {
   "cell_type": "code",
   "execution_count": 26,
   "id": "8464744b-27d1-4b11-ba61-5da4b33d2d37",
   "metadata": {
    "tags": []
   },
   "outputs": [
    {
     "data": {
      "text/plain": [
       "(41089, 17)"
      ]
     },
     "execution_count": 26,
     "metadata": {},
     "output_type": "execute_result"
    }
   ],
   "source": [
    "nyc.drop_duplicates(subset = nyc.columns, keep='first', inplace=True)\n",
    "\n",
    "nyc.shape"
   ]
  },
  {
   "cell_type": "markdown",
   "id": "09022ee1-c4f4-4ffc-bb2b-d27003f831da",
   "metadata": {},
   "source": [
    "Kategorikan kolom data sesuai dengan tipe data"
   ]
  },
  {
   "cell_type": "code",
   "execution_count": 27,
   "id": "665c84dc-768c-4d57-a241-cb135c89950d",
   "metadata": {
    "tags": []
   },
   "outputs": [
    {
     "name": "stdout",
     "output_type": "stream",
     "text": [
      "<class 'pandas.core.frame.DataFrame'>\n",
      "Int64Index: 41089 entries, 0 to 84547\n",
      "Data columns (total 17 columns):\n",
      " #   Column                          Non-Null Count  Dtype         \n",
      "---  ------                          --------------  -----         \n",
      " 0   BOROUGH                         41089 non-null  category      \n",
      " 1   NEIGHBORHOOD                    41089 non-null  category      \n",
      " 2   BUILDING CLASS CATEGORY         41089 non-null  category      \n",
      " 3   TAX CLASS AT PRESENT            41089 non-null  category      \n",
      " 4   BLOCK                           41089 non-null  int64         \n",
      " 5   LOT                             41089 non-null  int64         \n",
      " 6   BUILDING CLASS AT PRESENT       41089 non-null  category      \n",
      " 7   RESIDENTIAL UNITS               41089 non-null  int64         \n",
      " 8   COMMERCIAL UNITS                41089 non-null  int64         \n",
      " 9   TOTAL UNITS                     41089 non-null  int64         \n",
      " 10  LAND SQUARE FEET                41089 non-null  float64       \n",
      " 11  GROSS SQUARE FEET               41089 non-null  float64       \n",
      " 12  YEAR BUILT                      41089 non-null  category      \n",
      " 13  TAX CLASS AT TIME OF SALE       41089 non-null  category      \n",
      " 14  BUILDING CLASS AT TIME OF SALE  41089 non-null  category      \n",
      " 15  SALE PRICE                      41089 non-null  float64       \n",
      " 16  SALE DATE                       41089 non-null  datetime64[ns]\n",
      "dtypes: category(8), datetime64[ns](1), float64(3), int64(5)\n",
      "memory usage: 3.6 MB\n"
     ]
    }
   ],
   "source": [
    "nyc.info()"
   ]
  },
  {
   "cell_type": "code",
   "execution_count": 28,
   "id": "11fdfcff-6829-4ff9-a008-6dc48a1de629",
   "metadata": {
    "tags": []
   },
   "outputs": [],
   "source": [
    "categor = ['BOROUGH', 'NEIGHBORHOOD', 'BUILDING CLASS CATEGORY', 'TAX CLASS AT PRESENT', 'BUILDING CLASS AT PRESENT',\n",
    "           'BUILDING CLASS AT TIME OF SALE', 'TAX CLASS AT TIME OF SALE', 'YEAR BUILT']\n",
    "floats= ['SALE PRICE', 'LAND SQUARE FEET', 'GROSS SQUARE FEET']\n",
    "integer = ['BLOCK', 'LOT']"
   ]
  },
  {
   "cell_type": "markdown",
   "id": "bff53dac-0375-48c1-ad1f-ea6aa219d8ce",
   "metadata": {},
   "source": [
    "Menjadikan data kategori sebagai tipe data string"
   ]
  },
  {
   "cell_type": "code",
   "execution_count": 29,
   "id": "e62b80de-795d-4bc1-847e-ac7f59ba6773",
   "metadata": {
    "tags": []
   },
   "outputs": [],
   "source": [
    "for col in categor:\n",
    "    nyc[col] = nyc[col].astype('str')"
   ]
  },
  {
   "cell_type": "markdown",
   "id": "10e09bbe-b64d-45c2-a763-d36ed024f815",
   "metadata": {},
   "source": [
    "Menjadikan kolom floats menjadi tipe data float"
   ]
  },
  {
   "cell_type": "code",
   "execution_count": 30,
   "id": "f119ea97-011d-4207-b74b-e89976550227",
   "metadata": {
    "tags": []
   },
   "outputs": [],
   "source": [
    "for col in floats:\n",
    "    nyc[col] = nyc[col].astype('float64')"
   ]
  },
  {
   "cell_type": "markdown",
   "id": "8d3af3a9-ab10-4a26-b7ad-96f5e1e00c10",
   "metadata": {},
   "source": [
    "Menjadikan kolom integer menjadi tipe data integer"
   ]
  },
  {
   "cell_type": "code",
   "execution_count": 31,
   "id": "00f0c988-7e1c-4ebc-ab35-d7e6f8ac6cba",
   "metadata": {
    "tags": []
   },
   "outputs": [],
   "source": [
    "for col in integer:\n",
    "    nyc[col] = nyc[col].astype('int64')"
   ]
  },
  {
   "cell_type": "markdown",
   "id": "32494336-9438-49c0-ac02-e8a4cd52c7d1",
   "metadata": {},
   "source": [
    "Melihat missing value"
   ]
  },
  {
   "cell_type": "code",
   "execution_count": 32,
   "id": "88030995-3fd9-4ae3-9c89-4c38d19c9f34",
   "metadata": {
    "tags": []
   },
   "outputs": [
    {
     "data": {
      "text/plain": [
       "BOROUGH                           0\n",
       "NEIGHBORHOOD                      0\n",
       "BUILDING CLASS CATEGORY           0\n",
       "TAX CLASS AT PRESENT              0\n",
       "BLOCK                             0\n",
       "LOT                               0\n",
       "BUILDING CLASS AT PRESENT         0\n",
       "RESIDENTIAL UNITS                 0\n",
       "COMMERCIAL UNITS                  0\n",
       "TOTAL UNITS                       0\n",
       "LAND SQUARE FEET                  0\n",
       "GROSS SQUARE FEET                 0\n",
       "YEAR BUILT                        0\n",
       "TAX CLASS AT TIME OF SALE         0\n",
       "BUILDING CLASS AT TIME OF SALE    0\n",
       "SALE PRICE                        0\n",
       "SALE DATE                         0\n",
       "dtype: int64"
      ]
     },
     "execution_count": 32,
     "metadata": {},
     "output_type": "execute_result"
    }
   ],
   "source": [
    "nyc.isnull().sum()"
   ]
  },
  {
   "cell_type": "code",
   "execution_count": 33,
   "id": "60f6a61a-efa0-4633-ae38-b2ccce85d290",
   "metadata": {
    "tags": []
   },
   "outputs": [
    {
     "name": "stdout",
     "output_type": "stream",
     "text": [
      "<class 'pandas.core.frame.DataFrame'>\n",
      "Int64Index: 41089 entries, 0 to 84547\n",
      "Data columns (total 17 columns):\n",
      " #   Column                          Non-Null Count  Dtype         \n",
      "---  ------                          --------------  -----         \n",
      " 0   BOROUGH                         41089 non-null  object        \n",
      " 1   NEIGHBORHOOD                    41089 non-null  object        \n",
      " 2   BUILDING CLASS CATEGORY         41089 non-null  object        \n",
      " 3   TAX CLASS AT PRESENT            41089 non-null  object        \n",
      " 4   BLOCK                           41089 non-null  int64         \n",
      " 5   LOT                             41089 non-null  int64         \n",
      " 6   BUILDING CLASS AT PRESENT       41089 non-null  object        \n",
      " 7   RESIDENTIAL UNITS               41089 non-null  int64         \n",
      " 8   COMMERCIAL UNITS                41089 non-null  int64         \n",
      " 9   TOTAL UNITS                     41089 non-null  int64         \n",
      " 10  LAND SQUARE FEET                41089 non-null  float64       \n",
      " 11  GROSS SQUARE FEET               41089 non-null  float64       \n",
      " 12  YEAR BUILT                      41089 non-null  object        \n",
      " 13  TAX CLASS AT TIME OF SALE       41089 non-null  object        \n",
      " 14  BUILDING CLASS AT TIME OF SALE  41089 non-null  object        \n",
      " 15  SALE PRICE                      41089 non-null  float64       \n",
      " 16  SALE DATE                       41089 non-null  datetime64[ns]\n",
      "dtypes: datetime64[ns](1), float64(3), int64(5), object(8)\n",
      "memory usage: 5.6+ MB\n"
     ]
    }
   ],
   "source": [
    "nyc.info()"
   ]
  },
  {
   "cell_type": "markdown",
   "id": "fa074f4f-b1d4-4525-aaf7-3c53e89af4a7",
   "metadata": {},
   "source": [
    "Dari hasil di atas bisa dilihat bahwa dataset tersebut sudah tidak terdapat missing value."
   ]
  },
  {
   "cell_type": "markdown",
   "id": "e2588865-4d66-49ba-922c-6078a925c8b5",
   "metadata": {},
   "source": [
    "## Descriptive Statistics"
   ]
  },
  {
   "cell_type": "markdown",
   "id": "7744f622-76c7-47cd-9d80-b7ede92b598b",
   "metadata": {},
   "source": [
    "### Measures of Central Tendency"
   ]
  },
  {
   "cell_type": "markdown",
   "id": "f468ab43-ec9d-443b-83a1-925d2476c756",
   "metadata": {
    "tags": []
   },
   "source": [
    "Untuk tahap ini kita akan melihat Measures of Central Tendency untuk tiap kolom "
   ]
  },
  {
   "cell_type": "markdown",
   "id": "4a0e4bda-3246-4e6d-9275-c8604219fdde",
   "metadata": {},
   "source": [
    "#### Mean"
   ]
  },
  {
   "cell_type": "code",
   "execution_count": 34,
   "id": "6c726128-58dc-4d55-910d-4e9f711c8584",
   "metadata": {
    "tags": []
   },
   "outputs": [],
   "source": [
    "mean_SALEPRICE = statistics.mean(nyc['SALE PRICE'])\n",
    "mean_RESIDENTIALUNITS =statistics.mean(nyc['RESIDENTIAL UNITS'])\n",
    "mean_TOTALUNITS =statistics.mean(nyc['TOTAL UNITS'])\n",
    "mean_COMMERCIALUNITS =statistics.mean(nyc['COMMERCIAL UNITS'])\n",
    "mean_LANDSQUAREFEET =statistics.mean(nyc['LAND SQUARE FEET'])\n",
    "mean_GROSSSQUAREFEET =statistics.mean(nyc['GROSS SQUARE FEET'])"
   ]
  },
  {
   "cell_type": "code",
   "execution_count": 35,
   "id": "f7115650-0a87-44f6-8d86-1a31a413ff33",
   "metadata": {
    "tags": []
   },
   "outputs": [
    {
     "name": "stdout",
     "output_type": "stream",
     "text": [
      "MEAN\n",
      "========================================\n",
      "SALE PRICE: 1258914.4056073402\n",
      "RESIDENTIAL UNITS: 2.8722042395775027\n",
      "TOTAL UNITS: 3.1648859792158484\n",
      "COMMERCIAL UNITS: 0.2759132614568376\n",
      "LAND SQUARE FEET: 3547.3256589354814\n",
      "GROSS SQUARE FEET: 4034.059845700796\n",
      "========================================\n"
     ]
    }
   ],
   "source": [
    "print('MEAN')\n",
    "print(\"=\"*40)\n",
    "print('SALE PRICE:', mean_SALEPRICE)\n",
    "print('RESIDENTIAL UNITS:', mean_RESIDENTIALUNITS)\n",
    "print('TOTAL UNITS:',mean_TOTALUNITS)\n",
    "print('COMMERCIAL UNITS:', mean_COMMERCIALUNITS)\n",
    "print('LAND SQUARE FEET:',mean_LANDSQUAREFEET)\n",
    "print('GROSS SQUARE FEET:',mean_GROSSSQUAREFEET)\n",
    "print(\"=\"*40)"
   ]
  },
  {
   "cell_type": "markdown",
   "id": "40128073-9005-40ea-b49c-9fccf2fb6aaa",
   "metadata": {},
   "source": [
    "#### Median"
   ]
  },
  {
   "cell_type": "code",
   "execution_count": 36,
   "id": "3b10e445-6509-446a-a816-7fe4622b5548",
   "metadata": {
    "tags": []
   },
   "outputs": [],
   "source": [
    "median_SALEPRICE = statistics.median(nyc['SALE PRICE'])\n",
    "median_RESIDENTIALUNITS =statistics.median(nyc['RESIDENTIAL UNITS'])\n",
    "median_TOTALUNITS =statistics.median(nyc['TOTAL UNITS'])\n",
    "median_COMMERCIALUNITS =statistics.median(nyc['COMMERCIAL UNITS'])\n",
    "median_LANDSQUAREFEET =statistics.median(nyc['LAND SQUARE FEET'])\n",
    "median_GROSSSQUAREFEET =statistics.median(nyc['GROSS SQUARE FEET'])"
   ]
  },
  {
   "cell_type": "code",
   "execution_count": 37,
   "id": "68f1c1f0-8b85-43ea-8a0d-06b5668b1e4c",
   "metadata": {
    "tags": []
   },
   "outputs": [
    {
     "name": "stdout",
     "output_type": "stream",
     "text": [
      "MEDIAN\n",
      "========================================\n",
      "SALE PRICE: 520000.0\n",
      "RESIDENTIAL UNITS: 1\n",
      "TOTAL UNITS: 2\n",
      "COMMERCIAL UNITS: 0\n",
      "LAND SQUARE FEET: 2375.0\n",
      "GROSS SQUARE FEET: 1836.0\n",
      "========================================\n"
     ]
    }
   ],
   "source": [
    "print('MEDIAN')\n",
    "print(\"=\"*40)\n",
    "print('SALE PRICE:', median_SALEPRICE)\n",
    "print('RESIDENTIAL UNITS:', median_RESIDENTIALUNITS)\n",
    "print('TOTAL UNITS:',median_TOTALUNITS)\n",
    "print('COMMERCIAL UNITS:', median_COMMERCIALUNITS)\n",
    "print('LAND SQUARE FEET:',median_LANDSQUAREFEET)\n",
    "print('GROSS SQUARE FEET:',median_GROSSSQUAREFEET)\n",
    "print(\"=\"*40)"
   ]
  },
  {
   "cell_type": "markdown",
   "id": "e0b0ef3c-e02d-4e93-8a6d-9d377bf4989e",
   "metadata": {},
   "source": [
    "#### Mode"
   ]
  },
  {
   "cell_type": "code",
   "execution_count": 38,
   "id": "86424c05-5477-4de8-bb1e-97b2e039be32",
   "metadata": {
    "tags": []
   },
   "outputs": [],
   "source": [
    "mode_BOROUGH = statistics.mode(nyc['BOROUGH'])\n",
    "mode_NEIGHBORHOOD = statistics.mode(nyc['NEIGHBORHOOD'])\n",
    "mode_TAXCLASSATPRESENT = statistics.mode(nyc['TAX CLASS AT PRESENT'])\n",
    "mode_BUILDINGCLASSCATEGORY = statistics.mode(nyc['BUILDING CLASS CATEGORY'])"
   ]
  },
  {
   "cell_type": "code",
   "execution_count": 39,
   "id": "d82d638c-74ad-45f6-99ba-38842adf5d73",
   "metadata": {
    "tags": []
   },
   "outputs": [
    {
     "name": "stdout",
     "output_type": "stream",
     "text": [
      "MODE\n",
      "========================================\n",
      "BOROUGH: Brooklyn\n",
      "NEIGHBORHOOD: BEDFORD STUYVESANT\n",
      "TAX CLASS AT PRESENT: 1\n",
      "BUILDING CLASS CATEGORY: 01 ONE FAMILY DWELLINGS                    \n"
     ]
    }
   ],
   "source": [
    "print('MODE')\n",
    "print(\"=\"*40)\n",
    "print('BOROUGH:',mode_BOROUGH)\n",
    "print('NEIGHBORHOOD:',mode_NEIGHBORHOOD)\n",
    "print('TAX CLASS AT PRESENT:',mode_TAXCLASSATPRESENT)\n",
    "print('BUILDING CLASS CATEGORY:',mode_BUILDINGCLASSCATEGORY)"
   ]
  },
  {
   "cell_type": "markdown",
   "id": "0f40e94c-86c3-4c7d-a9ce-6d2ee1d1e416",
   "metadata": {},
   "source": [
    "### Measures of Variability"
   ]
  },
  {
   "cell_type": "markdown",
   "id": "d3207810-3dcf-4664-9461-3dfffb45c60e",
   "metadata": {},
   "source": [
    "Untuk tahap ini kita akan melihat Measures of Variability untuk tiap kolom"
   ]
  },
  {
   "cell_type": "markdown",
   "id": "c1799688-b108-450c-a47a-bb61cfb555c9",
   "metadata": {},
   "source": [
    "#### Variances"
   ]
  },
  {
   "cell_type": "markdown",
   "id": "7d3429d3-5344-4a80-9f05-06560e500794",
   "metadata": {},
   "source": [
    "Berikutnya adalah melihat nilai variance dengan menggunakan funsgi statistics.variance()"
   ]
  },
  {
   "cell_type": "code",
   "execution_count": 40,
   "id": "10bf592c-5d53-409e-a9ed-fc2502e6f9e0",
   "metadata": {
    "tags": []
   },
   "outputs": [],
   "source": [
    "var_SALEPRICE = statistics.variance(nyc['SALE PRICE'])\n",
    "var_LANDSQUAREFEET = statistics.variance(nyc['LAND SQUARE FEET'])\n",
    "var_LANDSQUAREFEET = statistics.variance(nyc['LAND SQUARE FEET'])"
   ]
  },
  {
   "cell_type": "code",
   "execution_count": 41,
   "id": "d9e375aa-82cb-4986-ad3b-8c2461c54e36",
   "metadata": {
    "tags": []
   },
   "outputs": [
    {
     "name": "stdout",
     "output_type": "stream",
     "text": [
      "VARIANCE\n",
      "========================================\n",
      "SALE PRICE: 206766591860143.16\n",
      "LAND SQUARE FEET: 852812301.0355178\n",
      "LAND SQUARE FEET: 852812301.0355178\n",
      "========================================\n"
     ]
    }
   ],
   "source": [
    "print('VARIANCE')\n",
    "print(\"=\"*40)\n",
    "print('SALE PRICE:', var_SALEPRICE)\n",
    "print('LAND SQUARE FEET:', var_LANDSQUAREFEET)\n",
    "print('LAND SQUARE FEET:', var_LANDSQUAREFEET)\n",
    "print(\"=\"*40)"
   ]
  },
  {
   "cell_type": "markdown",
   "id": "a098fbfa-ecaf-4c3a-9958-84d019ceca96",
   "metadata": {},
   "source": [
    "#### Standard Deviation"
   ]
  },
  {
   "cell_type": "markdown",
   "id": "f78a2c7c-7dc7-4ec1-89e4-da28d07b2604",
   "metadata": {},
   "source": [
    "Setelah mendapatkan nilai variance, menghitung nilai standard deviation dengan menggunakan fungsi statistics.stdev()"
   ]
  },
  {
   "cell_type": "code",
   "execution_count": 42,
   "id": "67a6a222-70fb-4904-a9b9-adaeab572a16",
   "metadata": {
    "tags": []
   },
   "outputs": [],
   "source": [
    "std_SALEPRICE = statistics.stdev(nyc['SALE PRICE'])\n",
    "std_LANDSQUAREFEET = statistics.stdev(nyc['LAND SQUARE FEET'])\n",
    "std_LANDSQUAREFEET = statistics.stdev(nyc['LAND SQUARE FEET'])"
   ]
  },
  {
   "cell_type": "code",
   "execution_count": 43,
   "id": "867b9662-5e9a-4927-84ec-1e8f4dc11f9f",
   "metadata": {
    "tags": []
   },
   "outputs": [
    {
     "name": "stdout",
     "output_type": "stream",
     "text": [
      "STANDARD DEVIATION\n",
      "========================================\n",
      "SALE PRICE: 14379380.788481232\n",
      "LAND SQUARE FEET: 29202.950211160478\n",
      "LAND SQUARE FEET: 29202.950211160478\n",
      "========================================\n"
     ]
    }
   ],
   "source": [
    "print('STANDARD DEVIATION')\n",
    "print(\"=\"*40)\n",
    "print('SALE PRICE:', std_SALEPRICE)\n",
    "print('LAND SQUARE FEET:', std_LANDSQUAREFEET)\n",
    "print('LAND SQUARE FEET:', std_LANDSQUAREFEET)\n",
    "print(\"=\"*40)"
   ]
  },
  {
   "cell_type": "markdown",
   "id": "8a9d593c-2225-4ff5-9190-f3594135b98f",
   "metadata": {},
   "source": [
    "#### Ranges"
   ]
  },
  {
   "cell_type": "markdown",
   "id": "3566d87b-6238-4396-99ea-33a530fed770",
   "metadata": {},
   "source": [
    "Selanjutnya melihat perbedaan anatara elemen maksimum dan minimum dengan fungsi np.ptp()"
   ]
  },
  {
   "cell_type": "code",
   "execution_count": 44,
   "id": "1387abbb-bb63-445d-b51c-cca0abdcf2f9",
   "metadata": {
    "tags": []
   },
   "outputs": [],
   "source": [
    "range_SALEPRICE = np.ptp(nyc['SALE PRICE'])\n",
    "range_LANDSQUAREFEET = np.ptp(nyc['LAND SQUARE FEET'])\n",
    "range_LANDSQUAREFEET = np.ptp(nyc['LAND SQUARE FEET'])"
   ]
  },
  {
   "cell_type": "code",
   "execution_count": 45,
   "id": "55d87bb8-7553-488b-84df-1416d1c05c83",
   "metadata": {
    "tags": []
   },
   "outputs": [
    {
     "name": "stdout",
     "output_type": "stream",
     "text": [
      "RANGES\n",
      "========================================\n",
      "SALE PRICE: 2210000000.0\n",
      "LAND SQUARE FEET: 4228300.0\n",
      "LAND SQUARE FEET: 4228300.0\n",
      "========================================\n"
     ]
    }
   ],
   "source": [
    "print('RANGES')\n",
    "print(\"=\"*40)\n",
    "print('SALE PRICE:', range_SALEPRICE)\n",
    "print('LAND SQUARE FEET:', range_LANDSQUAREFEET)\n",
    "print('LAND SQUARE FEET:', range_LANDSQUAREFEET)\n",
    "print(\"=\"*40)"
   ]
  },
  {
   "cell_type": "markdown",
   "id": "43478e6a-70ad-4569-9080-4d57939e7724",
   "metadata": {},
   "source": [
    "## Analisis Descriptive LAND SQUARE FEET, GROSS SQUARE FEET, SALE PRICE untuk Setiap BOROUGH"
   ]
  },
  {
   "cell_type": "markdown",
   "id": "c313e21c-ca74-44ef-92d2-5824e5bb1d37",
   "metadata": {},
   "source": [
    "Melihat Mean LAND SQUARE FEET, GROSS SQUARE FEET, SALE PRICE untuk masing-masing wilayah "
   ]
  },
  {
   "cell_type": "code",
   "execution_count": 46,
   "id": "ad87b091-91ec-444e-9e30-65548bc78a6f",
   "metadata": {},
   "outputs": [
    {
     "data": {
      "text/html": [
       "<div>\n",
       "<style scoped>\n",
       "    .dataframe tbody tr th:only-of-type {\n",
       "        vertical-align: middle;\n",
       "    }\n",
       "\n",
       "    .dataframe tbody tr th {\n",
       "        vertical-align: top;\n",
       "    }\n",
       "\n",
       "    .dataframe thead th {\n",
       "        text-align: right;\n",
       "    }\n",
       "</style>\n",
       "<table border=\"1\" class=\"dataframe\">\n",
       "  <thead>\n",
       "    <tr style=\"text-align: right;\">\n",
       "      <th></th>\n",
       "      <th>LAND SQUARE FEET</th>\n",
       "      <th>GROSS SQUARE FEET</th>\n",
       "      <th>SALE PRICE</th>\n",
       "    </tr>\n",
       "    <tr>\n",
       "      <th>BOROUGH</th>\n",
       "      <th></th>\n",
       "      <th></th>\n",
       "      <th></th>\n",
       "    </tr>\n",
       "  </thead>\n",
       "  <tbody>\n",
       "    <tr>\n",
       "      <th>Bronx</th>\n",
       "      <td>4656.466242</td>\n",
       "      <td>5933.011767</td>\n",
       "      <td>7.210653e+05</td>\n",
       "    </tr>\n",
       "    <tr>\n",
       "      <th>Brooklyn</th>\n",
       "      <td>2331.743152</td>\n",
       "      <td>3100.116821</td>\n",
       "      <td>8.899375e+05</td>\n",
       "    </tr>\n",
       "    <tr>\n",
       "      <th>Manhattan</th>\n",
       "      <td>5309.681250</td>\n",
       "      <td>34128.036458</td>\n",
       "      <td>1.929664e+07</td>\n",
       "    </tr>\n",
       "    <tr>\n",
       "      <th>Queens</th>\n",
       "      <td>3949.249252</td>\n",
       "      <td>2913.573461</td>\n",
       "      <td>9.074128e+05</td>\n",
       "    </tr>\n",
       "    <tr>\n",
       "      <th>Staten Islands</th>\n",
       "      <td>5744.675402</td>\n",
       "      <td>2298.129045</td>\n",
       "      <td>5.272380e+05</td>\n",
       "    </tr>\n",
       "  </tbody>\n",
       "</table>\n",
       "</div>"
      ],
      "text/plain": [
       "                LAND SQUARE FEET  GROSS SQUARE FEET    SALE PRICE\n",
       "BOROUGH                                                          \n",
       "Bronx                4656.466242        5933.011767  7.210653e+05\n",
       "Brooklyn             2331.743152        3100.116821  8.899375e+05\n",
       "Manhattan            5309.681250       34128.036458  1.929664e+07\n",
       "Queens               3949.249252        2913.573461  9.074128e+05\n",
       "Staten Islands       5744.675402        2298.129045  5.272380e+05"
      ]
     },
     "execution_count": 46,
     "metadata": {},
     "output_type": "execute_result"
    }
   ],
   "source": [
    "mean_ = nyc.groupby(['BOROUGH'])[['LAND SQUARE FEET', 'GROSS SQUARE FEET', 'SALE PRICE']].mean()\n",
    "mean_"
   ]
  },
  {
   "cell_type": "code",
   "execution_count": 47,
   "id": "7dd7bc71-7681-482b-9511-e607d6ec3ca6",
   "metadata": {
    "tags": []
   },
   "outputs": [
    {
     "data": {
      "text/html": [
       "<div>\n",
       "<style scoped>\n",
       "    .dataframe tbody tr th:only-of-type {\n",
       "        vertical-align: middle;\n",
       "    }\n",
       "\n",
       "    .dataframe tbody tr th {\n",
       "        vertical-align: top;\n",
       "    }\n",
       "\n",
       "    .dataframe thead th {\n",
       "        text-align: right;\n",
       "    }\n",
       "</style>\n",
       "<table border=\"1\" class=\"dataframe\">\n",
       "  <thead>\n",
       "    <tr style=\"text-align: right;\">\n",
       "      <th></th>\n",
       "      <th>SALE PRICE</th>\n",
       "    </tr>\n",
       "    <tr>\n",
       "      <th>BOROUGH</th>\n",
       "      <th></th>\n",
       "    </tr>\n",
       "  </thead>\n",
       "  <tbody>\n",
       "    <tr>\n",
       "      <th>Bronx</th>\n",
       "      <td>7.210653e+05</td>\n",
       "    </tr>\n",
       "    <tr>\n",
       "      <th>Brooklyn</th>\n",
       "      <td>8.899375e+05</td>\n",
       "    </tr>\n",
       "    <tr>\n",
       "      <th>Manhattan</th>\n",
       "      <td>1.929664e+07</td>\n",
       "    </tr>\n",
       "    <tr>\n",
       "      <th>Queens</th>\n",
       "      <td>9.074128e+05</td>\n",
       "    </tr>\n",
       "    <tr>\n",
       "      <th>Staten Islands</th>\n",
       "      <td>5.272380e+05</td>\n",
       "    </tr>\n",
       "  </tbody>\n",
       "</table>\n",
       "</div>"
      ],
      "text/plain": [
       "                  SALE PRICE\n",
       "BOROUGH                     \n",
       "Bronx           7.210653e+05\n",
       "Brooklyn        8.899375e+05\n",
       "Manhattan       1.929664e+07\n",
       "Queens          9.074128e+05\n",
       "Staten Islands  5.272380e+05"
      ]
     },
     "execution_count": 47,
     "metadata": {},
     "output_type": "execute_result"
    }
   ],
   "source": [
    "mean_saleprice = nyc.groupby(['BOROUGH'])[['SALE PRICE']].mean()\n",
    "mean_saleprice"
   ]
  },
  {
   "cell_type": "code",
   "execution_count": 48,
   "id": "ae8d635f-550f-4f1a-9603-592ad151609d",
   "metadata": {
    "tags": []
   },
   "outputs": [
    {
     "data": {
      "text/plain": [
       "<Axes: xlabel='BOROUGH'>"
      ]
     },
     "execution_count": 48,
     "metadata": {},
     "output_type": "execute_result"
    },
    {
     "data": {
      "image/png": "[encoded data removed]",
      "text/plain": [
       "<Figure size 640x480 with 1 Axes>"
      ]
     },
     "metadata": {},
     "output_type": "display_data"
    }
   ],
   "source": [
    "mean_saleprice.plot(kind='bar')"
   ]
  },
  {
   "cell_type": "markdown",
   "id": "25797683-2349-4fc6-aeaa-35989a991f0f",
   "metadata": {},
   "source": [
    "Dari tabel di atas dapat dilihat nilai rata-rata dalam luas tanah, luas bangunan, dan harga penjualan properti di masing-masing borough di New York City. Manhattan memiliki rata-rata harga penjualan yang jauh lebih tinggi dibandingkan dengan borough lainnya, sementara Staten Islands memiliki rata-rata harga penjualan yang lebih rendah. "
   ]
  },
  {
   "cell_type": "markdown",
   "id": "bd761a78-834f-4eda-a5cf-e35e57397c04",
   "metadata": {},
   "source": [
    "Melihat Median LAND SQUARE FEET, GROSS SQUARE FEET, SALE PRICE untuk masing-masing wilayah "
   ]
  },
  {
   "cell_type": "code",
   "execution_count": 49,
   "id": "e9f284c5-0c60-4e4e-9d9c-d56fcb4f187f",
   "metadata": {},
   "outputs": [
    {
     "data": {
      "text/html": [
       "<div>\n",
       "<style scoped>\n",
       "    .dataframe tbody tr th:only-of-type {\n",
       "        vertical-align: middle;\n",
       "    }\n",
       "\n",
       "    .dataframe tbody tr th {\n",
       "        vertical-align: top;\n",
       "    }\n",
       "\n",
       "    .dataframe thead th {\n",
       "        text-align: right;\n",
       "    }\n",
       "</style>\n",
       "<table border=\"1\" class=\"dataframe\">\n",
       "  <thead>\n",
       "    <tr style=\"text-align: right;\">\n",
       "      <th></th>\n",
       "      <th>LAND SQUARE FEET</th>\n",
       "      <th>GROSS SQUARE FEET</th>\n",
       "      <th>SALE PRICE</th>\n",
       "    </tr>\n",
       "    <tr>\n",
       "      <th>BOROUGH</th>\n",
       "      <th></th>\n",
       "      <th></th>\n",
       "      <th></th>\n",
       "    </tr>\n",
       "  </thead>\n",
       "  <tbody>\n",
       "    <tr>\n",
       "      <th>Bronx</th>\n",
       "      <td>2500.0</td>\n",
       "      <td>2164.0</td>\n",
       "      <td>371387.0</td>\n",
       "    </tr>\n",
       "    <tr>\n",
       "      <th>Brooklyn</th>\n",
       "      <td>2000.0</td>\n",
       "      <td>1996.0</td>\n",
       "      <td>480000.0</td>\n",
       "    </tr>\n",
       "    <tr>\n",
       "      <th>Manhattan</th>\n",
       "      <td>2469.0</td>\n",
       "      <td>7527.5</td>\n",
       "      <td>6500000.0</td>\n",
       "    </tr>\n",
       "    <tr>\n",
       "      <th>Queens</th>\n",
       "      <td>2772.0</td>\n",
       "      <td>1616.0</td>\n",
       "      <td>635000.0</td>\n",
       "    </tr>\n",
       "    <tr>\n",
       "      <th>Staten Islands</th>\n",
       "      <td>3400.0</td>\n",
       "      <td>1541.0</td>\n",
       "      <td>485000.0</td>\n",
       "    </tr>\n",
       "  </tbody>\n",
       "</table>\n",
       "</div>"
      ],
      "text/plain": [
       "                LAND SQUARE FEET  GROSS SQUARE FEET  SALE PRICE\n",
       "BOROUGH                                                        \n",
       "Bronx                     2500.0             2164.0    371387.0\n",
       "Brooklyn                  2000.0             1996.0    480000.0\n",
       "Manhattan                 2469.0             7527.5   6500000.0\n",
       "Queens                    2772.0             1616.0    635000.0\n",
       "Staten Islands            3400.0             1541.0    485000.0"
      ]
     },
     "execution_count": 49,
     "metadata": {},
     "output_type": "execute_result"
    }
   ],
   "source": [
    "median_ = nyc.groupby(['BOROUGH'])[['LAND SQUARE FEET', 'GROSS SQUARE FEET', 'SALE PRICE']].median()\n",
    "median_"
   ]
  },
  {
   "cell_type": "code",
   "execution_count": 50,
   "id": "d31f26ea-d046-4d74-819b-ecf592e94eb8",
   "metadata": {
    "tags": []
   },
   "outputs": [
    {
     "data": {
      "text/html": [
       "<div>\n",
       "<style scoped>\n",
       "    .dataframe tbody tr th:only-of-type {\n",
       "        vertical-align: middle;\n",
       "    }\n",
       "\n",
       "    .dataframe tbody tr th {\n",
       "        vertical-align: top;\n",
       "    }\n",
       "\n",
       "    .dataframe thead th {\n",
       "        text-align: right;\n",
       "    }\n",
       "</style>\n",
       "<table border=\"1\" class=\"dataframe\">\n",
       "  <thead>\n",
       "    <tr style=\"text-align: right;\">\n",
       "      <th></th>\n",
       "      <th>SALE PRICE</th>\n",
       "    </tr>\n",
       "    <tr>\n",
       "      <th>BOROUGH</th>\n",
       "      <th></th>\n",
       "    </tr>\n",
       "  </thead>\n",
       "  <tbody>\n",
       "    <tr>\n",
       "      <th>Bronx</th>\n",
       "      <td>371387.0</td>\n",
       "    </tr>\n",
       "    <tr>\n",
       "      <th>Brooklyn</th>\n",
       "      <td>480000.0</td>\n",
       "    </tr>\n",
       "    <tr>\n",
       "      <th>Manhattan</th>\n",
       "      <td>6500000.0</td>\n",
       "    </tr>\n",
       "    <tr>\n",
       "      <th>Queens</th>\n",
       "      <td>635000.0</td>\n",
       "    </tr>\n",
       "    <tr>\n",
       "      <th>Staten Islands</th>\n",
       "      <td>485000.0</td>\n",
       "    </tr>\n",
       "  </tbody>\n",
       "</table>\n",
       "</div>"
      ],
      "text/plain": [
       "                SALE PRICE\n",
       "BOROUGH                   \n",
       "Bronx             371387.0\n",
       "Brooklyn          480000.0\n",
       "Manhattan        6500000.0\n",
       "Queens            635000.0\n",
       "Staten Islands    485000.0"
      ]
     },
     "execution_count": 50,
     "metadata": {},
     "output_type": "execute_result"
    }
   ],
   "source": [
    "median_saleprice = nyc.groupby(['BOROUGH'])[['SALE PRICE']].median()\n",
    "median_saleprice"
   ]
  },
  {
   "cell_type": "code",
   "execution_count": 51,
   "id": "856b3f5e-fc57-4828-933b-d756bbbbc24b",
   "metadata": {
    "tags": []
   },
   "outputs": [
    {
     "data": {
      "text/plain": [
       "<Axes: xlabel='BOROUGH'>"
      ]
     },
     "execution_count": 51,
     "metadata": {},
     "output_type": "execute_result"
    },
    {
     "data": {
      "image/png": "[encoded data removed]",
      "text/plain": [
       "<Figure size 640x480 with 1 Axes>"
      ]
     },
     "metadata": {},
     "output_type": "display_data"
    }
   ],
   "source": [
    "median_saleprice.plot(kind='line')"
   ]
  },
  {
   "cell_type": "markdown",
   "id": "33a47e66-97bd-47e6-a512-152af9021c31",
   "metadata": {},
   "source": [
    "Dari tabel di atas dapat dilihat nilai tengah atau median dalam luas tanah, luas bangunan, dan harga penjualan properti di masing-masing borough di New York City. Manhattan memiliki median harga penjualan yang jauh lebih tinggi dibandingkan dengan borough lainnya, sementara Brooklyn dan Queens memiliki median harga penjualan yang lebih rendah."
   ]
  },
  {
   "cell_type": "markdown",
   "id": "362ef38e-6aab-40db-960e-b6adec27ec32",
   "metadata": {},
   "source": [
    "Melihat Range LAND SQUARE FEET, GROSS SQUARE FEET, SALE PRICE untuk masing-masing wilayah "
   ]
  },
  {
   "cell_type": "code",
   "execution_count": 52,
   "id": "e0699ae9-c032-45eb-8fc1-569e1ea8fee1",
   "metadata": {},
   "outputs": [
    {
     "data": {
      "text/html": [
       "<div>\n",
       "<style scoped>\n",
       "    .dataframe tbody tr th:only-of-type {\n",
       "        vertical-align: middle;\n",
       "    }\n",
       "\n",
       "    .dataframe tbody tr th {\n",
       "        vertical-align: top;\n",
       "    }\n",
       "\n",
       "    .dataframe thead th {\n",
       "        text-align: right;\n",
       "    }\n",
       "</style>\n",
       "<table border=\"1\" class=\"dataframe\">\n",
       "  <thead>\n",
       "    <tr style=\"text-align: right;\">\n",
       "      <th></th>\n",
       "      <th>LAND SQUARE FEET</th>\n",
       "      <th>GROSS SQUARE FEET</th>\n",
       "      <th>SALE PRICE</th>\n",
       "    </tr>\n",
       "    <tr>\n",
       "      <th>BOROUGH</th>\n",
       "      <th></th>\n",
       "      <th></th>\n",
       "      <th></th>\n",
       "    </tr>\n",
       "  </thead>\n",
       "  <tbody>\n",
       "    <tr>\n",
       "      <th>Bronx</th>\n",
       "      <td>679000.0</td>\n",
       "      <td>1303935.0</td>\n",
       "      <td>1.100000e+08</td>\n",
       "    </tr>\n",
       "    <tr>\n",
       "      <th>Brooklyn</th>\n",
       "      <td>970000.0</td>\n",
       "      <td>1330743.0</td>\n",
       "      <td>1.542500e+08</td>\n",
       "    </tr>\n",
       "    <tr>\n",
       "      <th>Manhattan</th>\n",
       "      <td>188641.0</td>\n",
       "      <td>1616884.0</td>\n",
       "      <td>2.210000e+09</td>\n",
       "    </tr>\n",
       "    <tr>\n",
       "      <th>Queens</th>\n",
       "      <td>4228100.0</td>\n",
       "      <td>3750365.0</td>\n",
       "      <td>2.575000e+08</td>\n",
       "    </tr>\n",
       "    <tr>\n",
       "      <th>Staten Islands</th>\n",
       "      <td>2128599.0</td>\n",
       "      <td>682960.0</td>\n",
       "      <td>1.190000e+07</td>\n",
       "    </tr>\n",
       "  </tbody>\n",
       "</table>\n",
       "</div>"
      ],
      "text/plain": [
       "                LAND SQUARE FEET  GROSS SQUARE FEET    SALE PRICE\n",
       "BOROUGH                                                          \n",
       "Bronx                   679000.0          1303935.0  1.100000e+08\n",
       "Brooklyn                970000.0          1330743.0  1.542500e+08\n",
       "Manhattan               188641.0          1616884.0  2.210000e+09\n",
       "Queens                 4228100.0          3750365.0  2.575000e+08\n",
       "Staten Islands         2128599.0           682960.0  1.190000e+07"
      ]
     },
     "execution_count": 52,
     "metadata": {},
     "output_type": "execute_result"
    }
   ],
   "source": [
    "range_ = nyc.groupby(['BOROUGH'])[['LAND SQUARE FEET', 'GROSS SQUARE FEET', 'SALE PRICE']].agg(np.ptp)\n",
    "range_"
   ]
  },
  {
   "cell_type": "markdown",
   "id": "03c57338-a11c-4fa9-bfee-2304240a838b",
   "metadata": {},
   "source": [
    "Dari tabel di atas dapat dilihat sebaran atau variasi dalam luas tanah, luas bangunan, dan harga penjualan properti di masing-masing borough di New York City. Manhattan memiliki rentang harga penjualan yang sangat besar, sementara Bronx, Brooklyn, dan Queens memiliki rentang yang lebih kecil dalam harga penjualan. Queens memiliki rentang luas tanah dan luas bangunan yang besar, sedangkan Staten Island memiliki rentang luas tanah yang besar. "
   ]
  },
  {
   "cell_type": "markdown",
   "id": "4e8a45ec-bc91-4877-85b2-d5cbf93613d1",
   "metadata": {},
   "source": [
    "Melihat Variance LAND SQUARE FEET, GROSS SQUARE FEET, SALE PRICE untuk masing-masing wilayah "
   ]
  },
  {
   "cell_type": "code",
   "execution_count": 53,
   "id": "6edf1500-f634-4678-bf75-a0321652eba3",
   "metadata": {
    "tags": []
   },
   "outputs": [
    {
     "data": {
      "text/html": [
       "<div>\n",
       "<style scoped>\n",
       "    .dataframe tbody tr th:only-of-type {\n",
       "        vertical-align: middle;\n",
       "    }\n",
       "\n",
       "    .dataframe tbody tr th {\n",
       "        vertical-align: top;\n",
       "    }\n",
       "\n",
       "    .dataframe thead th {\n",
       "        text-align: right;\n",
       "    }\n",
       "</style>\n",
       "<table border=\"1\" class=\"dataframe\">\n",
       "  <thead>\n",
       "    <tr style=\"text-align: right;\">\n",
       "      <th></th>\n",
       "      <th>LAND SQUARE FEET</th>\n",
       "      <th>GROSS SQUARE FEET</th>\n",
       "      <th>SALE PRICE</th>\n",
       "    </tr>\n",
       "    <tr>\n",
       "      <th>BOROUGH</th>\n",
       "      <th></th>\n",
       "      <th></th>\n",
       "      <th></th>\n",
       "    </tr>\n",
       "  </thead>\n",
       "  <tbody>\n",
       "    <tr>\n",
       "      <th>Bronx</th>\n",
       "      <td>4.112012e+08</td>\n",
       "      <td>1.118864e+09</td>\n",
       "      <td>1.014319e+13</td>\n",
       "    </tr>\n",
       "    <tr>\n",
       "      <th>Brooklyn</th>\n",
       "      <td>8.535557e+07</td>\n",
       "      <td>2.753211e+08</td>\n",
       "      <td>1.156756e+13</td>\n",
       "    </tr>\n",
       "    <tr>\n",
       "      <th>Manhattan</th>\n",
       "      <td>1.311041e+08</td>\n",
       "      <td>1.176257e+10</td>\n",
       "      <td>8.082665e+15</td>\n",
       "    </tr>\n",
       "    <tr>\n",
       "      <th>Queens</th>\n",
       "      <td>1.647597e+09</td>\n",
       "      <td>1.394512e+09</td>\n",
       "      <td>1.376715e+13</td>\n",
       "    </tr>\n",
       "    <tr>\n",
       "      <th>Staten Islands</th>\n",
       "      <td>2.568055e+09</td>\n",
       "      <td>2.278792e+08</td>\n",
       "      <td>2.180988e+11</td>\n",
       "    </tr>\n",
       "  </tbody>\n",
       "</table>\n",
       "</div>"
      ],
      "text/plain": [
       "                LAND SQUARE FEET  GROSS SQUARE FEET    SALE PRICE\n",
       "BOROUGH                                                          \n",
       "Bronx               4.112012e+08       1.118864e+09  1.014319e+13\n",
       "Brooklyn            8.535557e+07       2.753211e+08  1.156756e+13\n",
       "Manhattan           1.311041e+08       1.176257e+10  8.082665e+15\n",
       "Queens              1.647597e+09       1.394512e+09  1.376715e+13\n",
       "Staten Islands      2.568055e+09       2.278792e+08  2.180988e+11"
      ]
     },
     "execution_count": 53,
     "metadata": {},
     "output_type": "execute_result"
    }
   ],
   "source": [
    "varian_ = nyc.groupby(['BOROUGH'])[['LAND SQUARE FEET', 'GROSS SQUARE FEET', 'SALE PRICE']].var()\n",
    "varian_"
   ]
  },
  {
   "cell_type": "markdown",
   "id": "34fa45bb-b201-412d-9a13-e723cef3948b",
   "metadata": {
    "tags": []
   },
   "source": [
    "Dari hasil di atas dapat diketahui bahwa\n",
    "1. LAND SQUARE FEET (Luas Tanah dalam Kaki Persegi): Staten Island memiliki varians luas tanah tertinggi sebesar 2,568,054,679, sedangkan Brooklyn memiliki varians luas tanah terendah sebesar 85,355,569.\n",
    "2. GROSS SQUARE FEET (Luas Bangunan dalam Kaki Persegi): Manhattan memiliki varians luas bangunan tertinggi sebesar  1,394,511,921, sedangkan Staten Islands memiliki varians luas bangunan terendah sebesar 227,879,218.\n",
    "3. SALE PRICE (Harga Penjualan): Manhattan memiliki varians harga penjualan yang sangat tinggi yaitu 8,082,664,831,348,758, sedangkan Staten Island memiliki varians harga penjualan terendah dari semua borough sebesar 218,098,842,650."
   ]
  },
  {
   "cell_type": "markdown",
   "id": "0bd3722d-ffdd-4bc2-b8d7-fd3eb653b26b",
   "metadata": {},
   "source": [
    "Melihat Standard Deviation LAND SQUARE FEET, GROSS SQUARE FEET, SALE PRICE untuk masing-masing wilayah "
   ]
  },
  {
   "cell_type": "code",
   "execution_count": 54,
   "id": "eaffce9c-7ef3-44bf-8c98-d5b9a840cabf",
   "metadata": {
    "tags": []
   },
   "outputs": [
    {
     "data": {
      "text/html": [
       "<div>\n",
       "<style scoped>\n",
       "    .dataframe tbody tr th:only-of-type {\n",
       "        vertical-align: middle;\n",
       "    }\n",
       "\n",
       "    .dataframe tbody tr th {\n",
       "        vertical-align: top;\n",
       "    }\n",
       "\n",
       "    .dataframe thead th {\n",
       "        text-align: right;\n",
       "    }\n",
       "</style>\n",
       "<table border=\"1\" class=\"dataframe\">\n",
       "  <thead>\n",
       "    <tr style=\"text-align: right;\">\n",
       "      <th></th>\n",
       "      <th>LAND SQUARE FEET</th>\n",
       "      <th>GROSS SQUARE FEET</th>\n",
       "      <th>SALE PRICE</th>\n",
       "    </tr>\n",
       "    <tr>\n",
       "      <th>BOROUGH</th>\n",
       "      <th></th>\n",
       "      <th></th>\n",
       "      <th></th>\n",
       "    </tr>\n",
       "  </thead>\n",
       "  <tbody>\n",
       "    <tr>\n",
       "      <th>Bronx</th>\n",
       "      <td>20278.096246</td>\n",
       "      <td>33449.418388</td>\n",
       "      <td>3.184837e+06</td>\n",
       "    </tr>\n",
       "    <tr>\n",
       "      <th>Brooklyn</th>\n",
       "      <td>9238.807795</td>\n",
       "      <td>16592.802702</td>\n",
       "      <td>3.401111e+06</td>\n",
       "    </tr>\n",
       "    <tr>\n",
       "      <th>Manhattan</th>\n",
       "      <td>11450.068059</td>\n",
       "      <td>108455.392567</td>\n",
       "      <td>8.990364e+07</td>\n",
       "    </tr>\n",
       "    <tr>\n",
       "      <th>Queens</th>\n",
       "      <td>40590.603100</td>\n",
       "      <td>37343.164315</td>\n",
       "      <td>3.710411e+06</td>\n",
       "    </tr>\n",
       "    <tr>\n",
       "      <th>Staten Islands</th>\n",
       "      <td>50675.977339</td>\n",
       "      <td>15095.668833</td>\n",
       "      <td>4.670105e+05</td>\n",
       "    </tr>\n",
       "  </tbody>\n",
       "</table>\n",
       "</div>"
      ],
      "text/plain": [
       "                LAND SQUARE FEET  GROSS SQUARE FEET    SALE PRICE\n",
       "BOROUGH                                                          \n",
       "Bronx               20278.096246       33449.418388  3.184837e+06\n",
       "Brooklyn             9238.807795       16592.802702  3.401111e+06\n",
       "Manhattan           11450.068059      108455.392567  8.990364e+07\n",
       "Queens              40590.603100       37343.164315  3.710411e+06\n",
       "Staten Islands      50675.977339       15095.668833  4.670105e+05"
      ]
     },
     "execution_count": 54,
     "metadata": {},
     "output_type": "execute_result"
    }
   ],
   "source": [
    "Standard_Deviation = nyc.groupby(['BOROUGH'])[['LAND SQUARE FEET', 'GROSS SQUARE FEET', 'SALE PRICE']].std()\n",
    "Standard_Deviation"
   ]
  },
  {
   "cell_type": "markdown",
   "id": "cc8a0177-acc5-4935-8107-5a8291e8ec6d",
   "metadata": {},
   "source": [
    "Dari tabel di atas, dapat dilihat sebaran atau keragaman data dalam luas tanah, luas bangunan, dan harga penjualan properti di masing-masing borough di New York City. Manhattan memiliki deviasi standar yang tinggi dalam luas bangunan dan harga penjualan, sementara Bronx, Brooklyn, dan Queens memiliki deviasi standar yang lebih rendah dalam harga penjualan. Staten Island memiliki deviasi standar yang rendah dalam luas bangunan dan harga penjualan."
   ]
  },
  {
   "cell_type": "markdown",
   "id": "7a444a7c-d8ba-4bdc-9435-ffb855274228",
   "metadata": {},
   "source": [
    "## Probability Distribution"
   ]
  },
  {
   "cell_type": "code",
   "execution_count": 55,
   "id": "77c4e75d-92e2-4f1d-9c39-ac6a87668485",
   "metadata": {
    "tags": []
   },
   "outputs": [],
   "source": [
    "import pandas as pd\n",
    "import seaborn as sns\n",
    "import scipy.stats as stats\n",
    "import numpy as np\n",
    "import random\n",
    "import warnings\n",
    "import matplotlib.pyplot as plt\n",
    "%matplotlib inline\n",
    "\n",
    "sns.set(rc={'figure.figsize':(13, 7.5)})\n",
    "sns.set_context('talk')"
   ]
  },
  {
   "cell_type": "markdown",
   "id": "4058267a-59e9-47c6-b9e4-79bc67bc368b",
   "metadata": {},
   "source": [
    "### LAND SQUARE FEET"
   ]
  },
  {
   "cell_type": "code",
   "execution_count": 56,
   "id": "bdc6d479-e3b5-43d4-a00a-65f7c0acff6c",
   "metadata": {
    "tags": []
   },
   "outputs": [],
   "source": [
    "a = nyc[(nyc['LAND SQUARE FEET'] > 200000) & (nyc['LAND SQUARE FEET'] < 5000000)]"
   ]
  },
  {
   "cell_type": "code",
   "execution_count": 57,
   "id": "0f35115e-0bb5-417c-a1b6-8ae3aedde65d",
   "metadata": {
    "tags": []
   },
   "outputs": [],
   "source": [
    "for col in floats:\n",
    "    a[col] = a[col].astype('float64')"
   ]
  },
  {
   "cell_type": "code",
   "execution_count": 58,
   "id": "de865a60-0d2e-41b4-8adf-fccf84b7b20d",
   "metadata": {
    "tags": []
   },
   "outputs": [
    {
     "data": {
      "image/png": "[encoded data removed]",
      "text/plain": [
       "<Figure size 1300x750 with 1 Axes>"
      ]
     },
     "metadata": {},
     "output_type": "display_data"
    }
   ],
   "source": [
    "sns.distplot(a['LAND SQUARE FEET']);"
   ]
  },
  {
   "cell_type": "code",
   "execution_count": 59,
   "id": "22688001-1803-4701-9a8d-915f40440174",
   "metadata": {
    "tags": []
   },
   "outputs": [
    {
     "name": "stdout",
     "output_type": "stream",
     "text": [
      "stat=0.607, p=0.000\n",
      "Non-Normal Distribution\n"
     ]
    }
   ],
   "source": [
    "from scipy.stats import shapiro\n",
    "data = a['LAND SQUARE FEET']\n",
    "\n",
    "stat, p = shapiro(data)\n",
    "print('stat=%.3f, p=%.3f' % (stat, p))\n",
    "\n",
    "if p > 0.05:\n",
    "    print('Normal Distribution')\n",
    "    \n",
    "else:\n",
    "    print('Non-Normal Distribution')"
   ]
  },
  {
   "cell_type": "markdown",
   "id": "72746593-19cc-4e13-98d6-c775365d77bd",
   "metadata": {},
   "source": [
    "Dari plot dan Uji Shapiro-Wilk Normality Test diketahui bahwa LAND SQUARE FEET berdistribusi tidak normal."
   ]
  },
  {
   "cell_type": "markdown",
   "id": "ef69a99a-e2aa-4fb0-ae54-dd2a08d61acf",
   "metadata": {},
   "source": [
    "### SALE PRICE"
   ]
  },
  {
   "cell_type": "code",
   "execution_count": 60,
   "id": "dcc0c64d-4f69-4c39-b9e2-ed3682a799ad",
   "metadata": {
    "tags": []
   },
   "outputs": [],
   "source": [
    "b = nyc[(nyc['SALE PRICE'] > 200000) & (nyc['SALE PRICE'] < 5000000)]"
   ]
  },
  {
   "cell_type": "code",
   "execution_count": 61,
   "id": "eb8cc6b2-49ea-43d9-869c-7cc07969dbaf",
   "metadata": {
    "tags": []
   },
   "outputs": [
    {
     "data": {
      "image/png": "[encoded data removed]",
      "text/plain": [
       "<Figure size 1300x750 with 1 Axes>"
      ]
     },
     "metadata": {},
     "output_type": "display_data"
    }
   ],
   "source": [
    "sns.distplot(b['SALE PRICE']);"
   ]
  },
  {
   "cell_type": "code",
   "execution_count": 62,
   "id": "ff57309b-55ee-4c11-9f23-4cc58c3d2d6b",
   "metadata": {
    "tags": []
   },
   "outputs": [
    {
     "name": "stdout",
     "output_type": "stream",
     "text": [
      "stat=0.719, p=0.000\n",
      "Non-Normal Distribution\n"
     ]
    }
   ],
   "source": [
    "# Shapiro-Wilk Normality Test for LAND SQUARE FEET\n",
    "from scipy.stats import shapiro\n",
    "data = b['SALE PRICE']\n",
    "\n",
    "stat, p = shapiro(data)\n",
    "print('stat=%.3f, p=%.3f' % (stat, p))\n",
    "\n",
    "if p > 0.05:\n",
    "    print('Normal Distribution')\n",
    "    \n",
    "else:\n",
    "    print('Non-Normal Distribution')"
   ]
  },
  {
   "cell_type": "markdown",
   "id": "ea8353b8-1fe3-40e1-bd96-7d26c3323ce3",
   "metadata": {},
   "source": [
    "Dari plot di atas dapat dilihat bahwa kemencengan data ke arah kanan (condong positif) yang berarti nilai mean lebih dari median sehingga data tersebut tidak berdistribusi normal."
   ]
  },
  {
   "cell_type": "markdown",
   "id": "a1d795a6-a9df-4683-a01a-6affe34b8d19",
   "metadata": {},
   "source": [
    "### GROSS SQUARE FEET\t"
   ]
  },
  {
   "cell_type": "code",
   "execution_count": 63,
   "id": "c7cb00f3-8e64-46ff-8cdf-86674b5be8c7",
   "metadata": {
    "tags": []
   },
   "outputs": [],
   "source": [
    "c = nyc[(nyc['GROSS SQUARE FEET'] > 200000) & (nyc['GROSS SQUARE FEET'] < 5000000)]"
   ]
  },
  {
   "cell_type": "code",
   "execution_count": 64,
   "id": "ce47eb70-bcff-4983-91fd-5c9f7cff2b02",
   "metadata": {
    "tags": []
   },
   "outputs": [
    {
     "data": {
      "image/png": "[encoded data removed]",
      "text/plain": [
       "<Figure size 1300x750 with 1 Axes>"
      ]
     },
     "metadata": {},
     "output_type": "display_data"
    }
   ],
   "source": [
    "sns.distplot(c['GROSS SQUARE FEET']);"
   ]
  },
  {
   "cell_type": "code",
   "execution_count": 65,
   "id": "326ec952-475d-4152-8b15-538bbfcacc60",
   "metadata": {
    "tags": []
   },
   "outputs": [
    {
     "name": "stdout",
     "output_type": "stream",
     "text": [
      "stat=0.551, p=0.000\n",
      "Non-Normal Distribution\n"
     ]
    }
   ],
   "source": [
    "# Shapiro-Wilk Normality Test for LAND SQUARE FEET\n",
    "from scipy.stats import shapiro\n",
    "data = c['GROSS SQUARE FEET']\n",
    "\n",
    "stat, p = shapiro(data)\n",
    "print('stat=%.3f, p=%.3f' % (stat, p))\n",
    "\n",
    "if p > 0.05:\n",
    "    print('Normal Distribution')\n",
    "    \n",
    "else:\n",
    "    print('Non-Normal Distribution')"
   ]
  },
  {
   "cell_type": "markdown",
   "id": "61f79458-75d9-4951-854f-7bec8166fd73",
   "metadata": {},
   "source": [
    "## Confidance Interval"
   ]
  },
  {
   "cell_type": "markdown",
   "id": "6355592c-bc07-4d0f-b96b-16cfd0f5119c",
   "metadata": {},
   "source": [
    "Menampilkan mean, standard deviation, dan population size dari SALE PRICE"
   ]
  },
  {
   "cell_type": "code",
   "execution_count": 66,
   "id": "50ee57aa-8f48-4da9-a585-979645b1812b",
   "metadata": {
    "tags": []
   },
   "outputs": [
    {
     "data": {
      "text/html": [
       "<div>\n",
       "<style scoped>\n",
       "    .dataframe tbody tr th:only-of-type {\n",
       "        vertical-align: middle;\n",
       "    }\n",
       "\n",
       "    .dataframe tbody tr th {\n",
       "        vertical-align: top;\n",
       "    }\n",
       "\n",
       "    .dataframe thead tr th {\n",
       "        text-align: left;\n",
       "    }\n",
       "\n",
       "    .dataframe thead tr:last-of-type th {\n",
       "        text-align: right;\n",
       "    }\n",
       "</style>\n",
       "<table border=\"1\" class=\"dataframe\">\n",
       "  <thead>\n",
       "    <tr>\n",
       "      <th></th>\n",
       "      <th colspan=\"3\" halign=\"left\">SALE PRICE</th>\n",
       "    </tr>\n",
       "    <tr>\n",
       "      <th></th>\n",
       "      <th>mean</th>\n",
       "      <th>std</th>\n",
       "      <th>size</th>\n",
       "    </tr>\n",
       "    <tr>\n",
       "      <th>BOROUGH</th>\n",
       "      <th></th>\n",
       "      <th></th>\n",
       "      <th></th>\n",
       "    </tr>\n",
       "  </thead>\n",
       "  <tbody>\n",
       "    <tr>\n",
       "      <th>Bronx</th>\n",
       "      <td>7.210653e+05</td>\n",
       "      <td>3.184837e+06</td>\n",
       "      <td>5184</td>\n",
       "    </tr>\n",
       "    <tr>\n",
       "      <th>Brooklyn</th>\n",
       "      <td>8.899375e+05</td>\n",
       "      <td>3.401111e+06</td>\n",
       "      <td>18875</td>\n",
       "    </tr>\n",
       "    <tr>\n",
       "      <th>Manhattan</th>\n",
       "      <td>1.929664e+07</td>\n",
       "      <td>8.990364e+07</td>\n",
       "      <td>960</td>\n",
       "    </tr>\n",
       "    <tr>\n",
       "      <th>Queens</th>\n",
       "      <td>9.074128e+05</td>\n",
       "      <td>3.710411e+06</td>\n",
       "      <td>11033</td>\n",
       "    </tr>\n",
       "    <tr>\n",
       "      <th>Staten Islands</th>\n",
       "      <td>5.272380e+05</td>\n",
       "      <td>4.670105e+05</td>\n",
       "      <td>5037</td>\n",
       "    </tr>\n",
       "  </tbody>\n",
       "</table>\n",
       "</div>"
      ],
      "text/plain": [
       "                  SALE PRICE                     \n",
       "                        mean           std   size\n",
       "BOROUGH                                          \n",
       "Bronx           7.210653e+05  3.184837e+06   5184\n",
       "Brooklyn        8.899375e+05  3.401111e+06  18875\n",
       "Manhattan       1.929664e+07  8.990364e+07    960\n",
       "Queens          9.074128e+05  3.710411e+06  11033\n",
       "Staten Islands  5.272380e+05  4.670105e+05   5037"
      ]
     },
     "execution_count": 66,
     "metadata": {},
     "output_type": "execute_result"
    }
   ],
   "source": [
    "ci=nyc.groupby(\"BOROUGH\").agg({\"SALE PRICE\": [np.mean, np.std, np.size]})\n",
    "ci"
   ]
  },
  {
   "cell_type": "markdown",
   "id": "1c041712-36d8-4864-81ad-7d9a91136df5",
   "metadata": {},
   "source": [
    "Mengekstrak parameter yang diperlukan"
   ]
  },
  {
   "cell_type": "code",
   "execution_count": 67,
   "id": "70d6cca8-0226-4549-929f-06a34e84cf30",
   "metadata": {
    "tags": []
   },
   "outputs": [],
   "source": [
    "mean_sp = ci.iloc[0,0]\n",
    "sd = ci.iloc [0,1]\n",
    "n = ci.iloc [0,2]         \n",
    "z = 1.96    "
   ]
  },
  {
   "cell_type": "markdown",
   "id": "673857d4-6941-41c1-8c4b-9ec6d19e223d",
   "metadata": {},
   "source": [
    "Menghitung standard error menggunakan formula untuk standard error dari mean"
   ]
  },
  {
   "cell_type": "code",
   "execution_count": 68,
   "id": "ba7ba6e6-426a-441d-a112-e15fea1dea41",
   "metadata": {
    "tags": []
   },
   "outputs": [],
   "source": [
    "se = sd / np.sqrt(n)"
   ]
  },
  {
   "cell_type": "markdown",
   "id": "fa953460-98db-495c-b5ef-248120269f6d",
   "metadata": {},
   "source": [
    "Membangun CI"
   ]
  },
  {
   "cell_type": "code",
   "execution_count": 69,
   "id": "d7e4d652-d105-4117-9060-8a5851a6fde4",
   "metadata": {
    "tags": []
   },
   "outputs": [
    {
     "data": {
      "text/plain": [
       "(634366.9474792236, 807763.6481997888)"
      ]
     },
     "execution_count": 69,
     "metadata": {},
     "output_type": "execute_result"
    }
   ],
   "source": [
    "lcb = mean_sp - z * se\n",
    "ucb = mean_sp + z * se\n",
    "lcb, ucb"
   ]
  },
  {
   "cell_type": "markdown",
   "id": "d1856d20-7cf6-4736-8514-111edc8bf01b",
   "metadata": {},
   "source": [
    "Artinya rata-rata sebenarnya dari SALE PRICE di Manhattan akan jatuh antara 634366.94747922367 dan 807763.6481997888"
   ]
  },
  {
   "cell_type": "markdown",
   "id": "3f563987-22e7-4bdb-9cdb-1cd98892c96d",
   "metadata": {},
   "source": [
    "## Hypothesis Testing"
   ]
  },
  {
   "cell_type": "markdown",
   "id": "a904edda-cff2-4884-bbe6-31f9421d8953",
   "metadata": {},
   "source": [
    "### Normality Test"
   ]
  },
  {
   "cell_type": "markdown",
   "id": "d9372b60-a34b-42bf-93a1-2fa493fd5c56",
   "metadata": {},
   "source": [
    "**Hipotesis**\n",
    "* H0: Data berdistribusi normal\n",
    "* H1: Data tidak berdistribusi normal"
   ]
  },
  {
   "cell_type": "markdown",
   "id": "191c1135-adc9-4265-833a-b8e62abce07d",
   "metadata": {},
   "source": [
    "#### D'Agostino's K^2 Test"
   ]
  },
  {
   "cell_type": "code",
   "execution_count": 70,
   "id": "62d0a194-0556-4877-afff-7876fe143107",
   "metadata": {
    "tags": []
   },
   "outputs": [
    {
     "name": "stdout",
     "output_type": "stream",
     "text": [
      "stat=138333.998, p=0.000\n",
      "Non-Normal Distribution\n"
     ]
    }
   ],
   "source": [
    "from scipy.stats import normaltest\n",
    "data = nyc['GROSS SQUARE FEET']\n",
    "\n",
    "stat, p = normaltest(data)\n",
    "print('stat=%.3f, p=%.3f' % (stat, p))\n",
    "\n",
    "if p > 0.05:\n",
    "    print('Normal Distribution')    \n",
    "else:\n",
    "    print('Non-Normal Distribution')"
   ]
  },
  {
   "cell_type": "code",
   "execution_count": 71,
   "id": "ced0a2c1-f1be-47a1-bc58-ae645014e9dc",
   "metadata": {
    "tags": []
   },
   "outputs": [
    {
     "name": "stdout",
     "output_type": "stream",
     "text": [
      "stat=165623.698, p=0.000\n",
      "Non-Normal Distribution\n"
     ]
    }
   ],
   "source": [
    "from scipy.stats import normaltest\n",
    "data = nyc['SALE PRICE']\n",
    "\n",
    "stat, p = normaltest(data)\n",
    "print('stat=%.3f, p=%.3f' % (stat, p))\n",
    "\n",
    "if p > 0.05:\n",
    "    print('Normal Distribution')    \n",
    "else:\n",
    "    print('Non-Normal Distribution')"
   ]
  },
  {
   "cell_type": "code",
   "execution_count": 72,
   "id": "38baa72d-a33d-44b8-8727-71dadf45212b",
   "metadata": {
    "tags": []
   },
   "outputs": [
    {
     "name": "stdout",
     "output_type": "stream",
     "text": [
      "stat=162459.177, p=0.000\n",
      "Non-Normal Distribution\n"
     ]
    }
   ],
   "source": [
    "from scipy.stats import normaltest\n",
    "data = nyc['LAND SQUARE FEET']\n",
    "\n",
    "stat, p = normaltest(data)\n",
    "print('stat=%.3f, p=%.3f' % (stat, p))\n",
    "\n",
    "if p > 0.05:\n",
    "    print('Normal Distribution')    \n",
    "else:\n",
    "    print('Non-Normal Distribution')"
   ]
  },
  {
   "cell_type": "markdown",
   "id": "940d4d7b-27da-4c9c-bdcd-43f0fc02825f",
   "metadata": {},
   "source": [
    "## Corelation Tests"
   ]
  },
  {
   "cell_type": "code",
   "execution_count": 73,
   "id": "b80d1f96-2350-434b-8d69-57a5e6f97c27",
   "metadata": {
    "tags": []
   },
   "outputs": [
    {
     "data": {
      "text/html": [
       "<div>\n",
       "<style scoped>\n",
       "    .dataframe tbody tr th:only-of-type {\n",
       "        vertical-align: middle;\n",
       "    }\n",
       "\n",
       "    .dataframe tbody tr th {\n",
       "        vertical-align: top;\n",
       "    }\n",
       "\n",
       "    .dataframe thead th {\n",
       "        text-align: right;\n",
       "    }\n",
       "</style>\n",
       "<table border=\"1\" class=\"dataframe\">\n",
       "  <thead>\n",
       "    <tr style=\"text-align: right;\">\n",
       "      <th></th>\n",
       "      <th>BOROUGH</th>\n",
       "      <th>NEIGHBORHOOD</th>\n",
       "      <th>BUILDING CLASS CATEGORY</th>\n",
       "      <th>TAX CLASS AT PRESENT</th>\n",
       "      <th>BLOCK</th>\n",
       "      <th>LOT</th>\n",
       "      <th>BUILDING CLASS AT PRESENT</th>\n",
       "      <th>RESIDENTIAL UNITS</th>\n",
       "      <th>COMMERCIAL UNITS</th>\n",
       "      <th>TOTAL UNITS</th>\n",
       "      <th>LAND SQUARE FEET</th>\n",
       "      <th>GROSS SQUARE FEET</th>\n",
       "      <th>YEAR BUILT</th>\n",
       "      <th>TAX CLASS AT TIME OF SALE</th>\n",
       "      <th>BUILDING CLASS AT TIME OF SALE</th>\n",
       "      <th>SALE PRICE</th>\n",
       "      <th>SALE DATE</th>\n",
       "    </tr>\n",
       "  </thead>\n",
       "  <tbody>\n",
       "    <tr>\n",
       "      <th>0</th>\n",
       "      <td>Manhattan</td>\n",
       "      <td>ALPHABET CITY</td>\n",
       "      <td>07 RENTALS - WALKUP APARTMENTS</td>\n",
       "      <td>2A</td>\n",
       "      <td>392</td>\n",
       "      <td>6</td>\n",
       "      <td>C2</td>\n",
       "      <td>5</td>\n",
       "      <td>0</td>\n",
       "      <td>5</td>\n",
       "      <td>1633.0</td>\n",
       "      <td>6440.0</td>\n",
       "      <td>1900</td>\n",
       "      <td>2</td>\n",
       "      <td>C2</td>\n",
       "      <td>6625000.0</td>\n",
       "      <td>2017-07-19</td>\n",
       "    </tr>\n",
       "    <tr>\n",
       "      <th>3</th>\n",
       "      <td>Manhattan</td>\n",
       "      <td>ALPHABET CITY</td>\n",
       "      <td>07 RENTALS - WALKUP APARTMENTS</td>\n",
       "      <td>2B</td>\n",
       "      <td>402</td>\n",
       "      <td>21</td>\n",
       "      <td>C4</td>\n",
       "      <td>10</td>\n",
       "      <td>0</td>\n",
       "      <td>10</td>\n",
       "      <td>2272.0</td>\n",
       "      <td>6794.0</td>\n",
       "      <td>1913</td>\n",
       "      <td>2</td>\n",
       "      <td>C4</td>\n",
       "      <td>3936272.0</td>\n",
       "      <td>2016-09-23</td>\n",
       "    </tr>\n",
       "    <tr>\n",
       "      <th>4</th>\n",
       "      <td>Manhattan</td>\n",
       "      <td>ALPHABET CITY</td>\n",
       "      <td>07 RENTALS - WALKUP APARTMENTS</td>\n",
       "      <td>2A</td>\n",
       "      <td>404</td>\n",
       "      <td>55</td>\n",
       "      <td>C2</td>\n",
       "      <td>6</td>\n",
       "      <td>0</td>\n",
       "      <td>6</td>\n",
       "      <td>2369.0</td>\n",
       "      <td>4615.0</td>\n",
       "      <td>1900</td>\n",
       "      <td>2</td>\n",
       "      <td>C2</td>\n",
       "      <td>8000000.0</td>\n",
       "      <td>2016-11-17</td>\n",
       "    </tr>\n",
       "    <tr>\n",
       "      <th>6</th>\n",
       "      <td>Manhattan</td>\n",
       "      <td>ALPHABET CITY</td>\n",
       "      <td>07 RENTALS - WALKUP APARTMENTS</td>\n",
       "      <td>2B</td>\n",
       "      <td>406</td>\n",
       "      <td>32</td>\n",
       "      <td>C4</td>\n",
       "      <td>8</td>\n",
       "      <td>0</td>\n",
       "      <td>8</td>\n",
       "      <td>1750.0</td>\n",
       "      <td>4226.0</td>\n",
       "      <td>1920</td>\n",
       "      <td>2</td>\n",
       "      <td>C4</td>\n",
       "      <td>3192840.0</td>\n",
       "      <td>2016-09-23</td>\n",
       "    </tr>\n",
       "    <tr>\n",
       "      <th>9</th>\n",
       "      <td>Manhattan</td>\n",
       "      <td>ALPHABET CITY</td>\n",
       "      <td>08 RENTALS - ELEVATOR APARTMENTS</td>\n",
       "      <td>2</td>\n",
       "      <td>387</td>\n",
       "      <td>153</td>\n",
       "      <td>D9</td>\n",
       "      <td>24</td>\n",
       "      <td>0</td>\n",
       "      <td>24</td>\n",
       "      <td>4489.0</td>\n",
       "      <td>18523.0</td>\n",
       "      <td>1920</td>\n",
       "      <td>2</td>\n",
       "      <td>D9</td>\n",
       "      <td>16232000.0</td>\n",
       "      <td>2016-11-07</td>\n",
       "    </tr>\n",
       "  </tbody>\n",
       "</table>\n",
       "</div>"
      ],
      "text/plain": [
       "     BOROUGH   NEIGHBORHOOD                      BUILDING CLASS CATEGORY  \\\n",
       "0  Manhattan  ALPHABET CITY  07 RENTALS - WALKUP APARTMENTS                \n",
       "3  Manhattan  ALPHABET CITY  07 RENTALS - WALKUP APARTMENTS                \n",
       "4  Manhattan  ALPHABET CITY  07 RENTALS - WALKUP APARTMENTS                \n",
       "6  Manhattan  ALPHABET CITY  07 RENTALS - WALKUP APARTMENTS                \n",
       "9  Manhattan  ALPHABET CITY  08 RENTALS - ELEVATOR APARTMENTS              \n",
       "\n",
       "  TAX CLASS AT PRESENT  BLOCK  LOT BUILDING CLASS AT PRESENT  \\\n",
       "0                   2A    392    6                        C2   \n",
       "3                   2B    402   21                        C4   \n",
       "4                   2A    404   55                        C2   \n",
       "6                   2B    406   32                        C4   \n",
       "9                    2    387  153                        D9   \n",
       "\n",
       "   RESIDENTIAL UNITS  COMMERCIAL UNITS  TOTAL UNITS  LAND SQUARE FEET  \\\n",
       "0                  5                 0            5            1633.0   \n",
       "3                 10                 0           10            2272.0   \n",
       "4                  6                 0            6            2369.0   \n",
       "6                  8                 0            8            1750.0   \n",
       "9                 24                 0           24            4489.0   \n",
       "\n",
       "   GROSS SQUARE FEET YEAR BUILT TAX CLASS AT TIME OF SALE  \\\n",
       "0             6440.0       1900                         2   \n",
       "3             6794.0       1913                         2   \n",
       "4             4615.0       1900                         2   \n",
       "6             4226.0       1920                         2   \n",
       "9            18523.0       1920                         2   \n",
       "\n",
       "  BUILDING CLASS AT TIME OF SALE  SALE PRICE  SALE DATE  \n",
       "0                             C2   6625000.0 2017-07-19  \n",
       "3                             C4   3936272.0 2016-09-23  \n",
       "4                             C2   8000000.0 2016-11-17  \n",
       "6                             C4   3192840.0 2016-09-23  \n",
       "9                             D9  16232000.0 2016-11-07  "
      ]
     },
     "execution_count": 73,
     "metadata": {},
     "output_type": "execute_result"
    }
   ],
   "source": [
    "nyc.head()"
   ]
  },
  {
   "cell_type": "code",
   "execution_count": 74,
   "id": "bda893e0-fdc1-4b30-a801-4da7232ba86b",
   "metadata": {
    "tags": []
   },
   "outputs": [
    {
     "data": {
      "text/html": [
       "<div>\n",
       "<style scoped>\n",
       "    .dataframe tbody tr th:only-of-type {\n",
       "        vertical-align: middle;\n",
       "    }\n",
       "\n",
       "    .dataframe tbody tr th {\n",
       "        vertical-align: top;\n",
       "    }\n",
       "\n",
       "    .dataframe thead th {\n",
       "        text-align: right;\n",
       "    }\n",
       "</style>\n",
       "<table border=\"1\" class=\"dataframe\">\n",
       "  <thead>\n",
       "    <tr style=\"text-align: right;\">\n",
       "      <th></th>\n",
       "      <th>BOROUGH</th>\n",
       "      <th>NEIGHBORHOOD</th>\n",
       "      <th>BUILDING CLASS CATEGORY</th>\n",
       "      <th>TAX CLASS AT PRESENT</th>\n",
       "      <th>BLOCK</th>\n",
       "      <th>LOT</th>\n",
       "      <th>BUILDING CLASS AT PRESENT</th>\n",
       "      <th>RESIDENTIAL UNITS</th>\n",
       "      <th>COMMERCIAL UNITS</th>\n",
       "      <th>TOTAL UNITS</th>\n",
       "      <th>LAND SQUARE FEET</th>\n",
       "      <th>GROSS SQUARE FEET</th>\n",
       "      <th>YEAR BUILT</th>\n",
       "      <th>TAX CLASS AT TIME OF SALE</th>\n",
       "      <th>BUILDING CLASS AT TIME OF SALE</th>\n",
       "      <th>SALE PRICE</th>\n",
       "      <th>SALE DATE</th>\n",
       "    </tr>\n",
       "  </thead>\n",
       "  <tbody>\n",
       "    <tr>\n",
       "      <th>0</th>\n",
       "      <td>1</td>\n",
       "      <td>ALPHABET CITY</td>\n",
       "      <td>07 RENTALS - WALKUP APARTMENTS</td>\n",
       "      <td>2A</td>\n",
       "      <td>392</td>\n",
       "      <td>6</td>\n",
       "      <td>C2</td>\n",
       "      <td>5</td>\n",
       "      <td>0</td>\n",
       "      <td>5</td>\n",
       "      <td>1633.0</td>\n",
       "      <td>6440.0</td>\n",
       "      <td>1900</td>\n",
       "      <td>2</td>\n",
       "      <td>C2</td>\n",
       "      <td>6625000.0</td>\n",
       "      <td>2017-07-19</td>\n",
       "    </tr>\n",
       "    <tr>\n",
       "      <th>3</th>\n",
       "      <td>1</td>\n",
       "      <td>ALPHABET CITY</td>\n",
       "      <td>07 RENTALS - WALKUP APARTMENTS</td>\n",
       "      <td>2B</td>\n",
       "      <td>402</td>\n",
       "      <td>21</td>\n",
       "      <td>C4</td>\n",
       "      <td>10</td>\n",
       "      <td>0</td>\n",
       "      <td>10</td>\n",
       "      <td>2272.0</td>\n",
       "      <td>6794.0</td>\n",
       "      <td>1913</td>\n",
       "      <td>2</td>\n",
       "      <td>C4</td>\n",
       "      <td>3936272.0</td>\n",
       "      <td>2016-09-23</td>\n",
       "    </tr>\n",
       "    <tr>\n",
       "      <th>4</th>\n",
       "      <td>1</td>\n",
       "      <td>ALPHABET CITY</td>\n",
       "      <td>07 RENTALS - WALKUP APARTMENTS</td>\n",
       "      <td>2A</td>\n",
       "      <td>404</td>\n",
       "      <td>55</td>\n",
       "      <td>C2</td>\n",
       "      <td>6</td>\n",
       "      <td>0</td>\n",
       "      <td>6</td>\n",
       "      <td>2369.0</td>\n",
       "      <td>4615.0</td>\n",
       "      <td>1900</td>\n",
       "      <td>2</td>\n",
       "      <td>C2</td>\n",
       "      <td>8000000.0</td>\n",
       "      <td>2016-11-17</td>\n",
       "    </tr>\n",
       "    <tr>\n",
       "      <th>6</th>\n",
       "      <td>1</td>\n",
       "      <td>ALPHABET CITY</td>\n",
       "      <td>07 RENTALS - WALKUP APARTMENTS</td>\n",
       "      <td>2B</td>\n",
       "      <td>406</td>\n",
       "      <td>32</td>\n",
       "      <td>C4</td>\n",
       "      <td>8</td>\n",
       "      <td>0</td>\n",
       "      <td>8</td>\n",
       "      <td>1750.0</td>\n",
       "      <td>4226.0</td>\n",
       "      <td>1920</td>\n",
       "      <td>2</td>\n",
       "      <td>C4</td>\n",
       "      <td>3192840.0</td>\n",
       "      <td>2016-09-23</td>\n",
       "    </tr>\n",
       "    <tr>\n",
       "      <th>9</th>\n",
       "      <td>1</td>\n",
       "      <td>ALPHABET CITY</td>\n",
       "      <td>08 RENTALS - ELEVATOR APARTMENTS</td>\n",
       "      <td>2</td>\n",
       "      <td>387</td>\n",
       "      <td>153</td>\n",
       "      <td>D9</td>\n",
       "      <td>24</td>\n",
       "      <td>0</td>\n",
       "      <td>24</td>\n",
       "      <td>4489.0</td>\n",
       "      <td>18523.0</td>\n",
       "      <td>1920</td>\n",
       "      <td>2</td>\n",
       "      <td>D9</td>\n",
       "      <td>16232000.0</td>\n",
       "      <td>2016-11-07</td>\n",
       "    </tr>\n",
       "  </tbody>\n",
       "</table>\n",
       "</div>"
      ],
      "text/plain": [
       "   BOROUGH   NEIGHBORHOOD                      BUILDING CLASS CATEGORY  \\\n",
       "0        1  ALPHABET CITY  07 RENTALS - WALKUP APARTMENTS                \n",
       "3        1  ALPHABET CITY  07 RENTALS - WALKUP APARTMENTS                \n",
       "4        1  ALPHABET CITY  07 RENTALS - WALKUP APARTMENTS                \n",
       "6        1  ALPHABET CITY  07 RENTALS - WALKUP APARTMENTS                \n",
       "9        1  ALPHABET CITY  08 RENTALS - ELEVATOR APARTMENTS              \n",
       "\n",
       "  TAX CLASS AT PRESENT  BLOCK  LOT BUILDING CLASS AT PRESENT  \\\n",
       "0                   2A    392    6                        C2   \n",
       "3                   2B    402   21                        C4   \n",
       "4                   2A    404   55                        C2   \n",
       "6                   2B    406   32                        C4   \n",
       "9                    2    387  153                        D9   \n",
       "\n",
       "   RESIDENTIAL UNITS  COMMERCIAL UNITS  TOTAL UNITS  LAND SQUARE FEET  \\\n",
       "0                  5                 0            5            1633.0   \n",
       "3                 10                 0           10            2272.0   \n",
       "4                  6                 0            6            2369.0   \n",
       "6                  8                 0            8            1750.0   \n",
       "9                 24                 0           24            4489.0   \n",
       "\n",
       "   GROSS SQUARE FEET YEAR BUILT TAX CLASS AT TIME OF SALE  \\\n",
       "0             6440.0       1900                         2   \n",
       "3             6794.0       1913                         2   \n",
       "4             4615.0       1900                         2   \n",
       "6             4226.0       1920                         2   \n",
       "9            18523.0       1920                         2   \n",
       "\n",
       "  BUILDING CLASS AT TIME OF SALE  SALE PRICE  SALE DATE  \n",
       "0                             C2   6625000.0 2017-07-19  \n",
       "3                             C4   3936272.0 2016-09-23  \n",
       "4                             C2   8000000.0 2016-11-17  \n",
       "6                             C4   3192840.0 2016-09-23  \n",
       "9                             D9  16232000.0 2016-11-07  "
      ]
     },
     "execution_count": 74,
     "metadata": {},
     "output_type": "execute_result"
    }
   ],
   "source": [
    "nyc['BOROUGH'] = nyc.BOROUGH.replace({\"Manhattan\": 1, \"Bronx\": 2, \"Brooklyn\": 3, \"Queens\": 4, \"Staten Islands\":5})\n",
    "nyc.head()"
   ]
  },
  {
   "cell_type": "markdown",
   "id": "4363b230-e76b-403b-9f8a-396b4f4937b6",
   "metadata": {},
   "source": [
    "### Correlation Test"
   ]
  },
  {
   "cell_type": "markdown",
   "id": "6484bd1d-fea5-46a3-b043-29e4c937212f",
   "metadata": {},
   "source": [
    "#### Pearson's Correlation Coefficient"
   ]
  },
  {
   "cell_type": "markdown",
   "id": "0b368810-dde0-414e-8bdc-50ac6bc0db3b",
   "metadata": {
    "tags": []
   },
   "source": [
    "**Hipotesis**\n",
    "* H0: Tidak Terdapat Hubungan antar BOROUGH dan SALE PRICE\n",
    "* H1: Terdapat Hubungan antar BOROUGH dan SALE PRICE"
   ]
  },
  {
   "cell_type": "code",
   "execution_count": 75,
   "id": "676c6042-5dcc-48ea-a0e0-1fcfb2f6c99e",
   "metadata": {
    "tags": []
   },
   "outputs": [
    {
     "name": "stdout",
     "output_type": "stream",
     "text": [
      "stat=-0.079, p=0.000\n",
      "Terdapat Hubungan antar BOROUGH dan SALE PRICE\n"
     ]
    }
   ],
   "source": [
    "from scipy.stats import pearsonr\n",
    "data1 = nyc['BOROUGH']\n",
    "data2 = nyc['SALE PRICE']\n",
    "stat, p = pearsonr(data1, data2)\n",
    "\n",
    "print('stat=%.3f, p=%.3f' % (stat, p))\n",
    "if p > 0.05:\n",
    "    print('Tidak Terdapat Hubungan antar BOROUGH dan SALE PRICE')\n",
    "else:\n",
    "    print('Terdapat Hubungan antar BOROUGH dan SALE PRICE')"
   ]
  },
  {
   "cell_type": "markdown",
   "id": "8a09f1c7-545c-49aa-b7c0-4d0a24d82856",
   "metadata": {},
   "source": [
    "#### Kendall's Rank Correlation"
   ]
  },
  {
   "cell_type": "markdown",
   "id": "ace10d4a-bdf6-46ee-b5f7-57927f03998f",
   "metadata": {
    "tags": []
   },
   "source": [
    "**Hipotesis**\n",
    "* H0: Tidak Terdapat Hubungan antar BOROUGH dan SALE PRICE\n",
    "* H1: Terdapat Hubungan antar BOROUGH dan SALE PRICE"
   ]
  },
  {
   "cell_type": "code",
   "execution_count": 76,
   "id": "bf705cb9-3b04-443a-b888-43cf8e8d013b",
   "metadata": {
    "tags": []
   },
   "outputs": [
    {
     "name": "stdout",
     "output_type": "stream",
     "text": [
      "stat=0.066, p=0.000\n",
      "Terdapat Hubungan antar BOROUGH dan SALE PRICE\n"
     ]
    }
   ],
   "source": [
    "from scipy.stats import kendalltau\n",
    "data2 = nyc['SALE PRICE']\n",
    "stat, p = kendalltau(data1, data2)\n",
    "\n",
    "print('stat=%.3f, p=%.3f' % (stat, p))\n",
    "if p > 0.05:\n",
    "    print('Tidak Terdapat Hubungan antar BOROUGH dan SALE PRICE')\n",
    "else:\n",
    "    print('Terdapat Hubungan antar BOROUGH dan SALE PRICE')"
   ]
  },
  {
   "cell_type": "code",
   "execution_count": 77,
   "id": "5bc5f723-a8ee-4f5c-9963-6ea14af9d2d5",
   "metadata": {
    "tags": []
   },
   "outputs": [
    {
     "data": {
      "image/png": "[encoded data removed]",
      "text/plain": [
       "<Figure size 1500x1200 with 2 Axes>"
      ]
     },
     "metadata": {},
     "output_type": "display_data"
    }
   ],
   "source": [
    "corr=nyc.corr()\n",
    "plt.figure(figsize=(15, 12))\n",
    "sns.heatmap(corr, vmax=.8, linewidths=0.01,\n",
    "            square=True,annot=True,cmap='YlGnBu',linecolor=\"white\")\n",
    "plt.title('Correlation Between Features');"
   ]
  },
  {
   "cell_type": "markdown",
   "id": "6ef1d8b6-7f9d-4e08-a8f9-bfb466216104",
   "metadata": {},
   "source": [
    "Dari uji korelasi Pearson's Correlation Coefficient dan Kendall's Rank Correlation, diketahui bahwa SALE PRICE dan BOROUGH terdapat hubungan antar kedua variabel (saling berkorelasi) namun pada plot Correlation Between Features terlihat bahwa SALE PRICE dan BOROUGH memiliki korelasi yang rendah."
   ]
  },
  {
   "cell_type": "markdown",
   "id": "d33b5ebb-2131-4227-a0ed-c5dd87197d38",
   "metadata": {},
   "source": [
    "## Kesimpulan"
   ]
  },
  {
   "cell_type": "markdown",
   "id": "dd7418b2-36b2-4cf1-b217-d6e28bc09f80",
   "metadata": {},
   "source": [
    "Berdasarkan hasil analisis descriptive dan hypotesis dapat disimpulkan bahwa Harga Penjualan dengan:\n",
    "* rata-rata tertinggi terdapat di daerah Manhattan sebesar 19,296,640 dan rata-rata terendah terdapat pada daerah Staten Islands sebesar 527,238.\n",
    "* median tertinggi juga terdapat di daerah Manhattan sebesar 6,500,000 dan terendah terdapat pada daerah Bronx sebesar 371,387.\n",
    "* range tertinggi terdapat di daerah Manhattan sebesar  2,210,000,000 dan rata-rata terendah terdapat pada daerah Staten Islands sebesar 11,900,000.\n",
    "* varian tertinggi terdapat di daerah Manhattan sebesar   8,082,664,831,348,758 dan rata-rata terendah terdapat pada daerah Staten Islands sebesar 218,098,842,650.\n",
    "* standar deviasi tertinggi terdapat di daerah Manhattan sebesar 89,903,640 dan rata-rata terendah terdapat pada daerah Staten Islands sebesar 467,010.\n",
    "* variabel SALE PRICE tidak berdistribusi normal.\n",
    "* variabel SALE PRICE dengan BOROUGH memiliki hubungan dalam korelasi yang rendah."
   ]
  }
 ],
 "metadata": {
  "kernelspec": {
   "display_name": "Python 3 (ipykernel)",
   "language": "python",
   "name": "python3"
  },
  "language_info": {
   "codemirror_mode": {
    "name": "ipython",
    "version": 3
   },
   "file_extension": ".py",
   "mimetype": "text/x-python",
   "name": "python",
   "nbconvert_exporter": "python",
   "pygments_lexer": "ipython3",
   "version": "3.11.4"
  }
 },
 "nbformat": 4,
 "nbformat_minor": 5
}
